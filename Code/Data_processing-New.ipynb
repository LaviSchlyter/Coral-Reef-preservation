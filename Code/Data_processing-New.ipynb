{
 "cells": [
  {
   "cell_type": "markdown",
   "metadata": {},
   "source": [
    "## Data collection and processing of the Pacific Ocean"
   ]
  },
  {
   "cell_type": "code",
   "execution_count": 1,
   "metadata": {},
   "outputs": [
    {
     "name": "stderr",
     "output_type": "stream",
     "text": [
      "/home/lavinia/.local/lib/python3.8/site-packages/geopandas/_compat.py:106: UserWarning: The Shapely GEOS version (3.8.0-CAPI-1.13.1 ) is incompatible with the GEOS version PyGEOS was compiled with (3.9.0-CAPI-1.16.2). Conversions between both will be slow.\n",
      "  warnings.warn(\n"
     ]
    }
   ],
   "source": [
    "# Importing packages\n",
    "import gdal\n",
    "import pandas as pd\n",
    "import numpy as np\n",
    "import geopandas as gpd\n",
    "from io import StringIO\n",
    "from shapely.geometry import Point\n",
    "import osr\n",
    "import matplotlib.pyplot as plt\n",
    "from scipy.spatial import cKDTree\n",
    "import seaborn as sns\n",
    "import os\n",
    "import sys\n",
    "sys.path.insert(0, os.path.abspath(''))\n",
    "\n",
    "import data_processing_helper as dp\n",
    "import practical_functions as pf\n",
    "import xarray as xr\n",
    "import pygrib\n",
    "import cartopy.crs as ccrs\n",
    "import cartopy.feature as cfeature\n",
    "import netCDF4 as nc\n",
    "import requests as rq\n",
    "import shapely\n",
    "from shapely import wkt\n",
    "from shapely.wkt import loads\n",
    "plt.style.use('ggplot') # use ggplot style"
   ]
  },
  {
   "cell_type": "markdown",
   "metadata": {},
   "source": [
    "## Loading the Shapefiles for the Pacific"
   ]
  },
  {
   "cell_type": "code",
   "execution_count": 2,
   "metadata": {},
   "outputs": [],
   "source": [
    "gdf_AUS = gpd.read_file('../Data/Reefs/shp_GBR/Reefs_GBR.shp')\n",
    "gdf_IND = gpd.read_file('../Data/Reefs/shp_indonesia/indonesia.shp')\n",
    "gdf_TLS = gpd.read_file('../Data/Reefs/shp_timorleste/timorleste.shp')\n",
    "gdf_SLB = gpd.read_file('../Data/Reefs/shp_solomon/solomon.shp')\n",
    "\n",
    "# Combining the shapefiles\n",
    "gdf_PAC = gpd.GeoDataFrame(pd.concat([gdf_AUS, gdf_IND, gdf_TLS, gdf_SLB]))"
   ]
  },
  {
   "cell_type": "raw",
   "metadata": {},
   "source": [
    "# Plotting the the different shapes\n",
    "gdf_PAC.plot(edgecolor = \"blacK\")"
   ]
  },
  {
   "cell_type": "markdown",
   "metadata": {},
   "source": [
    "## Loading the Survey folder\n",
    "It contains the coordinates of the Survey and the percentage of algae, corals, soft_corals or other_invertebrates\n"
   ]
  },
  {
   "cell_type": "code",
   "execution_count": 6,
   "metadata": {},
   "outputs": [
    {
     "data": {
      "text/html": [
       "<div>\n",
       "<style scoped>\n",
       "    .dataframe tbody tr th:only-of-type {\n",
       "        vertical-align: middle;\n",
       "    }\n",
       "\n",
       "    .dataframe tbody tr th {\n",
       "        vertical-align: top;\n",
       "    }\n",
       "\n",
       "    .dataframe thead th {\n",
       "        text-align: right;\n",
       "    }\n",
       "</style>\n",
       "<table border=\"1\" class=\"dataframe\">\n",
       "  <thead>\n",
       "    <tr style=\"text-align: right;\">\n",
       "      <th></th>\n",
       "      <th>surveyid</th>\n",
       "      <th>transectid</th>\n",
       "      <th>surveydate</th>\n",
       "      <th>ocean</th>\n",
       "      <th>country</th>\n",
       "      <th>folder_name</th>\n",
       "      <th>lat_start</th>\n",
       "      <th>lng_start</th>\n",
       "      <th>lat_end</th>\n",
       "      <th>lng_end</th>\n",
       "      <th>pr_hard_coral</th>\n",
       "      <th>pr_algae</th>\n",
       "      <th>pr_soft_coral</th>\n",
       "      <th>pr_oth_invert</th>\n",
       "      <th>pr_other</th>\n",
       "    </tr>\n",
       "  </thead>\n",
       "  <tbody>\n",
       "    <tr>\n",
       "      <th>0</th>\n",
       "      <td>10001</td>\n",
       "      <td>10001</td>\n",
       "      <td>20120916</td>\n",
       "      <td>PAC</td>\n",
       "      <td>AUS</td>\n",
       "      <td>PAC_AUS_10001_201209</td>\n",
       "      <td>-16.189023</td>\n",
       "      <td>145.898104</td>\n",
       "      <td>-16.191761</td>\n",
       "      <td>145.894088</td>\n",
       "      <td>0.1856</td>\n",
       "      <td>0.3724</td>\n",
       "      <td>0.2710</td>\n",
       "      <td>0.0010</td>\n",
       "      <td>0.1700</td>\n",
       "    </tr>\n",
       "    <tr>\n",
       "      <th>1</th>\n",
       "      <td>10002</td>\n",
       "      <td>10002</td>\n",
       "      <td>20120917</td>\n",
       "      <td>PAC</td>\n",
       "      <td>AUS</td>\n",
       "      <td>PAC_AUS_10002_201209</td>\n",
       "      <td>-16.189303</td>\n",
       "      <td>145.898254</td>\n",
       "      <td>-16.175947</td>\n",
       "      <td>145.889736</td>\n",
       "      <td>0.1364</td>\n",
       "      <td>0.4766</td>\n",
       "      <td>0.3079</td>\n",
       "      <td>0.0020</td>\n",
       "      <td>0.0771</td>\n",
       "    </tr>\n",
       "    <tr>\n",
       "      <th>2</th>\n",
       "      <td>10003</td>\n",
       "      <td>10003</td>\n",
       "      <td>20120918</td>\n",
       "      <td>PAC</td>\n",
       "      <td>AUS</td>\n",
       "      <td>PAC_AUS_10003_201209</td>\n",
       "      <td>-16.175768</td>\n",
       "      <td>145.891676</td>\n",
       "      <td>-16.181218</td>\n",
       "      <td>145.888904</td>\n",
       "      <td>0.2475</td>\n",
       "      <td>0.5653</td>\n",
       "      <td>0.0747</td>\n",
       "      <td>0.0207</td>\n",
       "      <td>0.0917</td>\n",
       "    </tr>\n",
       "    <tr>\n",
       "      <th>3</th>\n",
       "      <td>10004</td>\n",
       "      <td>10004</td>\n",
       "      <td>20120920</td>\n",
       "      <td>PAC</td>\n",
       "      <td>AUS</td>\n",
       "      <td>PAC_AUS_10004_201209</td>\n",
       "      <td>-16.536645</td>\n",
       "      <td>147.806796</td>\n",
       "      <td>-16.524287</td>\n",
       "      <td>147.843325</td>\n",
       "      <td>0.1242</td>\n",
       "      <td>0.5706</td>\n",
       "      <td>0.0279</td>\n",
       "      <td>0.0023</td>\n",
       "      <td>0.2748</td>\n",
       "    </tr>\n",
       "    <tr>\n",
       "      <th>4</th>\n",
       "      <td>10005</td>\n",
       "      <td>10005</td>\n",
       "      <td>20120920</td>\n",
       "      <td>PAC</td>\n",
       "      <td>AUS</td>\n",
       "      <td>PAC_AUS_10005_201209</td>\n",
       "      <td>-16.529216</td>\n",
       "      <td>147.802582</td>\n",
       "      <td>-16.521689</td>\n",
       "      <td>147.836180</td>\n",
       "      <td>0.0781</td>\n",
       "      <td>0.7894</td>\n",
       "      <td>0.0096</td>\n",
       "      <td>0.0029</td>\n",
       "      <td>0.1201</td>\n",
       "    </tr>\n",
       "  </tbody>\n",
       "</table>\n",
       "</div>"
      ],
      "text/plain": [
       "   surveyid  transectid  surveydate ocean country           folder_name  \\\n",
       "0     10001       10001    20120916   PAC     AUS  PAC_AUS_10001_201209   \n",
       "1     10002       10002    20120917   PAC     AUS  PAC_AUS_10002_201209   \n",
       "2     10003       10003    20120918   PAC     AUS  PAC_AUS_10003_201209   \n",
       "3     10004       10004    20120920   PAC     AUS  PAC_AUS_10004_201209   \n",
       "4     10005       10005    20120920   PAC     AUS  PAC_AUS_10005_201209   \n",
       "\n",
       "   lat_start   lng_start    lat_end     lng_end  pr_hard_coral  pr_algae  \\\n",
       "0 -16.189023  145.898104 -16.191761  145.894088         0.1856    0.3724   \n",
       "1 -16.189303  145.898254 -16.175947  145.889736         0.1364    0.4766   \n",
       "2 -16.175768  145.891676 -16.181218  145.888904         0.2475    0.5653   \n",
       "3 -16.536645  147.806796 -16.524287  147.843325         0.1242    0.5706   \n",
       "4 -16.529216  147.802582 -16.521689  147.836180         0.0781    0.7894   \n",
       "\n",
       "   pr_soft_coral  pr_oth_invert  pr_other  \n",
       "0         0.2710         0.0010    0.1700  \n",
       "1         0.3079         0.0020    0.0771  \n",
       "2         0.0747         0.0207    0.0917  \n",
       "3         0.0279         0.0023    0.2748  \n",
       "4         0.0096         0.0029    0.1201  "
      ]
     },
     "execution_count": 6,
     "metadata": {},
     "output_type": "execute_result"
    }
   ],
   "source": [
    "Survey_global = pd.read_csv(\"../Data/Reefs/seaviewsurvey_surveys.csv\")\n",
    "Survey_global.head()"
   ]
  },
  {
   "cell_type": "code",
   "execution_count": 7,
   "metadata": {},
   "outputs": [
    {
     "name": "stdout",
     "output_type": "stream",
     "text": [
      "We now have a total of : 421  Surveys\n"
     ]
    },
    {
     "data": {
      "text/html": [
       "<div>\n",
       "<style scoped>\n",
       "    .dataframe tbody tr th:only-of-type {\n",
       "        vertical-align: middle;\n",
       "    }\n",
       "\n",
       "    .dataframe tbody tr th {\n",
       "        vertical-align: top;\n",
       "    }\n",
       "\n",
       "    .dataframe thead th {\n",
       "        text-align: right;\n",
       "    }\n",
       "</style>\n",
       "<table border=\"1\" class=\"dataframe\">\n",
       "  <thead>\n",
       "    <tr style=\"text-align: right;\">\n",
       "      <th></th>\n",
       "      <th>surveyid</th>\n",
       "      <th>transectid</th>\n",
       "      <th>surveydate</th>\n",
       "      <th>ocean</th>\n",
       "      <th>country</th>\n",
       "      <th>folder_name</th>\n",
       "      <th>lat_start</th>\n",
       "      <th>lng_start</th>\n",
       "      <th>lat_end</th>\n",
       "      <th>lng_end</th>\n",
       "      <th>pr_hard_coral</th>\n",
       "      <th>pr_algae</th>\n",
       "      <th>pr_soft_coral</th>\n",
       "      <th>pr_oth_invert</th>\n",
       "      <th>pr_other</th>\n",
       "    </tr>\n",
       "  </thead>\n",
       "  <tbody>\n",
       "    <tr>\n",
       "      <th>0</th>\n",
       "      <td>10001</td>\n",
       "      <td>10001</td>\n",
       "      <td>20120916</td>\n",
       "      <td>PAC</td>\n",
       "      <td>AUS</td>\n",
       "      <td>PAC_AUS_10001_201209</td>\n",
       "      <td>-16.189023</td>\n",
       "      <td>145.898104</td>\n",
       "      <td>-16.191761</td>\n",
       "      <td>145.894088</td>\n",
       "      <td>0.1856</td>\n",
       "      <td>0.3724</td>\n",
       "      <td>0.2710</td>\n",
       "      <td>0.0010</td>\n",
       "      <td>0.1700</td>\n",
       "    </tr>\n",
       "    <tr>\n",
       "      <th>1</th>\n",
       "      <td>10002</td>\n",
       "      <td>10002</td>\n",
       "      <td>20120917</td>\n",
       "      <td>PAC</td>\n",
       "      <td>AUS</td>\n",
       "      <td>PAC_AUS_10002_201209</td>\n",
       "      <td>-16.189303</td>\n",
       "      <td>145.898254</td>\n",
       "      <td>-16.175947</td>\n",
       "      <td>145.889736</td>\n",
       "      <td>0.1364</td>\n",
       "      <td>0.4766</td>\n",
       "      <td>0.3079</td>\n",
       "      <td>0.0020</td>\n",
       "      <td>0.0771</td>\n",
       "    </tr>\n",
       "    <tr>\n",
       "      <th>2</th>\n",
       "      <td>10003</td>\n",
       "      <td>10003</td>\n",
       "      <td>20120918</td>\n",
       "      <td>PAC</td>\n",
       "      <td>AUS</td>\n",
       "      <td>PAC_AUS_10003_201209</td>\n",
       "      <td>-16.175768</td>\n",
       "      <td>145.891676</td>\n",
       "      <td>-16.181218</td>\n",
       "      <td>145.888904</td>\n",
       "      <td>0.2475</td>\n",
       "      <td>0.5653</td>\n",
       "      <td>0.0747</td>\n",
       "      <td>0.0207</td>\n",
       "      <td>0.0917</td>\n",
       "    </tr>\n",
       "    <tr>\n",
       "      <th>3</th>\n",
       "      <td>10004</td>\n",
       "      <td>10004</td>\n",
       "      <td>20120920</td>\n",
       "      <td>PAC</td>\n",
       "      <td>AUS</td>\n",
       "      <td>PAC_AUS_10004_201209</td>\n",
       "      <td>-16.536645</td>\n",
       "      <td>147.806796</td>\n",
       "      <td>-16.524287</td>\n",
       "      <td>147.843325</td>\n",
       "      <td>0.1242</td>\n",
       "      <td>0.5706</td>\n",
       "      <td>0.0279</td>\n",
       "      <td>0.0023</td>\n",
       "      <td>0.2748</td>\n",
       "    </tr>\n",
       "    <tr>\n",
       "      <th>4</th>\n",
       "      <td>10005</td>\n",
       "      <td>10005</td>\n",
       "      <td>20120920</td>\n",
       "      <td>PAC</td>\n",
       "      <td>AUS</td>\n",
       "      <td>PAC_AUS_10005_201209</td>\n",
       "      <td>-16.529216</td>\n",
       "      <td>147.802582</td>\n",
       "      <td>-16.521689</td>\n",
       "      <td>147.836180</td>\n",
       "      <td>0.0781</td>\n",
       "      <td>0.7894</td>\n",
       "      <td>0.0096</td>\n",
       "      <td>0.0029</td>\n",
       "      <td>0.1201</td>\n",
       "    </tr>\n",
       "  </tbody>\n",
       "</table>\n",
       "</div>"
      ],
      "text/plain": [
       "   surveyid  transectid  surveydate ocean country           folder_name  \\\n",
       "0     10001       10001    20120916   PAC     AUS  PAC_AUS_10001_201209   \n",
       "1     10002       10002    20120917   PAC     AUS  PAC_AUS_10002_201209   \n",
       "2     10003       10003    20120918   PAC     AUS  PAC_AUS_10003_201209   \n",
       "3     10004       10004    20120920   PAC     AUS  PAC_AUS_10004_201209   \n",
       "4     10005       10005    20120920   PAC     AUS  PAC_AUS_10005_201209   \n",
       "\n",
       "   lat_start   lng_start    lat_end     lng_end  pr_hard_coral  pr_algae  \\\n",
       "0 -16.189023  145.898104 -16.191761  145.894088         0.1856    0.3724   \n",
       "1 -16.189303  145.898254 -16.175947  145.889736         0.1364    0.4766   \n",
       "2 -16.175768  145.891676 -16.181218  145.888904         0.2475    0.5653   \n",
       "3 -16.536645  147.806796 -16.524287  147.843325         0.1242    0.5706   \n",
       "4 -16.529216  147.802582 -16.521689  147.836180         0.0781    0.7894   \n",
       "\n",
       "   pr_soft_coral  pr_oth_invert  pr_other  \n",
       "0         0.2710         0.0010    0.1700  \n",
       "1         0.3079         0.0020    0.0771  \n",
       "2         0.0747         0.0207    0.0917  \n",
       "3         0.0279         0.0023    0.2748  \n",
       "4         0.0096         0.0029    0.1201  "
      ]
     },
     "execution_count": 7,
     "metadata": {},
     "output_type": "execute_result"
    }
   ],
   "source": [
    "Survey = Survey_global[(Survey_global[\"country\"] == \"AUS\") | (Survey_global[\"country\"] == \"IDN\") | (Survey_global[\"country\"] == \"TLS\")| (Survey_global[\"country\"] == \"SLB\")]\n",
    "print(\"We now have a total of :\",Survey.shape[0], \" Surveys\")\n",
    "Survey.head()"
   ]
  },
  {
   "cell_type": "code",
   "execution_count": 8,
   "metadata": {},
   "outputs": [],
   "source": [
    "# Change date format \n",
    "Survey['surveydate'] = pd.to_datetime(Survey['surveydate'], format='%Y%m%d')"
   ]
  },
  {
   "cell_type": "code",
   "execution_count": 9,
   "metadata": {},
   "outputs": [
    {
     "data": {
      "text/plain": [
       "AUS    261\n",
       "IDN    114\n",
       "TLS     26\n",
       "SLB     20\n",
       "Name: country, dtype: int64"
      ]
     },
     "execution_count": 9,
     "metadata": {},
     "output_type": "execute_result"
    }
   ],
   "source": [
    "# Make pacific survey into GeoDataFrame\n",
    "gSurvey = gpd.GeoDataFrame(Survey, geometry = gpd.points_from_xy(Survey.lat_start, Survey.lng_start))\n",
    "gSurvey[\"country\"].value_counts()"
   ]
  },
  {
   "cell_type": "markdown",
   "metadata": {},
   "source": [
    "We can see that most surveys were taken in Australia followed by Indonesia. With a total of 421 surveys"
   ]
  },
  {
   "cell_type": "code",
   "execution_count": 10,
   "metadata": {},
   "outputs": [],
   "source": [
    "# Keep only month and year\n",
    "gSurvey['surveydate'] = gSurvey['surveydate'].dt.strftime('%Y-%m')"
   ]
  },
  {
   "cell_type": "code",
   "execution_count": 11,
   "metadata": {},
   "outputs": [],
   "source": [
    "# Same content but only for Australia \n",
    "Survey_AUS = Survey_global[Survey_global['country'] == 'AUS']\n"
   ]
  },
  {
   "cell_type": "code",
   "execution_count": 12,
   "metadata": {},
   "outputs": [],
   "source": [
    "shape_GBR = gpd.read_file(\"../Data/GBR_shapes_surveys/Reefs_GBR.shp\")\n",
    "#ax = shape_GBR.plot()\n",
    "#ax.set_title(\"GBR shape file\")\n"
   ]
  },
  {
   "cell_type": "code",
   "execution_count": 13,
   "metadata": {},
   "outputs": [],
   "source": [
    "# Make geo data frame \n",
    "gSurvey_AUS = gpd.GeoDataFrame(Survey_AUS, geometry = gpd.points_from_xy(Survey_AUS.lng_start, Survey_AUS.lat_start))"
   ]
  },
  {
   "cell_type": "code",
   "execution_count": null,
   "metadata": {},
   "outputs": [],
   "source": []
  },
  {
   "attachments": {
    "cd9e3803-4323-47c4-ab0d-0a844740265e.png": {
     "image/png": "[encoded data removed]"
    }
   },
   "cell_type": "markdown",
   "metadata": {},
   "source": [
    "## Wind speed\n",
    "https://cds.climate.copernicus.eu/cdsapp#!/dataset/reanalysis-era5-single-levels-monthly-means?tab=form\n",
    "\n",
    "\n",
    "For these coordinates:\n",
    "\n",
    "\n",
    "![image.png](attachment:cd9e3803-4323-47c4-ab0d-0a844740265e.png)\n",
    "\n",
    "\n",
    "\n",
    "**Be careful, various users have stated how slow this download is** : https://confluence.ecmwf.int/pages/viewpage.action?pageId=143050283\n",
    "\n"
   ]
  },
  {
   "cell_type": "raw",
   "metadata": {},
   "source": [
    "import cdsapi\n",
    "\n",
    "c = cdsapi.Client()\n",
    "\n",
    "c.retrieve(\n",
    "    'reanalysis-era5-single-levels-monthly-means',\n",
    "    {\n",
    "        'format': 'grib',\n",
    "        'product_type': 'monthly_averaged_reanalysis',\n",
    "        'variable': '10m_wind_speed',\n",
    "        'year': [\n",
    "            '2000', '2001', '2002',\n",
    "            '2003', '2004', '2005',\n",
    "            '2006', '2007', '2008',\n",
    "            '2009', '2010', '2011',\n",
    "            '2012', '2013', '2014',\n",
    "            '2015', '2016', '2017',\n",
    "            '2018', '2019', '2020',\n",
    "            '2021',\n",
    "        ],\n",
    "        'month': [\n",
    "            '01', '02', '03',\n",
    "            '04', '05', '06',\n",
    "            '07', '08', '09',\n",
    "            '10', '11', '12',\n",
    "        ],\n",
    "        'time': '00:00',\n",
    "        'area': [\n",
    "            4, 100, -24,\n",
    "            160,\n",
    "        ],\n",
    "    },\n",
    "    'download.grib')\n",
    "\n",
    "ds_wind = xr.open_dataset(\"../Data/Environmental_data/wind_monthly.grib\", engine = \"cfgrib\")\n",
    "\n",
    "cdf_wind = ds_wind.to_netcdf(\"../Data/Environmental_data/wind_monthly.nc\")"
   ]
  },
  {
   "cell_type": "code",
   "execution_count": 17,
   "metadata": {},
   "outputs": [],
   "source": [
    "# Load xarray\n",
    "ds_wind = xr.open_dataset(\"../Data/Environmental_data/wind_monthly.nc\")"
   ]
  },
  {
   "cell_type": "code",
   "execution_count": 18,
   "metadata": {},
   "outputs": [],
   "source": [
    "# Make dataframe\n",
    "df_wind = ds_wind.to_dataframe()\n"
   ]
  },
  {
   "cell_type": "code",
   "execution_count": 19,
   "metadata": {},
   "outputs": [],
   "source": [
    "# Rename and reset longitude and latitude index\n",
    "df_wind.rename(columns = {\"si10\":\"wind_speed\"}, inplace = True)\n"
   ]
  },
  {
   "cell_type": "code",
   "execution_count": 20,
   "metadata": {},
   "outputs": [],
   "source": [
    "df_wind.reset_index(inplace = True)"
   ]
  },
  {
   "cell_type": "code",
   "execution_count": 21,
   "metadata": {},
   "outputs": [],
   "source": [
    "gdf_wind = gpd.GeoDataFrame(df_wind, geometry=gpd.points_from_xy(df_wind.latitude, df_wind.longitude))\n",
    "# Keep only month and year\n",
    "gdf_wind[\"time\"] = gdf_wind[\"time\"].dt.strftime('%Y-%m')"
   ]
  },
  {
   "cell_type": "code",
   "execution_count": 22,
   "metadata": {},
   "outputs": [],
   "source": [
    "# Drop useless columns\n",
    "gdf_wind.drop(columns = ['latitude', 'longitude', 'number', 'step', 'surface',\n",
    "       'valid_time'], inplace = True)\n",
    "gSurvey.drop(columns = ['surveyid', 'ocean', \n",
    "       'folder_name', 'lat_end', 'lng_end',\n",
    "       'pr_hard_coral', 'pr_algae', 'pr_soft_coral', 'pr_oth_invert',\n",
    "       'pr_other'], inplace = True)"
   ]
  },
  {
   "cell_type": "code",
   "execution_count": 23,
   "metadata": {},
   "outputs": [],
   "source": [
    "# Look at the dates which are unique within the survey (month and year)\n",
    "dates_surveys = gSurvey['surveydate'].unique()"
   ]
  },
  {
   "cell_type": "code",
   "execution_count": 24,
   "metadata": {},
   "outputs": [],
   "source": [
    "frames_all = dp.merge_(gSurvey,gdf_wind, dates_surveys)"
   ]
  },
  {
   "cell_type": "code",
   "execution_count": 26,
   "metadata": {},
   "outputs": [],
   "source": [
    "# Add wind_speed to geoframe\n",
    "gSurvey[\"wind_speed\"] = frames_all[\"wind_speed\"].to_list()"
   ]
  },
  {
   "cell_type": "code",
   "execution_count": 27,
   "metadata": {},
   "outputs": [
    {
     "data": {
      "text/plain": [
       "(421, 7)"
      ]
     },
     "execution_count": 27,
     "metadata": {},
     "output_type": "execute_result"
    }
   ],
   "source": [
    "gSurvey.shape"
   ]
  },
  {
   "cell_type": "code",
   "execution_count": 28,
   "metadata": {},
   "outputs": [],
   "source": [
    "Survey.drop(columns = ['surveyid', 'ocean', 'country',\n",
    "       'folder_name', 'lat_start', 'lng_start', 'lat_end', 'lng_end',\n",
    "        'geometry'], inplace = True)"
   ]
  },
  {
   "cell_type": "code",
   "execution_count": 29,
   "metadata": {},
   "outputs": [],
   "source": [
    "# Merge with Survey\n",
    "df_merge_w = pd.merge(Survey, gSurvey,on = [\"surveydate\",\"transectid\"], how = \"left\")"
   ]
  },
  {
   "cell_type": "code",
   "execution_count": 30,
   "metadata": {},
   "outputs": [
    {
     "name": "stdout",
     "output_type": "stream",
     "text": [
      "1    411\n",
      "4      5\n",
      "dtype: int64\n",
      "You have 5 surveys with 4 duplicates...remove to ease computation\n"
     ]
    }
   ],
   "source": [
    "dups_sur_trans = df_merge_w.pivot_table(index=['surveydate','transectid'], aggfunc='size')\n",
    "print (dups_sur_trans.value_counts())\n",
    "print(\"You have 5 surveys with 4 duplicates...remove to ease computation\")"
   ]
  },
  {
   "cell_type": "code",
   "execution_count": 31,
   "metadata": {},
   "outputs": [
    {
     "data": {
      "text/plain": [
       "surveydate  transectid\n",
       "2014-05     12029         4\n",
       "2018-06     32003         4\n",
       "            32024         4\n",
       "            32026         4\n",
       "            32030         4\n",
       "dtype: int64"
      ]
     },
     "execution_count": 31,
     "metadata": {},
     "output_type": "execute_result"
    }
   ],
   "source": [
    "dups_sur_trans[dups_sur_trans == 4]"
   ]
  },
  {
   "cell_type": "code",
   "execution_count": 32,
   "metadata": {},
   "outputs": [],
   "source": [
    "# Here I drop the duplicates on time and transectid, indeed I could just take the mean of them instead of \n",
    "# keeping only first value\n",
    "df_mer_w = df_merge_w.drop_duplicates(subset=[\"surveydate\",\"transectid\"], keep=\"first\", inplace = False)"
   ]
  },
  {
   "cell_type": "markdown",
   "metadata": {},
   "source": [
    "### Chlorophyll Copernicus\n",
    "\n"
   ]
  },
  {
   "cell_type": "markdown",
   "metadata": {},
   "source": [
    "import cdsapi\n",
    "def import_chloro(year_list, name):\n",
    "    c = cdsapi.Client()\n",
    "\n",
    "    c.retrieve(\n",
    "        'satellite-ocean-colour',\n",
    "        {\n",
    "            'format': 'tgz',\n",
    "            'variable': 'mass_concentration_of_chlorophyll_a',\n",
    "            'projection': 'regular_latitude_longitude_grid',\n",
    "            'year': year_list,\n",
    "            'month': [\n",
    "                '01', '02', '03',\n",
    "                '04', '05', '06',\n",
    "                '07', '08', '09',\n",
    "                '10', '11', '12',\n",
    "            ],\n",
    "            'day': '01',\n",
    "            'version': '5.0',\n",
    "        },\n",
    "        '%s.tar.gz' %name)\n",
    "\n",
    "\n",
    "import_chloro([\"2012\", \"2014\"], \"chlorophyll_12_14\")\n",
    "import_chloro([\"2016\", \"2017\"], \"chlorophyll_16_17\")\n",
    "import_chloro([\"2018\"], \"chlorophyll_18\")"
   ]
  },
  {
   "cell_type": "markdown",
   "metadata": {},
   "source": [
    "ds_chlor = xr.open_mfdataset(\"../Data/Environmental_data/chlorophyll/ESACCI-OC-L3S-CHLOR_A-MERGED-1D_DAILY_4km*.nc\")"
   ]
  },
  {
   "cell_type": "markdown",
   "metadata": {},
   "source": [
    "# Bounds of coordinates for Pacific\n",
    "latbounds = [-24, 4]\n",
    "lonbounds = [100, 160]\n",
    "lats = ds_chlor.variables[\"lat\"][:]\n",
    "lons = ds_chlor.variables[\"lon\"][:]\n",
    "# latitude lower and upper index\n",
    "latli = np.argmin( np.abs( lats - latbounds[0] ).values )\n",
    "latui = np.argmin( np.abs( lats - latbounds[1] ).values ) \n",
    "# longitude lower and upper index\n",
    "lonli = np.argmin( np.abs( lons - lonbounds[0] ).values )\n",
    "lonui = np.argmin( np.abs( lons - lonbounds[1] ).values )  \n",
    "\n"
   ]
  },
  {
   "cell_type": "markdown",
   "metadata": {},
   "source": [
    "# Subset for the given coordinates\n",
    "ChlorSubset = ds_chlor.variables['chlor_a'][ : , latui:latli , lonli:lonui ] \n"
   ]
  },
  {
   "cell_type": "markdown",
   "metadata": {},
   "source": [
    "# Dataset with the chlor amongst the different coordinates\n",
    "ds_sub_chlor = xr.Dataset(data_vars={\"Chlor\": ChlorSubset}, coords = {\"lon\":ds_chlor[\"lon\"][lonli:lonui], \"lat\": ds_chlor[\"lat\"][latui:latli], \"time\":ds_chlor[\"time\"]})\n"
   ]
  },
  {
   "cell_type": "markdown",
   "metadata": {},
   "source": [
    "df_chlor = ds_sub_chlor.to_dataframe()\n"
   ]
  },
  {
   "cell_type": "markdown",
   "metadata": {},
   "source": []
  },
  {
   "cell_type": "markdown",
   "metadata": {},
   "source": [
    "\n",
    "df_chlor.reset_index(inplace = True)"
   ]
  },
  {
   "cell_type": "markdown",
   "metadata": {},
   "source": [
    "# Many NaN values\n",
    "df_chlor.head()"
   ]
  },
  {
   "cell_type": "markdown",
   "metadata": {},
   "source": [
    "df_chlor.to_csv(\"../Data/Environmental_data/df_chlor.csv\", index = False)"
   ]
  },
  {
   "cell_type": "raw",
   "metadata": {},
   "source": [
    "print(\"Fraction of unknown \", df_chlor[\"Chlor\"].isna().sum()/len(df_chlor[\"Chlor\"]))"
   ]
  },
  {
   "cell_type": "raw",
   "metadata": {},
   "source": [
    "# remove the Nan values, so that it automatically takes the other ones that are closest\n",
    "df_chlor = df_chlor.dropna(axis = 0)"
   ]
  },
  {
   "cell_type": "raw",
   "metadata": {},
   "source": [
    "df_chlor.to_csv(\"../Data/Environmental_data/df_chlor.csv\", index = False)"
   ]
  },
  {
   "cell_type": "code",
   "execution_count": 33,
   "metadata": {},
   "outputs": [
    {
     "data": {
      "text/html": [
       "<div>\n",
       "<style scoped>\n",
       "    .dataframe tbody tr th:only-of-type {\n",
       "        vertical-align: middle;\n",
       "    }\n",
       "\n",
       "    .dataframe tbody tr th {\n",
       "        vertical-align: top;\n",
       "    }\n",
       "\n",
       "    .dataframe thead th {\n",
       "        text-align: right;\n",
       "    }\n",
       "</style>\n",
       "<table border=\"1\" class=\"dataframe\">\n",
       "  <thead>\n",
       "    <tr style=\"text-align: right;\">\n",
       "      <th></th>\n",
       "      <th>lat</th>\n",
       "      <th>lon</th>\n",
       "      <th>time</th>\n",
       "      <th>Chlor</th>\n",
       "    </tr>\n",
       "  </thead>\n",
       "  <tbody>\n",
       "    <tr>\n",
       "      <th>0</th>\n",
       "      <td>3.979167</td>\n",
       "      <td>100.020833</td>\n",
       "      <td>2012-02-01</td>\n",
       "      <td>0.647330</td>\n",
       "    </tr>\n",
       "    <tr>\n",
       "      <th>1</th>\n",
       "      <td>3.979167</td>\n",
       "      <td>100.020833</td>\n",
       "      <td>2016-03-01</td>\n",
       "      <td>0.601783</td>\n",
       "    </tr>\n",
       "    <tr>\n",
       "      <th>2</th>\n",
       "      <td>3.979167</td>\n",
       "      <td>100.020833</td>\n",
       "      <td>2016-08-01</td>\n",
       "      <td>0.573502</td>\n",
       "    </tr>\n",
       "    <tr>\n",
       "      <th>3</th>\n",
       "      <td>3.979167</td>\n",
       "      <td>100.020833</td>\n",
       "      <td>2017-01-01</td>\n",
       "      <td>0.612619</td>\n",
       "    </tr>\n",
       "    <tr>\n",
       "      <th>4</th>\n",
       "      <td>3.979167</td>\n",
       "      <td>100.020833</td>\n",
       "      <td>2017-06-01</td>\n",
       "      <td>0.750544</td>\n",
       "    </tr>\n",
       "  </tbody>\n",
       "</table>\n",
       "</div>"
      ],
      "text/plain": [
       "        lat         lon        time     Chlor\n",
       "0  3.979167  100.020833  2012-02-01  0.647330\n",
       "1  3.979167  100.020833  2016-03-01  0.601783\n",
       "2  3.979167  100.020833  2016-08-01  0.573502\n",
       "3  3.979167  100.020833  2017-01-01  0.612619\n",
       "4  3.979167  100.020833  2017-06-01  0.750544"
      ]
     },
     "execution_count": 33,
     "metadata": {},
     "output_type": "execute_result"
    }
   ],
   "source": [
    "df_chlor = pd.read_csv(\"../Data/Environmental_data/df_chlor.csv\")\n",
    "df_chlor.head()"
   ]
  },
  {
   "cell_type": "code",
   "execution_count": 34,
   "metadata": {},
   "outputs": [],
   "source": [
    "# Change to datetime format\n",
    "df_chlor['time'] = pd.to_datetime(df_chlor['time'], errors='coerce')"
   ]
  },
  {
   "cell_type": "raw",
   "metadata": {},
   "source": [
    "df_chlor.head()"
   ]
  },
  {
   "cell_type": "code",
   "execution_count": 35,
   "metadata": {},
   "outputs": [
    {
     "data": {
      "text/html": [
       "<div>\n",
       "<style scoped>\n",
       "    .dataframe tbody tr th:only-of-type {\n",
       "        vertical-align: middle;\n",
       "    }\n",
       "\n",
       "    .dataframe tbody tr th {\n",
       "        vertical-align: top;\n",
       "    }\n",
       "\n",
       "    .dataframe thead th {\n",
       "        text-align: right;\n",
       "    }\n",
       "</style>\n",
       "<table border=\"1\" class=\"dataframe\">\n",
       "  <thead>\n",
       "    <tr style=\"text-align: right;\">\n",
       "      <th></th>\n",
       "      <th>lat</th>\n",
       "      <th>lon</th>\n",
       "      <th>time</th>\n",
       "      <th>Chlor</th>\n",
       "    </tr>\n",
       "  </thead>\n",
       "  <tbody>\n",
       "    <tr>\n",
       "      <th>0</th>\n",
       "      <td>3.979167</td>\n",
       "      <td>100.020833</td>\n",
       "      <td>2012-02</td>\n",
       "      <td>0.647330</td>\n",
       "    </tr>\n",
       "    <tr>\n",
       "      <th>1</th>\n",
       "      <td>3.979167</td>\n",
       "      <td>100.020833</td>\n",
       "      <td>2016-03</td>\n",
       "      <td>0.601783</td>\n",
       "    </tr>\n",
       "    <tr>\n",
       "      <th>2</th>\n",
       "      <td>3.979167</td>\n",
       "      <td>100.020833</td>\n",
       "      <td>2016-08</td>\n",
       "      <td>0.573502</td>\n",
       "    </tr>\n",
       "    <tr>\n",
       "      <th>3</th>\n",
       "      <td>3.979167</td>\n",
       "      <td>100.020833</td>\n",
       "      <td>2017-01</td>\n",
       "      <td>0.612619</td>\n",
       "    </tr>\n",
       "    <tr>\n",
       "      <th>4</th>\n",
       "      <td>3.979167</td>\n",
       "      <td>100.020833</td>\n",
       "      <td>2017-06</td>\n",
       "      <td>0.750544</td>\n",
       "    </tr>\n",
       "  </tbody>\n",
       "</table>\n",
       "</div>"
      ],
      "text/plain": [
       "        lat         lon     time     Chlor\n",
       "0  3.979167  100.020833  2012-02  0.647330\n",
       "1  3.979167  100.020833  2016-03  0.601783\n",
       "2  3.979167  100.020833  2016-08  0.573502\n",
       "3  3.979167  100.020833  2017-01  0.612619\n",
       "4  3.979167  100.020833  2017-06  0.750544"
      ]
     },
     "execution_count": 35,
     "metadata": {},
     "output_type": "execute_result"
    }
   ],
   "source": [
    "# Keep only month and year \n",
    "df_chlor[\"time\"] = df_chlor[\"time\"].dt.strftime('%Y-%m')\n",
    "df_chlor.head()"
   ]
  },
  {
   "cell_type": "code",
   "execution_count": 36,
   "metadata": {},
   "outputs": [
    {
     "name": "stdout",
     "output_type": "stream",
     "text": [
      "        lat         lon     time     Chlor               geometry\n",
      "0  3.979167  100.020833  2012-02  0.647330  POINT (3.979 100.021)\n",
      "1  3.979167  100.020833  2016-03  0.601783  POINT (3.979 100.021)\n",
      "2  3.979167  100.020833  2016-08  0.573502  POINT (3.979 100.021)\n",
      "3  3.979167  100.020833  2017-01  0.612619  POINT (3.979 100.021)\n",
      "4  3.979167  100.020833  2017-06  0.750544  POINT (3.979 100.021)\n"
     ]
    }
   ],
   "source": [
    "gdf_chlor = gpd.GeoDataFrame(df_chlor, geometry=gpd.points_from_xy(df_chlor.lat, df_chlor.lon))\n",
    "\n",
    "print(gdf_chlor.head())"
   ]
  },
  {
   "cell_type": "code",
   "execution_count": 38,
   "metadata": {},
   "outputs": [],
   "source": [
    "df_merged_w_ch = dp.merge_(df_mer_w, gdf_chlor, dates_surveys)\n"
   ]
  },
  {
   "cell_type": "code",
   "execution_count": 39,
   "metadata": {},
   "outputs": [],
   "source": [
    "df_mer_w[\"Chlor\"] = df_merged_w_ch[\"Chlor\"].to_list()\n",
    "df_merged_w_ch = df_mer_w"
   ]
  },
  {
   "cell_type": "code",
   "execution_count": 40,
   "metadata": {},
   "outputs": [],
   "source": [
    "df_merged_w_ch.to_csv(\"../Data/Environmental_data/merged_wind_chlor.csv\", index = False)"
   ]
  },
  {
   "cell_type": "code",
   "execution_count": 41,
   "metadata": {},
   "outputs": [
    {
     "data": {
      "text/html": [
       "<div>\n",
       "<style scoped>\n",
       "    .dataframe tbody tr th:only-of-type {\n",
       "        vertical-align: middle;\n",
       "    }\n",
       "\n",
       "    .dataframe tbody tr th {\n",
       "        vertical-align: top;\n",
       "    }\n",
       "\n",
       "    .dataframe thead th {\n",
       "        text-align: right;\n",
       "    }\n",
       "</style>\n",
       "<table border=\"1\" class=\"dataframe\">\n",
       "  <thead>\n",
       "    <tr style=\"text-align: right;\">\n",
       "      <th></th>\n",
       "      <th>transectid</th>\n",
       "      <th>surveydate</th>\n",
       "      <th>pr_hard_coral</th>\n",
       "      <th>pr_algae</th>\n",
       "      <th>pr_soft_coral</th>\n",
       "      <th>pr_oth_invert</th>\n",
       "      <th>pr_other</th>\n",
       "      <th>country</th>\n",
       "      <th>lat_start</th>\n",
       "      <th>lng_start</th>\n",
       "      <th>geometry</th>\n",
       "      <th>wind_speed</th>\n",
       "      <th>Chlor</th>\n",
       "    </tr>\n",
       "  </thead>\n",
       "  <tbody>\n",
       "    <tr>\n",
       "      <th>0</th>\n",
       "      <td>10001</td>\n",
       "      <td>2012-09</td>\n",
       "      <td>0.1856</td>\n",
       "      <td>0.3724</td>\n",
       "      <td>0.2710</td>\n",
       "      <td>0.0010</td>\n",
       "      <td>0.1700</td>\n",
       "      <td>AUS</td>\n",
       "      <td>-16.189023</td>\n",
       "      <td>145.898104</td>\n",
       "      <td>POINT (-16.1890227 145.8981037)</td>\n",
       "      <td>6.939368</td>\n",
       "      <td>0.122235</td>\n",
       "    </tr>\n",
       "    <tr>\n",
       "      <th>1</th>\n",
       "      <td>10002</td>\n",
       "      <td>2012-09</td>\n",
       "      <td>0.1364</td>\n",
       "      <td>0.4766</td>\n",
       "      <td>0.3079</td>\n",
       "      <td>0.0020</td>\n",
       "      <td>0.0771</td>\n",
       "      <td>AUS</td>\n",
       "      <td>-16.189303</td>\n",
       "      <td>145.898254</td>\n",
       "      <td>POINT (-16.1893027 145.8982542)</td>\n",
       "      <td>6.939368</td>\n",
       "      <td>0.122235</td>\n",
       "    </tr>\n",
       "    <tr>\n",
       "      <th>2</th>\n",
       "      <td>10003</td>\n",
       "      <td>2012-09</td>\n",
       "      <td>0.2475</td>\n",
       "      <td>0.5653</td>\n",
       "      <td>0.0747</td>\n",
       "      <td>0.0207</td>\n",
       "      <td>0.0917</td>\n",
       "      <td>AUS</td>\n",
       "      <td>-16.175768</td>\n",
       "      <td>145.891676</td>\n",
       "      <td>POINT (-16.1757678 145.8916764)</td>\n",
       "      <td>6.939368</td>\n",
       "      <td>0.122235</td>\n",
       "    </tr>\n",
       "    <tr>\n",
       "      <th>3</th>\n",
       "      <td>10004</td>\n",
       "      <td>2012-09</td>\n",
       "      <td>0.1242</td>\n",
       "      <td>0.5706</td>\n",
       "      <td>0.0279</td>\n",
       "      <td>0.0023</td>\n",
       "      <td>0.2748</td>\n",
       "      <td>AUS</td>\n",
       "      <td>-16.536645</td>\n",
       "      <td>147.806796</td>\n",
       "      <td>POINT (-16.5366452 147.8067956)</td>\n",
       "      <td>6.992591</td>\n",
       "      <td>0.103763</td>\n",
       "    </tr>\n",
       "    <tr>\n",
       "      <th>4</th>\n",
       "      <td>10005</td>\n",
       "      <td>2012-09</td>\n",
       "      <td>0.0781</td>\n",
       "      <td>0.7894</td>\n",
       "      <td>0.0096</td>\n",
       "      <td>0.0029</td>\n",
       "      <td>0.1201</td>\n",
       "      <td>AUS</td>\n",
       "      <td>-16.529216</td>\n",
       "      <td>147.802582</td>\n",
       "      <td>POINT (-16.5292156 147.8025816)</td>\n",
       "      <td>6.992591</td>\n",
       "      <td>0.103763</td>\n",
       "    </tr>\n",
       "  </tbody>\n",
       "</table>\n",
       "</div>"
      ],
      "text/plain": [
       "   transectid surveydate  pr_hard_coral  pr_algae  pr_soft_coral  \\\n",
       "0       10001    2012-09         0.1856    0.3724         0.2710   \n",
       "1       10002    2012-09         0.1364    0.4766         0.3079   \n",
       "2       10003    2012-09         0.2475    0.5653         0.0747   \n",
       "3       10004    2012-09         0.1242    0.5706         0.0279   \n",
       "4       10005    2012-09         0.0781    0.7894         0.0096   \n",
       "\n",
       "   pr_oth_invert  pr_other country  lat_start   lng_start  \\\n",
       "0         0.0010    0.1700     AUS -16.189023  145.898104   \n",
       "1         0.0020    0.0771     AUS -16.189303  145.898254   \n",
       "2         0.0207    0.0917     AUS -16.175768  145.891676   \n",
       "3         0.0023    0.2748     AUS -16.536645  147.806796   \n",
       "4         0.0029    0.1201     AUS -16.529216  147.802582   \n",
       "\n",
       "                          geometry  wind_speed     Chlor  \n",
       "0  POINT (-16.1890227 145.8981037)    6.939368  0.122235  \n",
       "1  POINT (-16.1893027 145.8982542)    6.939368  0.122235  \n",
       "2  POINT (-16.1757678 145.8916764)    6.939368  0.122235  \n",
       "3  POINT (-16.5366452 147.8067956)    6.992591  0.103763  \n",
       "4  POINT (-16.5292156 147.8025816)    6.992591  0.103763  "
      ]
     },
     "execution_count": 41,
     "metadata": {},
     "output_type": "execute_result"
    }
   ],
   "source": [
    "df_merged_w_ch = pd.read_csv(\"../Data/Environmental_data/merged_wind_chlor.csv\")\n",
    "df_merged_w_ch.head()\n"
   ]
  },
  {
   "cell_type": "code",
   "execution_count": 42,
   "metadata": {},
   "outputs": [],
   "source": [
    "from shapely import wkt\n",
    "\n",
    "\n",
    "df_merged_w_ch['geometry'] = df_merged_w_ch['geometry'].apply(wkt.loads)"
   ]
  },
  {
   "cell_type": "markdown",
   "metadata": {},
   "source": [
    "## Solar radiation Copernicus\n"
   ]
  },
  {
   "cell_type": "raw",
   "metadata": {},
   "source": [
    "c = cdsapi.Client()\n",
    "\n",
    "c.retrieve(\n",
    "    'reanalysis-era5-single-levels-monthly-means',\n",
    "    {\n",
    "        'format': 'grib',\n",
    "        'product_type': 'monthly_averaged_reanalysis',\n",
    "        'variable': [\n",
    "            'surface_net_solar_radiation', 'surface_net_solar_radiation_clear_sky',\n",
    "        ],\n",
    "        'year': [\n",
    "            '2012', '2013', '2014',\n",
    "            '2015', '2016', '2017',\n",
    "            '2018',\n",
    "        ],\n",
    "        'month': [\n",
    "            '01', '02', '03',\n",
    "            '04', '05', '06',\n",
    "            '07', '08', '09',\n",
    "            '10', '11', '12',\n",
    "        ],\n",
    "        'time': '00:00',\n",
    "        'area': [\n",
    "            4, 100, -24,\n",
    "            160,\n",
    "        ],\n",
    "    },\n",
    "    'download.grib')"
   ]
  },
  {
   "cell_type": "raw",
   "metadata": {},
   "source": [
    "# Don't run again, cause already there, first time if you only have grib, then yes run\n",
    "#ds_solar = xr.open_dataset(\"../Data/Environmental_data/solar_radiation.grib\", engine = \"cfgrib\")\n",
    "#cdf_solar = ds_solar.to_netcdf(\"../Data/Environmental_data/solar_rad.nc\")\n"
   ]
  },
  {
   "cell_type": "code",
   "execution_count": 43,
   "metadata": {},
   "outputs": [],
   "source": [
    "# Load xarray\n",
    "ds_solar = xr.open_dataset(\"../Data/Environmental_data/solar_rad.nc\")"
   ]
  },
  {
   "cell_type": "code",
   "execution_count": 44,
   "metadata": {},
   "outputs": [],
   "source": [
    "# Surface net solar radiation, clear sky :: SSRC [J m**-2]\n",
    "# Surface net solar radiation :: SSR [J m**-2]\n",
    "# Make dataframe\n",
    "df_solar = ds_solar.to_dataframe()"
   ]
  },
  {
   "cell_type": "code",
   "execution_count": 45,
   "metadata": {},
   "outputs": [],
   "source": [
    "# Rename and reset longitude and latitude index\n",
    "df_solar.rename(columns = {\"ssr\":\"solar_rad\", \"ssrc\":\"solar_rad_clear_sky\"}, inplace = True)"
   ]
  },
  {
   "cell_type": "code",
   "execution_count": 46,
   "metadata": {},
   "outputs": [
    {
     "data": {
      "text/html": [
       "<div>\n",
       "<style scoped>\n",
       "    .dataframe tbody tr th:only-of-type {\n",
       "        vertical-align: middle;\n",
       "    }\n",
       "\n",
       "    .dataframe tbody tr th {\n",
       "        vertical-align: top;\n",
       "    }\n",
       "\n",
       "    .dataframe thead th {\n",
       "        text-align: right;\n",
       "    }\n",
       "</style>\n",
       "<table border=\"1\" class=\"dataframe\">\n",
       "  <thead>\n",
       "    <tr style=\"text-align: right;\">\n",
       "      <th></th>\n",
       "      <th>latitude</th>\n",
       "      <th>longitude</th>\n",
       "      <th>time</th>\n",
       "      <th>number</th>\n",
       "      <th>step</th>\n",
       "      <th>surface</th>\n",
       "      <th>valid_time</th>\n",
       "      <th>solar_rad</th>\n",
       "      <th>solar_rad_clear_sky</th>\n",
       "    </tr>\n",
       "  </thead>\n",
       "  <tbody>\n",
       "    <tr>\n",
       "      <th>0</th>\n",
       "      <td>4.0</td>\n",
       "      <td>100.0</td>\n",
       "      <td>2011-12-31 18:00:00</td>\n",
       "      <td>0</td>\n",
       "      <td>0 days 12:00:00</td>\n",
       "      <td>0</td>\n",
       "      <td>2012-01-01 06:00:00</td>\n",
       "      <td>18220032.0</td>\n",
       "      <td>22505472.0</td>\n",
       "    </tr>\n",
       "    <tr>\n",
       "      <th>1</th>\n",
       "      <td>4.0</td>\n",
       "      <td>100.0</td>\n",
       "      <td>2012-01-31 18:00:00</td>\n",
       "      <td>0</td>\n",
       "      <td>0 days 12:00:00</td>\n",
       "      <td>0</td>\n",
       "      <td>2012-02-01 06:00:00</td>\n",
       "      <td>18947584.0</td>\n",
       "      <td>23912960.0</td>\n",
       "    </tr>\n",
       "    <tr>\n",
       "      <th>2</th>\n",
       "      <td>4.0</td>\n",
       "      <td>100.0</td>\n",
       "      <td>2012-02-29 18:00:00</td>\n",
       "      <td>0</td>\n",
       "      <td>0 days 12:00:00</td>\n",
       "      <td>0</td>\n",
       "      <td>2012-03-01 06:00:00</td>\n",
       "      <td>18467456.0</td>\n",
       "      <td>24934656.0</td>\n",
       "    </tr>\n",
       "    <tr>\n",
       "      <th>3</th>\n",
       "      <td>4.0</td>\n",
       "      <td>100.0</td>\n",
       "      <td>2012-03-31 18:00:00</td>\n",
       "      <td>0</td>\n",
       "      <td>0 days 12:00:00</td>\n",
       "      <td>0</td>\n",
       "      <td>2012-04-01 06:00:00</td>\n",
       "      <td>18638336.0</td>\n",
       "      <td>24757248.0</td>\n",
       "    </tr>\n",
       "    <tr>\n",
       "      <th>4</th>\n",
       "      <td>4.0</td>\n",
       "      <td>100.0</td>\n",
       "      <td>2012-04-30 18:00:00</td>\n",
       "      <td>0</td>\n",
       "      <td>0 days 12:00:00</td>\n",
       "      <td>0</td>\n",
       "      <td>2012-05-01 06:00:00</td>\n",
       "      <td>17528320.0</td>\n",
       "      <td>23803392.0</td>\n",
       "    </tr>\n",
       "  </tbody>\n",
       "</table>\n",
       "</div>"
      ],
      "text/plain": [
       "   latitude  longitude                time  number            step  surface  \\\n",
       "0       4.0      100.0 2011-12-31 18:00:00       0 0 days 12:00:00        0   \n",
       "1       4.0      100.0 2012-01-31 18:00:00       0 0 days 12:00:00        0   \n",
       "2       4.0      100.0 2012-02-29 18:00:00       0 0 days 12:00:00        0   \n",
       "3       4.0      100.0 2012-03-31 18:00:00       0 0 days 12:00:00        0   \n",
       "4       4.0      100.0 2012-04-30 18:00:00       0 0 days 12:00:00        0   \n",
       "\n",
       "           valid_time   solar_rad  solar_rad_clear_sky  \n",
       "0 2012-01-01 06:00:00  18220032.0           22505472.0  \n",
       "1 2012-02-01 06:00:00  18947584.0           23912960.0  \n",
       "2 2012-03-01 06:00:00  18467456.0           24934656.0  \n",
       "3 2012-04-01 06:00:00  18638336.0           24757248.0  \n",
       "4 2012-05-01 06:00:00  17528320.0           23803392.0  "
      ]
     },
     "execution_count": 46,
     "metadata": {},
     "output_type": "execute_result"
    }
   ],
   "source": [
    "df_solar.reset_index(inplace = True)\n",
    "df_solar.head()"
   ]
  },
  {
   "cell_type": "code",
   "execution_count": 47,
   "metadata": {},
   "outputs": [],
   "source": [
    "df_solar.drop(columns = ['number','time', 'step', 'surface'], inplace = True)"
   ]
  },
  {
   "cell_type": "code",
   "execution_count": 48,
   "metadata": {},
   "outputs": [
    {
     "data": {
      "text/html": [
       "<div>\n",
       "<style scoped>\n",
       "    .dataframe tbody tr th:only-of-type {\n",
       "        vertical-align: middle;\n",
       "    }\n",
       "\n",
       "    .dataframe tbody tr th {\n",
       "        vertical-align: top;\n",
       "    }\n",
       "\n",
       "    .dataframe thead th {\n",
       "        text-align: right;\n",
       "    }\n",
       "</style>\n",
       "<table border=\"1\" class=\"dataframe\">\n",
       "  <thead>\n",
       "    <tr style=\"text-align: right;\">\n",
       "      <th></th>\n",
       "      <th>latitude</th>\n",
       "      <th>longitude</th>\n",
       "      <th>valid_time</th>\n",
       "      <th>solar_rad</th>\n",
       "      <th>solar_rad_clear_sky</th>\n",
       "    </tr>\n",
       "  </thead>\n",
       "  <tbody>\n",
       "    <tr>\n",
       "      <th>0</th>\n",
       "      <td>4.0</td>\n",
       "      <td>100.0</td>\n",
       "      <td>2012-01</td>\n",
       "      <td>18220032.0</td>\n",
       "      <td>22505472.0</td>\n",
       "    </tr>\n",
       "    <tr>\n",
       "      <th>1</th>\n",
       "      <td>4.0</td>\n",
       "      <td>100.0</td>\n",
       "      <td>2012-02</td>\n",
       "      <td>18947584.0</td>\n",
       "      <td>23912960.0</td>\n",
       "    </tr>\n",
       "    <tr>\n",
       "      <th>2</th>\n",
       "      <td>4.0</td>\n",
       "      <td>100.0</td>\n",
       "      <td>2012-03</td>\n",
       "      <td>18467456.0</td>\n",
       "      <td>24934656.0</td>\n",
       "    </tr>\n",
       "    <tr>\n",
       "      <th>3</th>\n",
       "      <td>4.0</td>\n",
       "      <td>100.0</td>\n",
       "      <td>2012-04</td>\n",
       "      <td>18638336.0</td>\n",
       "      <td>24757248.0</td>\n",
       "    </tr>\n",
       "    <tr>\n",
       "      <th>4</th>\n",
       "      <td>4.0</td>\n",
       "      <td>100.0</td>\n",
       "      <td>2012-05</td>\n",
       "      <td>17528320.0</td>\n",
       "      <td>23803392.0</td>\n",
       "    </tr>\n",
       "  </tbody>\n",
       "</table>\n",
       "</div>"
      ],
      "text/plain": [
       "   latitude  longitude valid_time   solar_rad  solar_rad_clear_sky\n",
       "0       4.0      100.0    2012-01  18220032.0           22505472.0\n",
       "1       4.0      100.0    2012-02  18947584.0           23912960.0\n",
       "2       4.0      100.0    2012-03  18467456.0           24934656.0\n",
       "3       4.0      100.0    2012-04  18638336.0           24757248.0\n",
       "4       4.0      100.0    2012-05  17528320.0           23803392.0"
      ]
     },
     "execution_count": 48,
     "metadata": {},
     "output_type": "execute_result"
    }
   ],
   "source": [
    "\n",
    "# Keep only month and year \n",
    "df_solar[\"valid_time\"] = df_solar[\"valid_time\"].dt.strftime('%Y-%m')\n",
    "df_solar.head()"
   ]
  },
  {
   "cell_type": "code",
   "execution_count": 49,
   "metadata": {},
   "outputs": [],
   "source": [
    "gdf_solar = gpd.GeoDataFrame(df_solar, geometry=gpd.points_from_xy(df_solar.latitude, df_solar.longitude))\n",
    "gdf_solar.rename(columns = {\"valid_time\" : \"time\"}, inplace = True)"
   ]
  },
  {
   "cell_type": "code",
   "execution_count": 50,
   "metadata": {},
   "outputs": [],
   "source": [
    "df_merged_w_ch_sol = dp.merge_(df_merged_w_ch, gdf_solar, dates_surveys)\n"
   ]
  },
  {
   "cell_type": "code",
   "execution_count": 51,
   "metadata": {},
   "outputs": [
    {
     "data": {
      "text/html": [
       "<div>\n",
       "<style scoped>\n",
       "    .dataframe tbody tr th:only-of-type {\n",
       "        vertical-align: middle;\n",
       "    }\n",
       "\n",
       "    .dataframe tbody tr th {\n",
       "        vertical-align: top;\n",
       "    }\n",
       "\n",
       "    .dataframe thead th {\n",
       "        text-align: right;\n",
       "    }\n",
       "</style>\n",
       "<table border=\"1\" class=\"dataframe\">\n",
       "  <thead>\n",
       "    <tr style=\"text-align: right;\">\n",
       "      <th></th>\n",
       "      <th>transectid</th>\n",
       "      <th>surveydate</th>\n",
       "      <th>pr_hard_coral</th>\n",
       "      <th>pr_algae</th>\n",
       "      <th>pr_soft_coral</th>\n",
       "      <th>pr_oth_invert</th>\n",
       "      <th>pr_other</th>\n",
       "      <th>country</th>\n",
       "      <th>lat_start</th>\n",
       "      <th>lng_start</th>\n",
       "      <th>geometry</th>\n",
       "      <th>wind_speed</th>\n",
       "      <th>Chlor</th>\n",
       "      <th>latitude</th>\n",
       "      <th>longitude</th>\n",
       "      <th>time</th>\n",
       "      <th>solar_rad</th>\n",
       "      <th>solar_rad_clear_sky</th>\n",
       "      <th>dist</th>\n",
       "    </tr>\n",
       "  </thead>\n",
       "  <tbody>\n",
       "    <tr>\n",
       "      <th>0</th>\n",
       "      <td>10001</td>\n",
       "      <td>2012-09</td>\n",
       "      <td>0.1856</td>\n",
       "      <td>0.3724</td>\n",
       "      <td>0.2710</td>\n",
       "      <td>0.0010</td>\n",
       "      <td>0.1700</td>\n",
       "      <td>AUS</td>\n",
       "      <td>-16.189023</td>\n",
       "      <td>145.898104</td>\n",
       "      <td>POINT (-16.1890227 145.8981037)</td>\n",
       "      <td>6.939368</td>\n",
       "      <td>0.122235</td>\n",
       "      <td>-16.25</td>\n",
       "      <td>146.00</td>\n",
       "      <td>2012-09</td>\n",
       "      <td>20889976.0</td>\n",
       "      <td>23943344.0</td>\n",
       "      <td>0.118748</td>\n",
       "    </tr>\n",
       "    <tr>\n",
       "      <th>1</th>\n",
       "      <td>10002</td>\n",
       "      <td>2012-09</td>\n",
       "      <td>0.1364</td>\n",
       "      <td>0.4766</td>\n",
       "      <td>0.3079</td>\n",
       "      <td>0.0020</td>\n",
       "      <td>0.0771</td>\n",
       "      <td>AUS</td>\n",
       "      <td>-16.189303</td>\n",
       "      <td>145.898254</td>\n",
       "      <td>POINT (-16.1893027 145.8982542)</td>\n",
       "      <td>6.939368</td>\n",
       "      <td>0.122235</td>\n",
       "      <td>-16.25</td>\n",
       "      <td>146.00</td>\n",
       "      <td>2012-09</td>\n",
       "      <td>20889976.0</td>\n",
       "      <td>23943344.0</td>\n",
       "      <td>0.118475</td>\n",
       "    </tr>\n",
       "    <tr>\n",
       "      <th>2</th>\n",
       "      <td>10003</td>\n",
       "      <td>2012-09</td>\n",
       "      <td>0.2475</td>\n",
       "      <td>0.5653</td>\n",
       "      <td>0.0747</td>\n",
       "      <td>0.0207</td>\n",
       "      <td>0.0917</td>\n",
       "      <td>AUS</td>\n",
       "      <td>-16.175768</td>\n",
       "      <td>145.891676</td>\n",
       "      <td>POINT (-16.1757678 145.8916764)</td>\n",
       "      <td>6.939368</td>\n",
       "      <td>0.122235</td>\n",
       "      <td>-16.25</td>\n",
       "      <td>146.00</td>\n",
       "      <td>2012-09</td>\n",
       "      <td>20889976.0</td>\n",
       "      <td>23943344.0</td>\n",
       "      <td>0.131318</td>\n",
       "    </tr>\n",
       "    <tr>\n",
       "      <th>3</th>\n",
       "      <td>10004</td>\n",
       "      <td>2012-09</td>\n",
       "      <td>0.1242</td>\n",
       "      <td>0.5706</td>\n",
       "      <td>0.0279</td>\n",
       "      <td>0.0023</td>\n",
       "      <td>0.2748</td>\n",
       "      <td>AUS</td>\n",
       "      <td>-16.536645</td>\n",
       "      <td>147.806796</td>\n",
       "      <td>POINT (-16.5366452 147.8067956)</td>\n",
       "      <td>6.992591</td>\n",
       "      <td>0.103763</td>\n",
       "      <td>-16.50</td>\n",
       "      <td>147.75</td>\n",
       "      <td>2012-09</td>\n",
       "      <td>21851000.0</td>\n",
       "      <td>23912112.0</td>\n",
       "      <td>0.067591</td>\n",
       "    </tr>\n",
       "    <tr>\n",
       "      <th>4</th>\n",
       "      <td>10005</td>\n",
       "      <td>2012-09</td>\n",
       "      <td>0.0781</td>\n",
       "      <td>0.7894</td>\n",
       "      <td>0.0096</td>\n",
       "      <td>0.0029</td>\n",
       "      <td>0.1201</td>\n",
       "      <td>AUS</td>\n",
       "      <td>-16.529216</td>\n",
       "      <td>147.802582</td>\n",
       "      <td>POINT (-16.5292156 147.8025816)</td>\n",
       "      <td>6.992591</td>\n",
       "      <td>0.103763</td>\n",
       "      <td>-16.50</td>\n",
       "      <td>147.75</td>\n",
       "      <td>2012-09</td>\n",
       "      <td>21851000.0</td>\n",
       "      <td>23912112.0</td>\n",
       "      <td>0.060153</td>\n",
       "    </tr>\n",
       "  </tbody>\n",
       "</table>\n",
       "</div>"
      ],
      "text/plain": [
       "   transectid surveydate  pr_hard_coral  pr_algae  pr_soft_coral  \\\n",
       "0       10001    2012-09         0.1856    0.3724         0.2710   \n",
       "1       10002    2012-09         0.1364    0.4766         0.3079   \n",
       "2       10003    2012-09         0.2475    0.5653         0.0747   \n",
       "3       10004    2012-09         0.1242    0.5706         0.0279   \n",
       "4       10005    2012-09         0.0781    0.7894         0.0096   \n",
       "\n",
       "   pr_oth_invert  pr_other country  lat_start   lng_start  \\\n",
       "0         0.0010    0.1700     AUS -16.189023  145.898104   \n",
       "1         0.0020    0.0771     AUS -16.189303  145.898254   \n",
       "2         0.0207    0.0917     AUS -16.175768  145.891676   \n",
       "3         0.0023    0.2748     AUS -16.536645  147.806796   \n",
       "4         0.0029    0.1201     AUS -16.529216  147.802582   \n",
       "\n",
       "                          geometry  wind_speed     Chlor  latitude  longitude  \\\n",
       "0  POINT (-16.1890227 145.8981037)    6.939368  0.122235    -16.25     146.00   \n",
       "1  POINT (-16.1893027 145.8982542)    6.939368  0.122235    -16.25     146.00   \n",
       "2  POINT (-16.1757678 145.8916764)    6.939368  0.122235    -16.25     146.00   \n",
       "3  POINT (-16.5366452 147.8067956)    6.992591  0.103763    -16.50     147.75   \n",
       "4  POINT (-16.5292156 147.8025816)    6.992591  0.103763    -16.50     147.75   \n",
       "\n",
       "      time   solar_rad  solar_rad_clear_sky      dist  \n",
       "0  2012-09  20889976.0           23943344.0  0.118748  \n",
       "1  2012-09  20889976.0           23943344.0  0.118475  \n",
       "2  2012-09  20889976.0           23943344.0  0.131318  \n",
       "3  2012-09  21851000.0           23912112.0  0.067591  \n",
       "4  2012-09  21851000.0           23912112.0  0.060153  "
      ]
     },
     "execution_count": 51,
     "metadata": {},
     "output_type": "execute_result"
    }
   ],
   "source": [
    "df_merged_w_ch_sol.head()"
   ]
  },
  {
   "cell_type": "code",
   "execution_count": 52,
   "metadata": {},
   "outputs": [],
   "source": [
    "df_merged_w_ch[\"solar_rad\"] = df_merged_w_ch_sol[\"solar_rad\"].to_list()\n",
    "df_merged_w_ch[\"solar_rad_clear_sky\"] = df_merged_w_ch_sol[\"solar_rad_clear_sky\"].to_list()\n",
    "df_merged_w_ch_sol = df_merged_w_ch"
   ]
  },
  {
   "cell_type": "code",
   "execution_count": 53,
   "metadata": {},
   "outputs": [],
   "source": [
    "df_merged_w_ch_sol.to_csv(\"../Data/Environmental_data/merged_wind_chlor_sol.csv\", index = False)"
   ]
  },
  {
   "cell_type": "markdown",
   "metadata": {},
   "source": [
    "## Ocean depth Copernicus // Sentinel 3\n",
    "\n",
    "#Ocean level, so negative numbers are for below water :)"
   ]
  },
  {
   "cell_type": "code",
   "execution_count": 56,
   "metadata": {},
   "outputs": [],
   "source": [
    "df_merged_w_ch_sol = pd.read_csv(\"../Data/Environmental_data/merged_wind_chlor_sol.csv\")"
   ]
  },
  {
   "cell_type": "code",
   "execution_count": 57,
   "metadata": {},
   "outputs": [],
   "source": [
    "# Load xarray for depth\n",
    "ds_depth = xr.open_dataset(\"../Data/Environmental_data/depth/depth.nc\")"
   ]
  },
  {
   "cell_type": "code",
   "execution_count": 58,
   "metadata": {},
   "outputs": [],
   "source": [
    "# Set latitude and longitude as index\n",
    "df_merged_w_ch_sol_ind = df_merged_w_ch_sol.set_index([\"lat_start\", \"lng_start\"])"
   ]
  },
  {
   "cell_type": "code",
   "execution_count": 59,
   "metadata": {},
   "outputs": [],
   "source": [
    "# Make a NetCDF with the multi-index dataframe \n",
    "xr_merged = xr.Dataset.from_dataframe(df_merged_w_ch_sol_ind)\n",
    "xr_merged = xr_merged.rename({\"lat_start\" : \"lat\"})\n",
    "xr_merged= xr_merged.rename({\"lng_start\" : \"lon\"})"
   ]
  },
  {
   "cell_type": "code",
   "execution_count": 60,
   "metadata": {},
   "outputs": [],
   "source": [
    "# Keep interesting lat/long\n",
    "long_ = [xr_merged[\"lon\"].values]\n",
    "latg_ = [xr_merged[\"lat\"].values]\n",
    "df_depth_near = ds_depth.sel(lon=long_[0], lat=latg_[0], method='nearest')\n",
    "depth_same_coord = df_depth_near.assign_coords(lon = long_[0], lat = latg_[0])\n",
    "xr_merged_depth = xr_merged.merge(depth_same_coord, join = \"inner\")"
   ]
  },
  {
   "cell_type": "code",
   "execution_count": 61,
   "metadata": {},
   "outputs": [
    {
     "data": {
      "text/html": [
       "<div>\n",
       "<style scoped>\n",
       "    .dataframe tbody tr th:only-of-type {\n",
       "        vertical-align: middle;\n",
       "    }\n",
       "\n",
       "    .dataframe tbody tr th {\n",
       "        vertical-align: top;\n",
       "    }\n",
       "\n",
       "    .dataframe thead th {\n",
       "        text-align: right;\n",
       "    }\n",
       "</style>\n",
       "<table border=\"1\" class=\"dataframe\">\n",
       "  <thead>\n",
       "    <tr style=\"text-align: right;\">\n",
       "      <th></th>\n",
       "      <th></th>\n",
       "      <th>transectid</th>\n",
       "      <th>surveydate</th>\n",
       "      <th>pr_hard_coral</th>\n",
       "      <th>pr_algae</th>\n",
       "      <th>pr_soft_coral</th>\n",
       "      <th>pr_oth_invert</th>\n",
       "      <th>pr_other</th>\n",
       "      <th>country</th>\n",
       "      <th>geometry</th>\n",
       "      <th>wind_speed</th>\n",
       "      <th>Chlor</th>\n",
       "      <th>solar_rad</th>\n",
       "      <th>solar_rad_clear_sky</th>\n",
       "      <th>elevation</th>\n",
       "    </tr>\n",
       "    <tr>\n",
       "      <th>lat</th>\n",
       "      <th>lon</th>\n",
       "      <th></th>\n",
       "      <th></th>\n",
       "      <th></th>\n",
       "      <th></th>\n",
       "      <th></th>\n",
       "      <th></th>\n",
       "      <th></th>\n",
       "      <th></th>\n",
       "      <th></th>\n",
       "      <th></th>\n",
       "      <th></th>\n",
       "      <th></th>\n",
       "      <th></th>\n",
       "      <th></th>\n",
       "    </tr>\n",
       "  </thead>\n",
       "  <tbody>\n",
       "    <tr>\n",
       "      <th rowspan=\"2\" valign=\"top\">-23.513029</th>\n",
       "      <th>110.181207</th>\n",
       "      <td>NaN</td>\n",
       "      <td>NaN</td>\n",
       "      <td>NaN</td>\n",
       "      <td>NaN</td>\n",
       "      <td>NaN</td>\n",
       "      <td>NaN</td>\n",
       "      <td>NaN</td>\n",
       "      <td>NaN</td>\n",
       "      <td>NaN</td>\n",
       "      <td>NaN</td>\n",
       "      <td>NaN</td>\n",
       "      <td>NaN</td>\n",
       "      <td>NaN</td>\n",
       "      <td>-4923</td>\n",
       "    </tr>\n",
       "    <tr>\n",
       "      <th>110.181230</th>\n",
       "      <td>NaN</td>\n",
       "      <td>NaN</td>\n",
       "      <td>NaN</td>\n",
       "      <td>NaN</td>\n",
       "      <td>NaN</td>\n",
       "      <td>NaN</td>\n",
       "      <td>NaN</td>\n",
       "      <td>NaN</td>\n",
       "      <td>NaN</td>\n",
       "      <td>NaN</td>\n",
       "      <td>NaN</td>\n",
       "      <td>NaN</td>\n",
       "      <td>NaN</td>\n",
       "      <td>-4923</td>\n",
       "    </tr>\n",
       "  </tbody>\n",
       "</table>\n",
       "</div>"
      ],
      "text/plain": [
       "                       transectid surveydate  pr_hard_coral  pr_algae  \\\n",
       "lat        lon                                                          \n",
       "-23.513029 110.181207         NaN        NaN            NaN       NaN   \n",
       "           110.181230         NaN        NaN            NaN       NaN   \n",
       "\n",
       "                       pr_soft_coral  pr_oth_invert  pr_other country  \\\n",
       "lat        lon                                                          \n",
       "-23.513029 110.181207            NaN            NaN       NaN     NaN   \n",
       "           110.181230            NaN            NaN       NaN     NaN   \n",
       "\n",
       "                      geometry  wind_speed  Chlor  solar_rad  \\\n",
       "lat        lon                                                 \n",
       "-23.513029 110.181207      NaN         NaN    NaN        NaN   \n",
       "           110.181230      NaN         NaN    NaN        NaN   \n",
       "\n",
       "                       solar_rad_clear_sky  elevation  \n",
       "lat        lon                                         \n",
       "-23.513029 110.181207                  NaN      -4923  \n",
       "           110.181230                  NaN      -4923  "
      ]
     },
     "execution_count": 61,
     "metadata": {},
     "output_type": "execute_result"
    }
   ],
   "source": [
    "df_depth_merged = xr_merged_depth.to_dataframe()\n",
    "df_depth_merged.head(2)"
   ]
  },
  {
   "cell_type": "code",
   "execution_count": 76,
   "metadata": {},
   "outputs": [],
   "source": [
    "df_merged = df_depth_merged.dropna().reset_index()"
   ]
  },
  {
   "cell_type": "markdown",
   "metadata": {},
   "source": [
    "### Degree geometryting Week "
   ]
  },
  {
   "cell_type": "code",
   "execution_count": 65,
   "metadata": {},
   "outputs": [],
   "source": [
    "def treat_SST_DHW(df, gdf):\n",
    "    df[\"id\"] = df[\"id\"].str.replace('R', \"\").astype(int)\n",
    "    \n",
    "    df = df.merge(gdf[[\"id\", \"geometry\"]], how='left')\n",
    "    df.dropna(inplace = True)\n",
    "    \n",
    "    df_temp = df.drop(columns = [\"id\", \"geometry\"])\n",
    "    df_temp.columns = pd.to_datetime(df_temp.columns)\n",
    "    df_temp.columns = df_temp.columns.strftime(\"%Y-%m\")\n",
    "    df_temp.insert(0, \"id\", df[\"id\"])\n",
    "    df_temp.insert(0, \"geometry\", df[\"geometry\"])\n",
    "    df = df_temp.copy()\n",
    "    df = pf.make_geo_frame(df)\n",
    "    return df\n",
    "    \n",
    "    \n",
    "    "
   ]
  },
  {
   "cell_type": "code",
   "execution_count": 77,
   "metadata": {},
   "outputs": [],
   "source": [
    "# Degree Heating week and SST\n",
    "\n",
    "DHW_IDN = pd.read_csv(\"../Data/Environmental_data/DHW_Indonesia.csv\")\n",
    "DHW_IDN = treat_SST_DHW(DHW_IDN, gdf_IND)\n",
    "from shapely.wkt import loads\n",
    "df_merged['geometry'] = df_merged['geometry'].apply(wkt.loads)\n",
    "SST_IDN = pd.read_csv(\"../Data/Environmental_data/SST_Indonesia.csv\")\n",
    "SST_IDN = treat_SST_DHW(SST_IDN, gdf_IND)\n",
    "df_merged = pf.make_geo_frame(df_merged)"
   ]
  },
  {
   "cell_type": "code",
   "execution_count": 78,
   "metadata": {},
   "outputs": [],
   "source": [
    "df_swap = df_merged.copy()\n",
    "df_swap[\"geometry\"] = df_swap.geometry.map(lambda polygon: shapely.ops.transform(lambda x, y: (y, x), polygon))"
   ]
  },
  {
   "cell_type": "code",
   "execution_count": 79,
   "metadata": {},
   "outputs": [
    {
     "name": "stdout",
     "output_type": "stream",
     "text": [
      "DHW merged:  (0, 447)\n",
      "SST merged:  (0, 447)\n"
     ]
    }
   ],
   "source": [
    "# Take the intersection\n",
    "# nothing in common...\n",
    "DHW_merged_IDN = gpd.sjoin(DHW_IDN, df_swap[df_swap[\"country\"] == \"IDN\"], how=\"inner\", op='intersects')\n",
    "print(\"DHW merged: \", DHW_merged_IDN.shape)\n",
    "SST_merged_IDN = gpd.sjoin(SST_IDN, df_swap[df_swap[\"country\"] == \"IDN\"], how=\"inner\", op='intersects')\n",
    "print(\"SST merged: \", SST_merged_IDN.shape)"
   ]
  },
  {
   "cell_type": "code",
   "execution_count": 80,
   "metadata": {},
   "outputs": [],
   "source": [
    "# Let us use another strategy. I will take the centroid of the polygon and estimate the closests neighbor\n",
    "DHW_IDN.geometry = DHW_IDN['geometry'].centroid\n",
    "df_near_merge_IDN_DHW = dp.ckdnearest(df_swap[df_swap[\"country\"] == \"IDN\"], DHW_IDN).drop(columns = \"dist\")\n",
    "\n",
    "SST_IDN.geometry = SST_IDN['geometry'].centroid\n",
    "df_near_merge_IDN_SST = dp.ckdnearest(df_swap[df_swap[\"country\"] == \"IDN\"], SST_IDN).drop(columns = \"dist\")"
   ]
  },
  {
   "cell_type": "code",
   "execution_count": 81,
   "metadata": {},
   "outputs": [],
   "source": [
    "# Same for both SST and DHW\n",
    "dates_to_drop = df_near_merge_IDN_DHW.columns[17:][df_near_merge_IDN_DHW.columns[17:].isin(df_near_merge_IDN_DHW[\"surveydate\"]) == False]\n",
    "dates_to_keep = df_near_merge_IDN_DHW.columns[17:][df_near_merge_IDN_DHW.columns[17:].isin(df_near_merge_IDN_DHW[\"surveydate\"])]\n",
    "df_near_merge_IDN_SST.drop(columns = dates_to_drop,  inplace = True)\n",
    "df_near_merge_IDN_DHW.drop(columns = dates_to_drop,  inplace = True)"
   ]
  },
  {
   "cell_type": "code",
   "execution_count": 82,
   "metadata": {},
   "outputs": [],
   "source": [
    "df_near_merge_IDN_DHW['DHW'] = df_near_merge_IDN_DHW.lookup(df_near_merge_IDN_DHW.index, df_near_merge_IDN_DHW['surveydate'].astype(str))\n",
    "df_near_merge_IDN_DHW.drop(columns = dates_to_keep,  inplace = True)\n",
    "df_near_merge_IDN_SST['SST'] = df_near_merge_IDN_SST.lookup(df_near_merge_IDN_SST.index, df_near_merge_IDN_SST['surveydate'].astype(str))\n",
    "df_near_merge_IDN_SST.drop(columns = dates_to_keep,  inplace = True)"
   ]
  },
  {
   "cell_type": "code",
   "execution_count": 83,
   "metadata": {},
   "outputs": [],
   "source": [
    "df_near_merge_IDN = df_near_merge_IDN_DHW.copy()\n",
    "df_near_merge_IDN[\"SST\"] = df_near_merge_IDN_SST['SST']\n",
    "\n",
    "# Indonesia done"
   ]
  },
  {
   "cell_type": "code",
   "execution_count": 84,
   "metadata": {},
   "outputs": [],
   "source": [
    "# Timor \n",
    "# Degree Heating week and SST\n",
    "DHW_TLS = pd.read_csv(\"../Data/Environmental_data/DHW_Timor.csv\")\n",
    "DHW_TLS = treat_SST_DHW(DHW_TLS, gdf_TLS)\n",
    "SST_TLS = pd.read_csv(\"../Data/Environmental_data/SST_Timor.csv\")\n",
    "SST_TLS = treat_SST_DHW(SST_TLS, gdf_TLS)"
   ]
  },
  {
   "cell_type": "code",
   "execution_count": 85,
   "metadata": {},
   "outputs": [
    {
     "name": "stdout",
     "output_type": "stream",
     "text": [
      "DHW merged:  (0, 447)\n",
      "SST merged:  (0, 447)\n"
     ]
    }
   ],
   "source": [
    "#  Nothing in common\n",
    "DHW_merged_TLS = gpd.sjoin(DHW_TLS, df_swap[df_swap[\"country\"] == \"TLS\"], how=\"inner\", op='intersects')\n",
    "print(\"DHW merged: \", DHW_merged_TLS.shape)\n",
    "SST_merged_TLS = gpd.sjoin(SST_TLS, df_swap[df_swap[\"country\"] == \"TLS\"], how=\"inner\", op='intersects')\n",
    "print(\"SST merged: \", SST_merged_TLS.shape)"
   ]
  },
  {
   "cell_type": "code",
   "execution_count": 86,
   "metadata": {},
   "outputs": [],
   "source": [
    "# Same centroid strategy\n",
    "DHW_TLS.geometry = DHW_TLS['geometry'].centroid\n",
    "df_near_merge_TLS_DHW = dp.ckdnearest(df_swap[df_swap[\"country\"] == \"TLS\"], DHW_TLS)\n",
    "\n",
    "SST_TLS.geometry = SST_TLS['geometry'].centroid\n",
    "df_near_merge_TLS_SST = dp.ckdnearest(df_swap[df_swap[\"country\"] == \"TLS\"], SST_TLS)\n"
   ]
  },
  {
   "cell_type": "code",
   "execution_count": 87,
   "metadata": {},
   "outputs": [],
   "source": [
    "# Same for both SST and DHW\n",
    "dates_to_drop = df_near_merge_TLS_DHW.columns[17:][df_near_merge_TLS_DHW.columns[17:].isin(df_near_merge_TLS_DHW[\"surveydate\"]) == False]\n",
    "dates_to_keep = df_near_merge_TLS_DHW.columns[17:][df_near_merge_TLS_DHW.columns[17:].isin(df_near_merge_TLS_DHW[\"surveydate\"])]\n",
    "df_near_merge_TLS_SST.drop(columns = dates_to_drop,  inplace = True)\n",
    "df_near_merge_TLS_DHW.drop(columns = dates_to_drop,  inplace = True)"
   ]
  },
  {
   "cell_type": "code",
   "execution_count": 88,
   "metadata": {},
   "outputs": [
    {
     "data": {
      "text/html": [
       "<div>\n",
       "<style scoped>\n",
       "    .dataframe tbody tr th:only-of-type {\n",
       "        vertical-align: middle;\n",
       "    }\n",
       "\n",
       "    .dataframe tbody tr th {\n",
       "        vertical-align: top;\n",
       "    }\n",
       "\n",
       "    .dataframe thead th {\n",
       "        text-align: right;\n",
       "    }\n",
       "</style>\n",
       "<table border=\"1\" class=\"dataframe\">\n",
       "  <thead>\n",
       "    <tr style=\"text-align: right;\">\n",
       "      <th></th>\n",
       "      <th>lat</th>\n",
       "      <th>lon</th>\n",
       "      <th>transectid</th>\n",
       "      <th>surveydate</th>\n",
       "      <th>pr_hard_coral</th>\n",
       "      <th>pr_algae</th>\n",
       "      <th>pr_soft_coral</th>\n",
       "      <th>pr_oth_invert</th>\n",
       "      <th>pr_other</th>\n",
       "      <th>country</th>\n",
       "      <th>geometry</th>\n",
       "      <th>wind_speed</th>\n",
       "      <th>Chlor</th>\n",
       "      <th>solar_rad</th>\n",
       "      <th>solar_rad_clear_sky</th>\n",
       "      <th>elevation</th>\n",
       "      <th>id</th>\n",
       "      <th>DHW</th>\n",
       "      <th>SST</th>\n",
       "    </tr>\n",
       "  </thead>\n",
       "  <tbody>\n",
       "    <tr>\n",
       "      <th>0</th>\n",
       "      <td>-9.186476</td>\n",
       "      <td>124.391635</td>\n",
       "      <td>30023.0</td>\n",
       "      <td>2014-07</td>\n",
       "      <td>0.2536</td>\n",
       "      <td>0.3902</td>\n",
       "      <td>0.1027</td>\n",
       "      <td>0.0472</td>\n",
       "      <td>0.2063</td>\n",
       "      <td>TLS</td>\n",
       "      <td>POINT (124.39163 -9.18648)</td>\n",
       "      <td>3.709066</td>\n",
       "      <td>0.406888</td>\n",
       "      <td>16667136.0</td>\n",
       "      <td>18682368.0</td>\n",
       "      <td>-85</td>\n",
       "      <td>17651</td>\n",
       "      <td>0.0</td>\n",
       "      <td>27.668065</td>\n",
       "    </tr>\n",
       "    <tr>\n",
       "      <th>1</th>\n",
       "      <td>-9.173817</td>\n",
       "      <td>124.409284</td>\n",
       "      <td>30022.0</td>\n",
       "      <td>2014-07</td>\n",
       "      <td>0.1146</td>\n",
       "      <td>0.3139</td>\n",
       "      <td>0.0755</td>\n",
       "      <td>0.0350</td>\n",
       "      <td>0.4609</td>\n",
       "      <td>TLS</td>\n",
       "      <td>POINT (124.40928 -9.17382)</td>\n",
       "      <td>3.709066</td>\n",
       "      <td>0.406888</td>\n",
       "      <td>16667136.0</td>\n",
       "      <td>18682368.0</td>\n",
       "      <td>-15</td>\n",
       "      <td>17651</td>\n",
       "      <td>0.0</td>\n",
       "      <td>27.668065</td>\n",
       "    </tr>\n",
       "  </tbody>\n",
       "</table>\n",
       "</div>"
      ],
      "text/plain": [
       "        lat         lon  transectid surveydate  pr_hard_coral  pr_algae  \\\n",
       "0 -9.186476  124.391635     30023.0    2014-07         0.2536    0.3902   \n",
       "1 -9.173817  124.409284     30022.0    2014-07         0.1146    0.3139   \n",
       "\n",
       "   pr_soft_coral  pr_oth_invert  pr_other country                    geometry  \\\n",
       "0         0.1027         0.0472    0.2063     TLS  POINT (124.39163 -9.18648)   \n",
       "1         0.0755         0.0350    0.4609     TLS  POINT (124.40928 -9.17382)   \n",
       "\n",
       "   wind_speed     Chlor   solar_rad  solar_rad_clear_sky  elevation     id  \\\n",
       "0    3.709066  0.406888  16667136.0           18682368.0        -85  17651   \n",
       "1    3.709066  0.406888  16667136.0           18682368.0        -15  17651   \n",
       "\n",
       "   DHW        SST  \n",
       "0  0.0  27.668065  \n",
       "1  0.0  27.668065  "
      ]
     },
     "execution_count": 88,
     "metadata": {},
     "output_type": "execute_result"
    }
   ],
   "source": [
    "df_near_merge_TLS_DHW['DHW'] = df_near_merge_TLS_DHW.lookup(df_near_merge_TLS_DHW.index, df_near_merge_TLS_DHW['surveydate'].astype(str))\n",
    "df_near_merge_TLS_DHW.drop(columns = dates_to_keep,  inplace = True)\n",
    "df_near_merge_TLS_SST['SST'] = df_near_merge_TLS_SST.lookup(df_near_merge_TLS_SST.index, df_near_merge_TLS_SST['surveydate'].astype(str))\n",
    "df_near_merge_TLS_SST.drop(columns = dates_to_keep,  inplace = True)\n",
    "df_near_merge_TLS = df_near_merge_TLS_DHW.copy()\n",
    "df_near_merge_TLS[\"SST\"] = df_near_merge_TLS_SST['SST']\n",
    "df_near_merge_TLS.head(2)"
   ]
  },
  {
   "cell_type": "code",
   "execution_count": 89,
   "metadata": {},
   "outputs": [],
   "source": [
    "# Solomon\n",
    "# Degree Heating week and SST\n",
    "DHW_SLB = pd.read_csv(\"../Data/Environmental_data/DHW_Indonesia.csv\")\n",
    "DHW_SLB = treat_SST_DHW(DHW_SLB, gdf_SLB)\n",
    "SST_SLB = pd.read_csv(\"../Data/Environmental_data/SST_Solomon.csv\")\n",
    "SST_SLB = treat_SST_DHW(SST_SLB, gdf_SLB)"
   ]
  },
  {
   "cell_type": "code",
   "execution_count": 90,
   "metadata": {},
   "outputs": [
    {
     "name": "stdout",
     "output_type": "stream",
     "text": [
      "DHW merged:  (0, 447)\n",
      "SST merged:  (11, 447)\n"
     ]
    }
   ],
   "source": [
    "# Nothing in common for DHW and 11 for SST\n",
    "DHW_merged_SLB = gpd.sjoin(DHW_SLB, df_swap[df_swap[\"country\"] == \"SLB\"], how=\"inner\", op='intersects')\n",
    "print(\"DHW merged: \", DHW_merged_SLB.shape)\n",
    "SST_merged_SLB = gpd.sjoin(SST_SLB, df_swap[df_swap[\"country\"] == \"SLB\"], how=\"inner\", op='intersects')\n",
    "print(\"SST merged: \", SST_merged_SLB.shape)"
   ]
  },
  {
   "cell_type": "code",
   "execution_count": 91,
   "metadata": {},
   "outputs": [],
   "source": [
    "# Same\n",
    "DHW_SLB.geometry = DHW_SLB['geometry'].centroid\n",
    "df_near_merge_SLB_DHW = dp.ckdnearest(df_swap[df_swap[\"country\"] == \"SLB\"], DHW_SLB)\n",
    "SST_SLB.geometry = SST_SLB['geometry'].centroid\n",
    "df_near_merge_SLB_SST = dp.ckdnearest(df_swap[df_swap[\"country\"] == \"SLB\"], SST_SLB)\n"
   ]
  },
  {
   "cell_type": "code",
   "execution_count": 92,
   "metadata": {},
   "outputs": [],
   "source": [
    "# Same for both SST and DHW\n",
    "dates_to_drop = df_near_merge_SLB_DHW.columns[17:][df_near_merge_SLB_DHW.columns[17:].isin(df_near_merge_SLB_DHW[\"surveydate\"]) == False]\n",
    "dates_to_keep = df_near_merge_SLB_DHW.columns[17:][df_near_merge_SLB_DHW.columns[17:].isin(df_near_merge_SLB_DHW[\"surveydate\"])]\n",
    "df_near_merge_SLB_SST.drop(columns = dates_to_drop,  inplace = True)\n",
    "df_near_merge_SLB_DHW.drop(columns = dates_to_drop,  inplace = True)"
   ]
  },
  {
   "cell_type": "code",
   "execution_count": 93,
   "metadata": {},
   "outputs": [
    {
     "data": {
      "text/html": [
       "<div>\n",
       "<style scoped>\n",
       "    .dataframe tbody tr th:only-of-type {\n",
       "        vertical-align: middle;\n",
       "    }\n",
       "\n",
       "    .dataframe tbody tr th {\n",
       "        vertical-align: top;\n",
       "    }\n",
       "\n",
       "    .dataframe thead th {\n",
       "        text-align: right;\n",
       "    }\n",
       "</style>\n",
       "<table border=\"1\" class=\"dataframe\">\n",
       "  <thead>\n",
       "    <tr style=\"text-align: right;\">\n",
       "      <th></th>\n",
       "      <th>lat</th>\n",
       "      <th>lon</th>\n",
       "      <th>transectid</th>\n",
       "      <th>surveydate</th>\n",
       "      <th>pr_hard_coral</th>\n",
       "      <th>pr_algae</th>\n",
       "      <th>pr_soft_coral</th>\n",
       "      <th>pr_oth_invert</th>\n",
       "      <th>pr_other</th>\n",
       "      <th>country</th>\n",
       "      <th>geometry</th>\n",
       "      <th>wind_speed</th>\n",
       "      <th>Chlor</th>\n",
       "      <th>solar_rad</th>\n",
       "      <th>solar_rad_clear_sky</th>\n",
       "      <th>elevation</th>\n",
       "      <th>id</th>\n",
       "      <th>DHW</th>\n",
       "      <th>SST</th>\n",
       "    </tr>\n",
       "  </thead>\n",
       "  <tbody>\n",
       "    <tr>\n",
       "      <th>0</th>\n",
       "      <td>-8.701401</td>\n",
       "      <td>157.815640</td>\n",
       "      <td>34016.0</td>\n",
       "      <td>2014-11</td>\n",
       "      <td>0.1154</td>\n",
       "      <td>0.8454</td>\n",
       "      <td>0.0167</td>\n",
       "      <td>0.0147</td>\n",
       "      <td>0.0075</td>\n",
       "      <td>SLB</td>\n",
       "      <td>POINT (157.81564 -8.70140)</td>\n",
       "      <td>4.663486</td>\n",
       "      <td>0.170505</td>\n",
       "      <td>19759616.0</td>\n",
       "      <td>26144256.0</td>\n",
       "      <td>-46</td>\n",
       "      <td>16975</td>\n",
       "      <td>0.0</td>\n",
       "      <td>29.344</td>\n",
       "    </tr>\n",
       "    <tr>\n",
       "      <th>1</th>\n",
       "      <td>-8.676629</td>\n",
       "      <td>157.839278</td>\n",
       "      <td>34015.0</td>\n",
       "      <td>2014-11</td>\n",
       "      <td>0.1362</td>\n",
       "      <td>0.6395</td>\n",
       "      <td>0.0342</td>\n",
       "      <td>0.0037</td>\n",
       "      <td>0.1865</td>\n",
       "      <td>SLB</td>\n",
       "      <td>POINT (157.83928 -8.67663)</td>\n",
       "      <td>4.663486</td>\n",
       "      <td>0.170505</td>\n",
       "      <td>19759616.0</td>\n",
       "      <td>26144256.0</td>\n",
       "      <td>-5</td>\n",
       "      <td>16975</td>\n",
       "      <td>0.0</td>\n",
       "      <td>29.421</td>\n",
       "    </tr>\n",
       "  </tbody>\n",
       "</table>\n",
       "</div>"
      ],
      "text/plain": [
       "        lat         lon  transectid surveydate  pr_hard_coral  pr_algae  \\\n",
       "0 -8.701401  157.815640     34016.0    2014-11         0.1154    0.8454   \n",
       "1 -8.676629  157.839278     34015.0    2014-11         0.1362    0.6395   \n",
       "\n",
       "   pr_soft_coral  pr_oth_invert  pr_other country                    geometry  \\\n",
       "0         0.0167         0.0147    0.0075     SLB  POINT (157.81564 -8.70140)   \n",
       "1         0.0342         0.0037    0.1865     SLB  POINT (157.83928 -8.67663)   \n",
       "\n",
       "   wind_speed     Chlor   solar_rad  solar_rad_clear_sky  elevation     id  \\\n",
       "0    4.663486  0.170505  19759616.0           26144256.0        -46  16975   \n",
       "1    4.663486  0.170505  19759616.0           26144256.0         -5  16975   \n",
       "\n",
       "   DHW     SST  \n",
       "0  0.0  29.344  \n",
       "1  0.0  29.421  "
      ]
     },
     "execution_count": 93,
     "metadata": {},
     "output_type": "execute_result"
    }
   ],
   "source": [
    "df_near_merge_SLB_DHW['DHW'] = df_near_merge_SLB_DHW.lookup(df_near_merge_SLB_DHW.index, df_near_merge_SLB_DHW['surveydate'].astype(str))\n",
    "df_near_merge_SLB_DHW.drop(columns = dates_to_keep,  inplace = True)\n",
    "df_near_merge_SLB_SST['SST'] = df_near_merge_SLB_SST.lookup(df_near_merge_SLB_SST.index, df_near_merge_SLB_SST['surveydate'].astype(str))\n",
    "df_near_merge_SLB_SST.drop(columns = dates_to_keep,  inplace = True)\n",
    "df_near_merge_SLB = df_near_merge_SLB_DHW.copy()\n",
    "df_near_merge_SLB[\"SST\"] = df_near_merge_SLB_SST['SST']\n",
    "df_near_merge_SLB.head(2)"
   ]
  },
  {
   "cell_type": "code",
   "execution_count": 94,
   "metadata": {},
   "outputs": [],
   "source": [
    "# Great Barrier Reef\n",
    "\n",
    "# Degree Heating week and SST\n",
    "DHW_GBR = pd.read_csv(\"../Data/Environmental_data/DHW_GBR.csv\")\n",
    "gdf_AUS[\"id\"] = gdf_AUS[\"id\"].str.replace('R', \"\").astype(int)\n",
    "DHW_GBR = treat_SST_DHW(DHW_GBR, gdf_AUS)\n",
    "SST_GBR = pd.read_csv(\"../Data/Environmental_data/SST_GBR.csv\")\n",
    "SST_GBR = treat_SST_DHW(SST_GBR, gdf_AUS)\n"
   ]
  },
  {
   "cell_type": "code",
   "execution_count": 95,
   "metadata": {},
   "outputs": [
    {
     "name": "stdout",
     "output_type": "stream",
     "text": [
      "For GBR_DHW:  (206, 447)  in common\n",
      "For GBR_SST:  (206, 447)  in common\n"
     ]
    }
   ],
   "source": [
    "# 206 / 260 are merged within for the rest let us take the closest point\n",
    "DHW_merged_GBR = gpd.sjoin(df_swap[df_swap[\"country\"] == \"AUS\"],DHW_GBR,  how=\"inner\", op='intersects')\n",
    "SST_merged_GBR = gpd.sjoin(df_swap[df_swap[\"country\"] == \"AUS\"],SST_GBR, how=\"inner\", op='intersects')\n",
    "print(\"For GBR_DHW: \", DHW_merged_GBR.shape, \" in common\")\n",
    "print(\"For GBR_SST: \", SST_merged_GBR.shape, \" in common\")"
   ]
  },
  {
   "cell_type": "code",
   "execution_count": 96,
   "metadata": {},
   "outputs": [],
   "source": [
    "temp_DHW = DHW_merged_GBR[DHW_merged_GBR.columns[:16]]\n",
    "temp_SST = SST_merged_GBR[SST_merged_GBR.columns[:16]]"
   ]
  },
  {
   "cell_type": "code",
   "execution_count": 97,
   "metadata": {},
   "outputs": [],
   "source": [
    "df_diff_neig_DHW = pd.concat([temp_DHW,df_swap[df_swap[\"country\"] == \"AUS\"]]).drop_duplicates(keep=False)\n",
    "df_diff_neig_SST = pd.concat([temp_SST,df_swap[df_swap[\"country\"] == \"AUS\"]]).drop_duplicates(keep=False)"
   ]
  },
  {
   "cell_type": "code",
   "execution_count": 98,
   "metadata": {},
   "outputs": [],
   "source": [
    "# Let us use anothgeometrystrategy. I will take the centroid of the polygon and estimate the closests neighbor\n",
    "DHW_GBR.geometry = DHW_GBR['geometry'].centroid\n",
    "df_near_DHW = dp.ckdnearest(df_diff_neig_DHW,DHW_GBR)\n",
    "\n",
    "# Let us use another strategy. I will take the centroid of the polygon and estimate the closests neighbor\n",
    "SST_GBR.geometry = SST_GBR['geometry'].centroid\n",
    "df_near_SST = dp.ckdnearest(df_diff_neig_SST,SST_GBR)\n"
   ]
  },
  {
   "cell_type": "code",
   "execution_count": 99,
   "metadata": {},
   "outputs": [],
   "source": [
    "DHW_GBR_year = df_near_DHW.append(DHW_merged_GBR).drop(columns = \"dist\")\n",
    "SST_GBR_year = df_near_SST.append(SST_merged_GBR).drop(columns = \"dist\")\n",
    "SST_GBR_year.index = np.arange(260)\n",
    "DHW_GBR_year.index = np.arange(260)"
   ]
  },
  {
   "cell_type": "code",
   "execution_count": 100,
   "metadata": {},
   "outputs": [],
   "source": [
    "# Same for both SST and DHW\n",
    "dates_to_drop = DHW_GBR_year.columns[17:][DHW_GBR_year.columns[17:].isin(DHW_GBR_year[\"surveydate\"]) == False]\n",
    "dates_to_keep = DHW_GBR_year.columns[17:][DHW_GBR_year.columns[17:].isin(DHW_GBR_year[\"surveydate\"])]\n",
    "SST_GBR_year.drop(columns = dates_to_drop,  inplace = True)\n",
    "DHW_GBR_year.drop(columns = dates_to_drop,  inplace = True)"
   ]
  },
  {
   "cell_type": "code",
   "execution_count": 101,
   "metadata": {},
   "outputs": [
    {
     "data": {
      "text/html": [
       "<div>\n",
       "<style scoped>\n",
       "    .dataframe tbody tr th:only-of-type {\n",
       "        vertical-align: middle;\n",
       "    }\n",
       "\n",
       "    .dataframe tbody tr th {\n",
       "        vertical-align: top;\n",
       "    }\n",
       "\n",
       "    .dataframe thead th {\n",
       "        text-align: right;\n",
       "    }\n",
       "</style>\n",
       "<table border=\"1\" class=\"dataframe\">\n",
       "  <thead>\n",
       "    <tr style=\"text-align: right;\">\n",
       "      <th></th>\n",
       "      <th>lat</th>\n",
       "      <th>lon</th>\n",
       "      <th>transectid</th>\n",
       "      <th>surveydate</th>\n",
       "      <th>pr_hard_coral</th>\n",
       "      <th>pr_algae</th>\n",
       "      <th>pr_soft_coral</th>\n",
       "      <th>pr_oth_invert</th>\n",
       "      <th>pr_other</th>\n",
       "      <th>country</th>\n",
       "      <th>geometry</th>\n",
       "      <th>wind_speed</th>\n",
       "      <th>Chlor</th>\n",
       "      <th>solar_rad</th>\n",
       "      <th>solar_rad_clear_sky</th>\n",
       "      <th>elevation</th>\n",
       "      <th>id</th>\n",
       "      <th>DHW</th>\n",
       "      <th>SST</th>\n",
       "    </tr>\n",
       "  </thead>\n",
       "  <tbody>\n",
       "    <tr>\n",
       "      <th>0</th>\n",
       "      <td>-18.833291</td>\n",
       "      <td>147.651632</td>\n",
       "      <td>11002.0</td>\n",
       "      <td>2012-10</td>\n",
       "      <td>0.1586</td>\n",
       "      <td>0.6852</td>\n",
       "      <td>0.0978</td>\n",
       "      <td>0.0216</td>\n",
       "      <td>0.0366</td>\n",
       "      <td>AUS</td>\n",
       "      <td>POINT (147.65163 -18.83329)</td>\n",
       "      <td>6.969212</td>\n",
       "      <td>0.155895</td>\n",
       "      <td>23342080.0</td>\n",
       "      <td>26556928.0</td>\n",
       "      <td>-34</td>\n",
       "      <td>41573</td>\n",
       "      <td>0.0</td>\n",
       "      <td>25.307097</td>\n",
       "    </tr>\n",
       "    <tr>\n",
       "      <th>1</th>\n",
       "      <td>-17.698393</td>\n",
       "      <td>148.513366</td>\n",
       "      <td>10013.0</td>\n",
       "      <td>2012-09</td>\n",
       "      <td>0.0986</td>\n",
       "      <td>0.5873</td>\n",
       "      <td>0.0167</td>\n",
       "      <td>0.0099</td>\n",
       "      <td>0.2874</td>\n",
       "      <td>AUS</td>\n",
       "      <td>POINT (148.51337 -17.69839)</td>\n",
       "      <td>6.625403</td>\n",
       "      <td>0.174489</td>\n",
       "      <td>21595512.0</td>\n",
       "      <td>23705776.0</td>\n",
       "      <td>-18</td>\n",
       "      <td>47314</td>\n",
       "      <td>0.0</td>\n",
       "      <td>24.838333</td>\n",
       "    </tr>\n",
       "  </tbody>\n",
       "</table>\n",
       "</div>"
      ],
      "text/plain": [
       "         lat         lon  transectid surveydate  pr_hard_coral  pr_algae  \\\n",
       "0 -18.833291  147.651632     11002.0    2012-10         0.1586    0.6852   \n",
       "1 -17.698393  148.513366     10013.0    2012-09         0.0986    0.5873   \n",
       "\n",
       "   pr_soft_coral  pr_oth_invert  pr_other country  \\\n",
       "0         0.0978         0.0216    0.0366     AUS   \n",
       "1         0.0167         0.0099    0.2874     AUS   \n",
       "\n",
       "                      geometry  wind_speed     Chlor   solar_rad  \\\n",
       "0  POINT (147.65163 -18.83329)    6.969212  0.155895  23342080.0   \n",
       "1  POINT (148.51337 -17.69839)    6.625403  0.174489  21595512.0   \n",
       "\n",
       "   solar_rad_clear_sky  elevation     id  DHW        SST  \n",
       "0           26556928.0        -34  41573  0.0  25.307097  \n",
       "1           23705776.0        -18  47314  0.0  24.838333  "
      ]
     },
     "execution_count": 101,
     "metadata": {},
     "output_type": "execute_result"
    }
   ],
   "source": [
    "DHW_GBR_year['DHW'] = DHW_GBR_year.lookup(DHW_GBR_year.index, DHW_GBR_year['surveydate'].astype(str))\n",
    "DHW_GBR_year.drop(columns = dates_to_keep,  inplace = True)\n",
    "SST_GBR_year['SST'] = SST_GBR_year.lookup(SST_GBR_year.index, SST_GBR_year['surveydate'].astype(str))\n",
    "SST_GBR_year.drop(columns = dates_to_keep,  inplace = True)\n",
    "df_near_merge_GBR = DHW_GBR_year.copy()\n",
    "df_near_merge_GBR[\"SST\"] = SST_GBR_year['SST']\n",
    "df_near_merge_GBR.head(2)"
   ]
  },
  {
   "cell_type": "code",
   "execution_count": 102,
   "metadata": {},
   "outputs": [
    {
     "name": "stdout",
     "output_type": "stream",
     "text": [
      "Shape  (416, 19)\n"
     ]
    },
    {
     "data": {
      "text/html": [
       "<div>\n",
       "<style scoped>\n",
       "    .dataframe tbody tr th:only-of-type {\n",
       "        vertical-align: middle;\n",
       "    }\n",
       "\n",
       "    .dataframe tbody tr th {\n",
       "        vertical-align: top;\n",
       "    }\n",
       "\n",
       "    .dataframe thead th {\n",
       "        text-align: right;\n",
       "    }\n",
       "</style>\n",
       "<table border=\"1\" class=\"dataframe\">\n",
       "  <thead>\n",
       "    <tr style=\"text-align: right;\">\n",
       "      <th></th>\n",
       "      <th>lat</th>\n",
       "      <th>lon</th>\n",
       "      <th>transectid</th>\n",
       "      <th>surveydate</th>\n",
       "      <th>pr_hard_coral</th>\n",
       "      <th>pr_algae</th>\n",
       "      <th>pr_soft_coral</th>\n",
       "      <th>pr_oth_invert</th>\n",
       "      <th>pr_other</th>\n",
       "      <th>country</th>\n",
       "      <th>geometry</th>\n",
       "      <th>wind_speed</th>\n",
       "      <th>Chlor</th>\n",
       "      <th>solar_rad</th>\n",
       "      <th>solar_rad_clear_sky</th>\n",
       "      <th>elevation</th>\n",
       "      <th>id</th>\n",
       "      <th>DHW</th>\n",
       "      <th>SST</th>\n",
       "    </tr>\n",
       "  </thead>\n",
       "  <tbody>\n",
       "    <tr>\n",
       "      <th>0</th>\n",
       "      <td>-18.833291</td>\n",
       "      <td>147.651632</td>\n",
       "      <td>11002.0</td>\n",
       "      <td>2012-10</td>\n",
       "      <td>0.1586</td>\n",
       "      <td>0.6852</td>\n",
       "      <td>0.0978</td>\n",
       "      <td>0.0216</td>\n",
       "      <td>0.0366</td>\n",
       "      <td>AUS</td>\n",
       "      <td>POINT (147.65163 -18.83329)</td>\n",
       "      <td>6.969212</td>\n",
       "      <td>0.155895</td>\n",
       "      <td>23342080.0</td>\n",
       "      <td>26556928.0</td>\n",
       "      <td>-34</td>\n",
       "      <td>41573</td>\n",
       "      <td>0.0</td>\n",
       "      <td>25.307097</td>\n",
       "    </tr>\n",
       "    <tr>\n",
       "      <th>1</th>\n",
       "      <td>-17.698393</td>\n",
       "      <td>148.513366</td>\n",
       "      <td>10013.0</td>\n",
       "      <td>2012-09</td>\n",
       "      <td>0.0986</td>\n",
       "      <td>0.5873</td>\n",
       "      <td>0.0167</td>\n",
       "      <td>0.0099</td>\n",
       "      <td>0.2874</td>\n",
       "      <td>AUS</td>\n",
       "      <td>POINT (148.51337 -17.69839)</td>\n",
       "      <td>6.625403</td>\n",
       "      <td>0.174489</td>\n",
       "      <td>21595512.0</td>\n",
       "      <td>23705776.0</td>\n",
       "      <td>-18</td>\n",
       "      <td>47314</td>\n",
       "      <td>0.0</td>\n",
       "      <td>24.838333</td>\n",
       "    </tr>\n",
       "    <tr>\n",
       "      <th>2</th>\n",
       "      <td>-16.175264</td>\n",
       "      <td>145.891157</td>\n",
       "      <td>10003.0</td>\n",
       "      <td>2017-10</td>\n",
       "      <td>0.1385</td>\n",
       "      <td>0.5264</td>\n",
       "      <td>0.0324</td>\n",
       "      <td>0.0058</td>\n",
       "      <td>0.2968</td>\n",
       "      <td>AUS</td>\n",
       "      <td>POINT (145.89116 -16.17526)</td>\n",
       "      <td>6.687017</td>\n",
       "      <td>0.297231</td>\n",
       "      <td>21459968.0</td>\n",
       "      <td>26170368.0</td>\n",
       "      <td>-2</td>\n",
       "      <td>29655</td>\n",
       "      <td>0.0</td>\n",
       "      <td>26.130000</td>\n",
       "    </tr>\n",
       "  </tbody>\n",
       "</table>\n",
       "</div>"
      ],
      "text/plain": [
       "         lat         lon  transectid surveydate  pr_hard_coral  pr_algae  \\\n",
       "0 -18.833291  147.651632     11002.0    2012-10         0.1586    0.6852   \n",
       "1 -17.698393  148.513366     10013.0    2012-09         0.0986    0.5873   \n",
       "2 -16.175264  145.891157     10003.0    2017-10         0.1385    0.5264   \n",
       "\n",
       "   pr_soft_coral  pr_oth_invert  pr_other country  \\\n",
       "0         0.0978         0.0216    0.0366     AUS   \n",
       "1         0.0167         0.0099    0.2874     AUS   \n",
       "2         0.0324         0.0058    0.2968     AUS   \n",
       "\n",
       "                      geometry  wind_speed     Chlor   solar_rad  \\\n",
       "0  POINT (147.65163 -18.83329)    6.969212  0.155895  23342080.0   \n",
       "1  POINT (148.51337 -17.69839)    6.625403  0.174489  21595512.0   \n",
       "2  POINT (145.89116 -16.17526)    6.687017  0.297231  21459968.0   \n",
       "\n",
       "   solar_rad_clear_sky  elevation     id  DHW        SST  \n",
       "0           26556928.0        -34  41573  0.0  25.307097  \n",
       "1           23705776.0        -18  47314  0.0  24.838333  \n",
       "2           26170368.0         -2  29655  0.0  26.130000  "
      ]
     },
     "execution_count": 102,
     "metadata": {},
     "output_type": "execute_result"
    }
   ],
   "source": [
    "## Now combine all of them \n",
    "# df_near_merge_GBR, df_near_merge_SLB, df_near_merge_IDN, df_near_merge_TLS\n",
    "\n",
    "df_Survey_merged = pd.concat([df_near_merge_GBR,df_near_merge_SLB, df_near_merge_IDN, df_near_merge_TLS]).drop_duplicates(keep=False)\n",
    "print(\"Shape \",df_Survey_merged.shape)\n",
    "df_Survey_merged.head(3)"
   ]
  },
  {
   "cell_type": "code",
   "execution_count": 104,
   "metadata": {},
   "outputs": [],
   "source": [
    "df_Survey_merged.to_csv(\"../Data/Environmental_data/merged_before_port.csv\", index = False)"
   ]
  },
  {
   "cell_type": "code",
   "execution_count": 259,
   "metadata": {},
   "outputs": [],
   "source": [
    "df_Survey_merged = pd.read_csv(\"../Data/Environmental_data/merged_before_port.csv\")"
   ]
  },
  {
   "cell_type": "code",
   "execution_count": 260,
   "metadata": {},
   "outputs": [],
   "source": [
    "\n",
    "df_Survey_merged['geometry'] = df_Survey_merged['geometry'].apply(wkt.loads)\n",
    "df_Survey_merged = pf.make_geo_frame(df_Survey_merged)"
   ]
  },
  {
   "cell_type": "code",
   "execution_count": 261,
   "metadata": {},
   "outputs": [],
   "source": [
    "\n",
    "df_Survey_merged[\"geometry\"] = df_Survey_merged.geometry.map(lambda polygon: shapely.ops.transform(lambda x, y: (y, x), polygon))"
   ]
  },
  {
   "cell_type": "markdown",
   "metadata": {},
   "source": [
    "### PAR"
   ]
  },
  {
   "cell_type": "code",
   "execution_count": 262,
   "metadata": {},
   "outputs": [],
   "source": [
    "d1 = xr.open_dataset(\"../Data/Environmental_data/PAR_month/requested_files/A20122452012274.L3m_MO_PAR.x_par.nc\")\n",
    "d2 = xr.open_dataset(\"../Data/Environmental_data/PAR_month/requested_files/A20122752012305.L3m_MO_PAR.x_par.nc\")\n",
    "d3 = xr.open_dataset(\"../Data/Environmental_data/PAR_month/requested_files/A20123062012335.L3m_MO_PAR.x_par.nc\")\n",
    "d4 = xr.open_dataset(\"../Data/Environmental_data/PAR_month/requested_files/A20123362012366.L3m_MO_PAR.x_par.nc\")\n",
    "d6 = xr.open_dataset(\"../Data/Environmental_data/PAR_month/requested_files/A20140322014059.L3m_MO_PAR_par_4km.nc\")\n",
    "d7 = xr.open_dataset(\"../Data/Environmental_data/PAR_month/requested_files/A20141212014151.L3m_MO_PAR_par_4km.nc\")\n",
    "d8 = xr.open_dataset(\"../Data/Environmental_data/PAR_month/requested_files/A20141822014212.L3m_MO_PAR_par_4km.nc\")\n",
    "d9 = xr.open_dataset(\"../Data/Environmental_data/PAR_month/requested_files/A20142132014243.L3m_MO_PAR_par_4km.nc\")\n",
    "d10 = xr.open_dataset(\"../Data/Environmental_data/PAR_month/requested_files/A20142442014273.L3m_MO_PAR_par_4km.nc\")\n",
    "d11 = xr.open_dataset(\"../Data/Environmental_data/PAR_month/requested_files/A20142742014304.L3m_MO_PAR_par_4km.nc\")\n",
    "d12 = xr.open_dataset(\"../Data/Environmental_data/PAR_month/requested_files/A20143052014334.L3m_MO_PAR_par_4km.nc\")\n",
    "d13 = xr.open_dataset(\"../Data/Environmental_data/PAR_month/requested_files/A20143352014365.L3m_MO_PAR_par_4km.nc\")\n",
    "d14 = xr.open_dataset(\"../Data/Environmental_data/PAR_month/requested_files/A20160612016091.L3m_MO_PAR_par_4km.nc\")\n",
    "d15 = xr.open_dataset(\"../Data/Environmental_data/PAR_month/requested_files/A20162752016305.L3m_MO_PAR_par_4km.nc\")\n",
    "d16 = xr.open_dataset(\"../Data/Environmental_data/PAR_month/requested_files/A20163062016335.L3m_MO_PAR_par_4km.nc\")\n",
    "d17 = xr.open_dataset(\"../Data/Environmental_data/PAR_month/requested_files/A20172742017304.L3m_MO_PAR_par_4km.nc\")\n",
    "d18 = xr.open_dataset(\"../Data/Environmental_data/PAR_month/requested_files/A20181212018151.L3m_MO_PAR_par_4km.nc\")\n",
    "d19 = xr.open_dataset(\"../Data/Environmental_data/PAR_month/requested_files/A20181522018181.L3m_MO_PAR_par_4km.nc\")\n"
   ]
  },
  {
   "cell_type": "code",
   "execution_count": 263,
   "metadata": {},
   "outputs": [],
   "source": [
    "df_PAR = [d1, d2, d3, d4,d5,d6,d7,d8,d9,d10,d11,d12,d13,d14,d15,d16,d17,d18,d19]\n"
   ]
  },
  {
   "cell_type": "code",
   "execution_count": 264,
   "metadata": {},
   "outputs": [],
   "source": [
    "def PAR_pre(ds_PAR_list, df, Survey_dates):\n",
    "    df_conc = []\n",
    "    i = 0\n",
    "    for date in Survey_dates:\n",
    "        ds_PAR_list[i] = ds_PAR_list[i].drop(labels = \"palette\")\n",
    "        df_part = df[df[\"surveydate\"] == date]\n",
    "        df1 = df_part.copy()\n",
    "        df1.set_index([\"lat\", \"lon\"],inplace = True)\n",
    "        xr_merged = xr.Dataset.from_dataframe(df1)\n",
    "        # Keep interesting lat/long\n",
    "        \n",
    "        long_ = [xr_merged[\"lon\"].values]\n",
    "        latg_ = [xr_merged[\"lat\"].values]\n",
    "        \n",
    "        df_par_near = ds_PAR_list[i].sel(lon=long_[0], lat=latg_[0], method='nearest')\n",
    "        same_coord = df_par_near.assign_coords(lon = long_[0], lat = latg_[0])\n",
    "        xr_merged_ = xr_merged.merge(same_coord, join = \"inner\")\n",
    "        \n",
    "        df_frame = xr_merged_.to_dataframe()\n",
    "        df_ = df_frame.dropna().reset_index()\n",
    "        df_conc.append(df_)\n",
    "        i = i + 1\n",
    "    return pd.concat(df_conc)\n",
    "        "
   ]
  },
  {
   "cell_type": "code",
   "execution_count": 265,
   "metadata": {},
   "outputs": [],
   "source": [
    "df_Survey_PAR = PAR_pre(df_PAR, df_Survey_merged, Survey_dates)"
   ]
  },
  {
   "cell_type": "code",
   "execution_count": 266,
   "metadata": {},
   "outputs": [],
   "source": [
    "df_Survey_PAR.to_csv(\"../Data/Environmental_data/df_env_merged_par.csv\")"
   ]
  },
  {
   "cell_type": "code",
   "execution_count": 3,
   "metadata": {},
   "outputs": [],
   "source": [
    "df_Survey_merged = pd.read_csv(\"../Data/Environmental_data/df_env_merged_par.csv\")"
   ]
  },
  {
   "cell_type": "code",
   "execution_count": 7,
   "metadata": {},
   "outputs": [],
   "source": [
    "df_Survey_merged.drop(columns = \"Unnamed: 0\", inplace = True)"
   ]
  },
  {
   "cell_type": "code",
   "execution_count": 22,
   "metadata": {},
   "outputs": [],
   "source": [
    "\n",
    "df_Survey_merged['geometry'] = df_Survey_merged['geometry'].apply(wkt.loads)\n",
    "df_Survey_merged = pf.make_geo_frame(df_Survey_merged)"
   ]
  },
  {
   "cell_type": "markdown",
   "metadata": {},
   "source": [
    "### Port"
   ]
  },
  {
   "cell_type": "code",
   "execution_count": 9,
   "metadata": {},
   "outputs": [],
   "source": [
    "from osgeo import gdal\n",
    "\n",
    "inputfile = '../Data/Environmental_data/distance-from-port-v1.tiff'\n",
    "outputfile = '../Data/Environmental_data/distance-from-port.nc'\n",
    "#Do not change this line, the following command will convert the geoTIFF to a netCDF\n",
    "ds = gdal.Translate(outputfile, inputfile, format='NetCDF')"
   ]
  },
  {
   "cell_type": "code",
   "execution_count": 10,
   "metadata": {},
   "outputs": [],
   "source": [
    "ds_port_dist = xr.open_dataset(\"../Data/Environmental_data/distance-from-port.nc\")"
   ]
  },
  {
   "cell_type": "code",
   "execution_count": 11,
   "metadata": {},
   "outputs": [],
   "source": [
    "# Bounds of coordinates for Pacific\n",
    "latbounds = [-24, 4]\n",
    "lonbounds = [110, 160]\n",
    "lats = ds_port_dist.variables[\"lat\"][:]\n",
    "lons = ds_port_dist.variables[\"lon\"][:]\n",
    "# latitude lower and upper index\n",
    "latli = np.argmin( np.abs( lats - latbounds[0] ).values )\n",
    "latui = np.argmin( np.abs( lats - latbounds[1] ).values ) \n",
    "# longitude lower and upper index\n",
    "lonli = np.argmin( np.abs( lons - lonbounds[0] ).values )\n",
    "lonui = np.argmin( np.abs( lons - lonbounds[1] ).values )  \n",
    "\n",
    "\n"
   ]
  },
  {
   "cell_type": "code",
   "execution_count": 12,
   "metadata": {},
   "outputs": [],
   "source": [
    "# Subset for the given coordinates\n",
    "PortSubset = ds_port_dist.variables['Band1'][latli:latui , lonli:lonui ] \n"
   ]
  },
  {
   "cell_type": "code",
   "execution_count": 13,
   "metadata": {},
   "outputs": [],
   "source": [
    "# Dataset with the chlor amongst the different coordinates\n",
    "ds_sub_port = xr.Dataset(data_vars={\"Port_dist\": PortSubset}, coords = {\"lon\":ds_port_dist[\"lon\"][lonli:lonui], \"lat\": ds_port_dist[\"lat\"][latli:latui]})\n"
   ]
  },
  {
   "cell_type": "code",
   "execution_count": 14,
   "metadata": {},
   "outputs": [],
   "source": [
    "df_port = ds_sub_port.to_dataframe()\n"
   ]
  },
  {
   "cell_type": "code",
   "execution_count": 15,
   "metadata": {},
   "outputs": [],
   "source": [
    "df_port.reset_index(inplace = True)"
   ]
  },
  {
   "cell_type": "code",
   "execution_count": 16,
   "metadata": {},
   "outputs": [],
   "source": [
    "# remove the Nan values, so that it automatically takes the other ones that are closest\n",
    "df_port = df_port.dropna(axis = 0)"
   ]
  },
  {
   "cell_type": "code",
   "execution_count": 17,
   "metadata": {},
   "outputs": [
    {
     "name": "stdout",
     "output_type": "stream",
     "text": [
      "    lat     lon   Port_dist                 geometry\n",
      "0 -24.0  110.00  345.815704  POINT (-24.000 110.000)\n",
      "1 -24.0  110.01  344.802856  POINT (-24.000 110.010)\n",
      "2 -24.0  110.02  343.790009  POINT (-24.000 110.020)\n",
      "3 -24.0  110.03  342.777191  POINT (-24.000 110.030)\n",
      "4 -24.0  110.04  341.764404  POINT (-24.000 110.040)\n"
     ]
    }
   ],
   "source": [
    "gdf_port = gpd.GeoDataFrame(df_port, geometry=gpd.points_from_xy(df_port.lat, df_port.lon))\n",
    "\n",
    "print(gdf_port.head())"
   ]
  },
  {
   "cell_type": "code",
   "execution_count": 18,
   "metadata": {},
   "outputs": [],
   "source": [
    "gdf_port.drop(columns = [\"lat\", \"lon\"], inplace = True)"
   ]
  },
  {
   "cell_type": "code",
   "execution_count": 24,
   "metadata": {},
   "outputs": [],
   "source": [
    "Closest_port = dp.nearest_neighbor(df_Survey_merged, gdf_port, return_dist=True)"
   ]
  },
  {
   "cell_type": "code",
   "execution_count": 32,
   "metadata": {},
   "outputs": [
    {
     "data": {
      "text/html": [
       "<div>\n",
       "<style scoped>\n",
       "    .dataframe tbody tr th:only-of-type {\n",
       "        vertical-align: middle;\n",
       "    }\n",
       "\n",
       "    .dataframe tbody tr th {\n",
       "        vertical-align: top;\n",
       "    }\n",
       "\n",
       "    .dataframe thead th {\n",
       "        text-align: right;\n",
       "    }\n",
       "</style>\n",
       "<table border=\"1\" class=\"dataframe\">\n",
       "  <thead>\n",
       "    <tr style=\"text-align: right;\">\n",
       "      <th></th>\n",
       "      <th>Port_dist</th>\n",
       "      <th>geometry</th>\n",
       "      <th>distance</th>\n",
       "    </tr>\n",
       "  </thead>\n",
       "  <tbody>\n",
       "    <tr>\n",
       "      <th>0</th>\n",
       "      <td>60.447258</td>\n",
       "      <td>POINT (-18.830 147.650)</td>\n",
       "      <td>404.245121</td>\n",
       "    </tr>\n",
       "    <tr>\n",
       "      <th>1</th>\n",
       "      <td>63.403625</td>\n",
       "      <td>POINT (-18.810 147.670)</td>\n",
       "      <td>416.935248</td>\n",
       "    </tr>\n",
       "    <tr>\n",
       "      <th>2</th>\n",
       "      <td>79.639008</td>\n",
       "      <td>POINT (-18.670 147.720)</td>\n",
       "      <td>520.150084</td>\n",
       "    </tr>\n",
       "    <tr>\n",
       "      <th>3</th>\n",
       "      <td>80.634659</td>\n",
       "      <td>POINT (-18.660 147.720)</td>\n",
       "      <td>601.594003</td>\n",
       "    </tr>\n",
       "    <tr>\n",
       "      <th>4</th>\n",
       "      <td>82.516258</td>\n",
       "      <td>POINT (-18.590 147.570)</td>\n",
       "      <td>533.509550</td>\n",
       "    </tr>\n",
       "    <tr>\n",
       "      <th>...</th>\n",
       "      <td>...</td>\n",
       "      <td>...</td>\n",
       "      <td>...</td>\n",
       "    </tr>\n",
       "    <tr>\n",
       "      <th>411</th>\n",
       "      <td>34.628056</td>\n",
       "      <td>POINT (-8.220 125.530)</td>\n",
       "      <td>174.526710</td>\n",
       "    </tr>\n",
       "    <tr>\n",
       "      <th>412</th>\n",
       "      <td>35.853439</td>\n",
       "      <td>POINT (-8.210 125.620)</td>\n",
       "      <td>321.991143</td>\n",
       "    </tr>\n",
       "    <tr>\n",
       "      <th>413</th>\n",
       "      <td>39.474037</td>\n",
       "      <td>POINT (-8.180 125.640)</td>\n",
       "      <td>442.709526</td>\n",
       "    </tr>\n",
       "    <tr>\n",
       "      <th>414</th>\n",
       "      <td>1.099620</td>\n",
       "      <td>POINT (-8.540 125.610)</td>\n",
       "      <td>386.734287</td>\n",
       "    </tr>\n",
       "    <tr>\n",
       "      <th>415</th>\n",
       "      <td>3.127721</td>\n",
       "      <td>POINT (-8.520 125.620)</td>\n",
       "      <td>457.549400</td>\n",
       "    </tr>\n",
       "  </tbody>\n",
       "</table>\n",
       "<p>416 rows × 3 columns</p>\n",
       "</div>"
      ],
      "text/plain": [
       "     Port_dist                 geometry    distance\n",
       "0    60.447258  POINT (-18.830 147.650)  404.245121\n",
       "1    63.403625  POINT (-18.810 147.670)  416.935248\n",
       "2    79.639008  POINT (-18.670 147.720)  520.150084\n",
       "3    80.634659  POINT (-18.660 147.720)  601.594003\n",
       "4    82.516258  POINT (-18.590 147.570)  533.509550\n",
       "..         ...                      ...         ...\n",
       "411  34.628056   POINT (-8.220 125.530)  174.526710\n",
       "412  35.853439   POINT (-8.210 125.620)  321.991143\n",
       "413  39.474037   POINT (-8.180 125.640)  442.709526\n",
       "414   1.099620   POINT (-8.540 125.610)  386.734287\n",
       "415   3.127721   POINT (-8.520 125.620)  457.549400\n",
       "\n",
       "[416 rows x 3 columns]"
      ]
     },
     "execution_count": 32,
     "metadata": {},
     "output_type": "execute_result"
    }
   ],
   "source": [
    "Closest_port"
   ]
  },
  {
   "cell_type": "code",
   "execution_count": 33,
   "metadata": {},
   "outputs": [],
   "source": [
    "df_Survey_merged[\"closest_port\"] = Closest_port[\"distance\"]"
   ]
  },
  {
   "cell_type": "code",
   "execution_count": 34,
   "metadata": {},
   "outputs": [
    {
     "data": {
      "text/html": [
       "<div>\n",
       "<style scoped>\n",
       "    .dataframe tbody tr th:only-of-type {\n",
       "        vertical-align: middle;\n",
       "    }\n",
       "\n",
       "    .dataframe tbody tr th {\n",
       "        vertical-align: top;\n",
       "    }\n",
       "\n",
       "    .dataframe thead th {\n",
       "        text-align: right;\n",
       "    }\n",
       "</style>\n",
       "<table border=\"1\" class=\"dataframe\">\n",
       "  <thead>\n",
       "    <tr style=\"text-align: right;\">\n",
       "      <th></th>\n",
       "      <th>lat</th>\n",
       "      <th>lon</th>\n",
       "      <th>transectid</th>\n",
       "      <th>surveydate</th>\n",
       "      <th>pr_hard_coral</th>\n",
       "      <th>pr_algae</th>\n",
       "      <th>pr_soft_coral</th>\n",
       "      <th>pr_oth_invert</th>\n",
       "      <th>pr_other</th>\n",
       "      <th>country</th>\n",
       "      <th>...</th>\n",
       "      <th>wind_speed</th>\n",
       "      <th>Chlor</th>\n",
       "      <th>solar_rad</th>\n",
       "      <th>solar_rad_clear_sky</th>\n",
       "      <th>elevation</th>\n",
       "      <th>id</th>\n",
       "      <th>DHW</th>\n",
       "      <th>SST</th>\n",
       "      <th>par</th>\n",
       "      <th>closest_port</th>\n",
       "    </tr>\n",
       "  </thead>\n",
       "  <tbody>\n",
       "    <tr>\n",
       "      <th>0</th>\n",
       "      <td>-18.833291</td>\n",
       "      <td>147.651632</td>\n",
       "      <td>11002.0</td>\n",
       "      <td>2012-10</td>\n",
       "      <td>0.1586</td>\n",
       "      <td>0.6852</td>\n",
       "      <td>0.0978</td>\n",
       "      <td>0.0216</td>\n",
       "      <td>0.0366</td>\n",
       "      <td>AUS</td>\n",
       "      <td>...</td>\n",
       "      <td>6.969212</td>\n",
       "      <td>0.155895</td>\n",
       "      <td>23342080.0</td>\n",
       "      <td>26556928.0</td>\n",
       "      <td>-34.0</td>\n",
       "      <td>41573.0</td>\n",
       "      <td>0.0</td>\n",
       "      <td>25.307097</td>\n",
       "      <td>50.354000</td>\n",
       "      <td>404.245121</td>\n",
       "    </tr>\n",
       "    <tr>\n",
       "      <th>1</th>\n",
       "      <td>-18.806353</td>\n",
       "      <td>147.669078</td>\n",
       "      <td>11001.0</td>\n",
       "      <td>2012-10</td>\n",
       "      <td>0.1141</td>\n",
       "      <td>0.6164</td>\n",
       "      <td>0.0497</td>\n",
       "      <td>0.0024</td>\n",
       "      <td>0.2173</td>\n",
       "      <td>AUS</td>\n",
       "      <td>...</td>\n",
       "      <td>6.969212</td>\n",
       "      <td>0.144960</td>\n",
       "      <td>23342080.0</td>\n",
       "      <td>26556928.0</td>\n",
       "      <td>-1.0</td>\n",
       "      <td>41573.0</td>\n",
       "      <td>0.0</td>\n",
       "      <td>25.307097</td>\n",
       "      <td>50.343998</td>\n",
       "      <td>416.935248</td>\n",
       "    </tr>\n",
       "    <tr>\n",
       "      <th>2</th>\n",
       "      <td>-18.665839</td>\n",
       "      <td>147.722256</td>\n",
       "      <td>11004.0</td>\n",
       "      <td>2012-10</td>\n",
       "      <td>0.0331</td>\n",
       "      <td>0.8568</td>\n",
       "      <td>0.0230</td>\n",
       "      <td>0.0068</td>\n",
       "      <td>0.0805</td>\n",
       "      <td>AUS</td>\n",
       "      <td>...</td>\n",
       "      <td>6.969212</td>\n",
       "      <td>0.223738</td>\n",
       "      <td>23342080.0</td>\n",
       "      <td>26556928.0</td>\n",
       "      <td>-2.0</td>\n",
       "      <td>41909.0</td>\n",
       "      <td>0.0</td>\n",
       "      <td>25.405806</td>\n",
       "      <td>49.325996</td>\n",
       "      <td>520.150084</td>\n",
       "    </tr>\n",
       "    <tr>\n",
       "      <th>3</th>\n",
       "      <td>-18.656207</td>\n",
       "      <td>147.724072</td>\n",
       "      <td>11003.0</td>\n",
       "      <td>2012-10</td>\n",
       "      <td>0.0485</td>\n",
       "      <td>0.9070</td>\n",
       "      <td>0.0225</td>\n",
       "      <td>0.0098</td>\n",
       "      <td>0.0121</td>\n",
       "      <td>AUS</td>\n",
       "      <td>...</td>\n",
       "      <td>6.969212</td>\n",
       "      <td>0.223738</td>\n",
       "      <td>23342080.0</td>\n",
       "      <td>26556928.0</td>\n",
       "      <td>-2.0</td>\n",
       "      <td>41909.0</td>\n",
       "      <td>0.0</td>\n",
       "      <td>25.405806</td>\n",
       "      <td>49.325996</td>\n",
       "      <td>601.594003</td>\n",
       "    </tr>\n",
       "    <tr>\n",
       "      <th>4</th>\n",
       "      <td>-18.590921</td>\n",
       "      <td>147.565032</td>\n",
       "      <td>11005.0</td>\n",
       "      <td>2012-10</td>\n",
       "      <td>0.4016</td>\n",
       "      <td>0.4756</td>\n",
       "      <td>0.0185</td>\n",
       "      <td>0.0046</td>\n",
       "      <td>0.0998</td>\n",
       "      <td>AUS</td>\n",
       "      <td>...</td>\n",
       "      <td>6.929661</td>\n",
       "      <td>0.946051</td>\n",
       "      <td>23284736.0</td>\n",
       "      <td>26554368.0</td>\n",
       "      <td>-11.0</td>\n",
       "      <td>40890.0</td>\n",
       "      <td>0.0</td>\n",
       "      <td>25.543548</td>\n",
       "      <td>50.809998</td>\n",
       "      <td>533.509550</td>\n",
       "    </tr>\n",
       "    <tr>\n",
       "      <th>...</th>\n",
       "      <td>...</td>\n",
       "      <td>...</td>\n",
       "      <td>...</td>\n",
       "      <td>...</td>\n",
       "      <td>...</td>\n",
       "      <td>...</td>\n",
       "      <td>...</td>\n",
       "      <td>...</td>\n",
       "      <td>...</td>\n",
       "      <td>...</td>\n",
       "      <td>...</td>\n",
       "      <td>...</td>\n",
       "      <td>...</td>\n",
       "      <td>...</td>\n",
       "      <td>...</td>\n",
       "      <td>...</td>\n",
       "      <td>...</td>\n",
       "      <td>...</td>\n",
       "      <td>...</td>\n",
       "      <td>...</td>\n",
       "      <td>...</td>\n",
       "    </tr>\n",
       "    <tr>\n",
       "      <th>411</th>\n",
       "      <td>-8.221244</td>\n",
       "      <td>125.530967</td>\n",
       "      <td>30018.0</td>\n",
       "      <td>2014-07</td>\n",
       "      <td>0.1706</td>\n",
       "      <td>0.6726</td>\n",
       "      <td>0.0805</td>\n",
       "      <td>0.0244</td>\n",
       "      <td>0.0520</td>\n",
       "      <td>TLS</td>\n",
       "      <td>...</td>\n",
       "      <td>5.920492</td>\n",
       "      <td>0.176333</td>\n",
       "      <td>18820608.0</td>\n",
       "      <td>19874304.0</td>\n",
       "      <td>148.0</td>\n",
       "      <td>17651.0</td>\n",
       "      <td>0.0</td>\n",
       "      <td>27.668065</td>\n",
       "      <td>56.494000</td>\n",
       "      <td>174.526710</td>\n",
       "    </tr>\n",
       "    <tr>\n",
       "      <th>412</th>\n",
       "      <td>-8.211822</td>\n",
       "      <td>125.622274</td>\n",
       "      <td>30014.0</td>\n",
       "      <td>2014-07</td>\n",
       "      <td>0.1706</td>\n",
       "      <td>0.5924</td>\n",
       "      <td>0.1170</td>\n",
       "      <td>0.0689</td>\n",
       "      <td>0.0510</td>\n",
       "      <td>TLS</td>\n",
       "      <td>...</td>\n",
       "      <td>5.920492</td>\n",
       "      <td>0.270113</td>\n",
       "      <td>18820608.0</td>\n",
       "      <td>19874304.0</td>\n",
       "      <td>16.0</td>\n",
       "      <td>17651.0</td>\n",
       "      <td>0.0</td>\n",
       "      <td>27.668065</td>\n",
       "      <td>54.964000</td>\n",
       "      <td>321.991143</td>\n",
       "    </tr>\n",
       "    <tr>\n",
       "      <th>413</th>\n",
       "      <td>-8.183781</td>\n",
       "      <td>125.638740</td>\n",
       "      <td>30013.0</td>\n",
       "      <td>2014-07</td>\n",
       "      <td>0.1273</td>\n",
       "      <td>0.7098</td>\n",
       "      <td>0.0633</td>\n",
       "      <td>0.0483</td>\n",
       "      <td>0.0513</td>\n",
       "      <td>TLS</td>\n",
       "      <td>...</td>\n",
       "      <td>6.554770</td>\n",
       "      <td>0.226052</td>\n",
       "      <td>18669568.0</td>\n",
       "      <td>19847680.0</td>\n",
       "      <td>-820.0</td>\n",
       "      <td>17651.0</td>\n",
       "      <td>0.0</td>\n",
       "      <td>27.668065</td>\n",
       "      <td>55.288000</td>\n",
       "      <td>442.709526</td>\n",
       "    </tr>\n",
       "    <tr>\n",
       "      <th>414</th>\n",
       "      <td>-8.538504</td>\n",
       "      <td>125.606825</td>\n",
       "      <td>30026.0</td>\n",
       "      <td>2014-08</td>\n",
       "      <td>0.1017</td>\n",
       "      <td>0.5661</td>\n",
       "      <td>0.2066</td>\n",
       "      <td>0.0140</td>\n",
       "      <td>0.1117</td>\n",
       "      <td>TLS</td>\n",
       "      <td>...</td>\n",
       "      <td>2.934158</td>\n",
       "      <td>0.404360</td>\n",
       "      <td>20266496.0</td>\n",
       "      <td>21339136.0</td>\n",
       "      <td>10.0</td>\n",
       "      <td>17651.0</td>\n",
       "      <td>0.0</td>\n",
       "      <td>27.077097</td>\n",
       "      <td>42.652000</td>\n",
       "      <td>386.734287</td>\n",
       "    </tr>\n",
       "    <tr>\n",
       "      <th>415</th>\n",
       "      <td>-8.518996</td>\n",
       "      <td>125.624035</td>\n",
       "      <td>30025.0</td>\n",
       "      <td>2014-08</td>\n",
       "      <td>0.0820</td>\n",
       "      <td>0.5688</td>\n",
       "      <td>0.1600</td>\n",
       "      <td>0.0264</td>\n",
       "      <td>0.1627</td>\n",
       "      <td>TLS</td>\n",
       "      <td>...</td>\n",
       "      <td>3.091391</td>\n",
       "      <td>0.395349</td>\n",
       "      <td>16635904.0</td>\n",
       "      <td>19340288.0</td>\n",
       "      <td>32.0</td>\n",
       "      <td>17651.0</td>\n",
       "      <td>0.0</td>\n",
       "      <td>27.077097</td>\n",
       "      <td>42.652000</td>\n",
       "      <td>457.549400</td>\n",
       "    </tr>\n",
       "  </tbody>\n",
       "</table>\n",
       "<p>416 rows × 21 columns</p>\n",
       "</div>"
      ],
      "text/plain": [
       "           lat         lon  transectid surveydate  pr_hard_coral  pr_algae  \\\n",
       "0   -18.833291  147.651632     11002.0    2012-10         0.1586    0.6852   \n",
       "1   -18.806353  147.669078     11001.0    2012-10         0.1141    0.6164   \n",
       "2   -18.665839  147.722256     11004.0    2012-10         0.0331    0.8568   \n",
       "3   -18.656207  147.724072     11003.0    2012-10         0.0485    0.9070   \n",
       "4   -18.590921  147.565032     11005.0    2012-10         0.4016    0.4756   \n",
       "..         ...         ...         ...        ...            ...       ...   \n",
       "411  -8.221244  125.530967     30018.0    2014-07         0.1706    0.6726   \n",
       "412  -8.211822  125.622274     30014.0    2014-07         0.1706    0.5924   \n",
       "413  -8.183781  125.638740     30013.0    2014-07         0.1273    0.7098   \n",
       "414  -8.538504  125.606825     30026.0    2014-08         0.1017    0.5661   \n",
       "415  -8.518996  125.624035     30025.0    2014-08         0.0820    0.5688   \n",
       "\n",
       "     pr_soft_coral  pr_oth_invert  pr_other country  ... wind_speed     Chlor  \\\n",
       "0           0.0978         0.0216    0.0366     AUS  ...   6.969212  0.155895   \n",
       "1           0.0497         0.0024    0.2173     AUS  ...   6.969212  0.144960   \n",
       "2           0.0230         0.0068    0.0805     AUS  ...   6.969212  0.223738   \n",
       "3           0.0225         0.0098    0.0121     AUS  ...   6.969212  0.223738   \n",
       "4           0.0185         0.0046    0.0998     AUS  ...   6.929661  0.946051   \n",
       "..             ...            ...       ...     ...  ...        ...       ...   \n",
       "411         0.0805         0.0244    0.0520     TLS  ...   5.920492  0.176333   \n",
       "412         0.1170         0.0689    0.0510     TLS  ...   5.920492  0.270113   \n",
       "413         0.0633         0.0483    0.0513     TLS  ...   6.554770  0.226052   \n",
       "414         0.2066         0.0140    0.1117     TLS  ...   2.934158  0.404360   \n",
       "415         0.1600         0.0264    0.1627     TLS  ...   3.091391  0.395349   \n",
       "\n",
       "      solar_rad  solar_rad_clear_sky  elevation       id  DHW        SST  \\\n",
       "0    23342080.0           26556928.0      -34.0  41573.0  0.0  25.307097   \n",
       "1    23342080.0           26556928.0       -1.0  41573.0  0.0  25.307097   \n",
       "2    23342080.0           26556928.0       -2.0  41909.0  0.0  25.405806   \n",
       "3    23342080.0           26556928.0       -2.0  41909.0  0.0  25.405806   \n",
       "4    23284736.0           26554368.0      -11.0  40890.0  0.0  25.543548   \n",
       "..          ...                  ...        ...      ...  ...        ...   \n",
       "411  18820608.0           19874304.0      148.0  17651.0  0.0  27.668065   \n",
       "412  18820608.0           19874304.0       16.0  17651.0  0.0  27.668065   \n",
       "413  18669568.0           19847680.0     -820.0  17651.0  0.0  27.668065   \n",
       "414  20266496.0           21339136.0       10.0  17651.0  0.0  27.077097   \n",
       "415  16635904.0           19340288.0       32.0  17651.0  0.0  27.077097   \n",
       "\n",
       "           par  closest_port  \n",
       "0    50.354000    404.245121  \n",
       "1    50.343998    416.935248  \n",
       "2    49.325996    520.150084  \n",
       "3    49.325996    601.594003  \n",
       "4    50.809998    533.509550  \n",
       "..         ...           ...  \n",
       "411  56.494000    174.526710  \n",
       "412  54.964000    321.991143  \n",
       "413  55.288000    442.709526  \n",
       "414  42.652000    386.734287  \n",
       "415  42.652000    457.549400  \n",
       "\n",
       "[416 rows x 21 columns]"
      ]
     },
     "execution_count": 34,
     "metadata": {},
     "output_type": "execute_result"
    }
   ],
   "source": [
    "df_Survey_merged"
   ]
  },
  {
   "cell_type": "code",
   "execution_count": 35,
   "metadata": {},
   "outputs": [],
   "source": [
    "df_Survey_merged.to_csv(\"../Data/Environmental_data/df_env_merged.csv\", index = False)"
   ]
  },
  {
   "cell_type": "code",
   "execution_count": 29,
   "metadata": {},
   "outputs": [],
   "source": [
    "# Fetch the environmentally merged data :)\n",
    "\n",
    "df_Survey_merged = pd.read_csv(\"../Data/Environmental_data/df_env_merged.csv\")"
   ]
  },
  {
   "cell_type": "code",
   "execution_count": null,
   "metadata": {},
   "outputs": [],
   "source": []
  },
  {
   "cell_type": "code",
   "execution_count": 30,
   "metadata": {},
   "outputs": [],
   "source": [
    "Survey_dates = df_Survey_merged[\"surveydate\"].unique()"
   ]
  },
  {
   "cell_type": "code",
   "execution_count": null,
   "metadata": {},
   "outputs": [],
   "source": []
  },
  {
   "cell_type": "code",
   "execution_count": null,
   "metadata": {},
   "outputs": [],
   "source": []
  },
  {
   "cell_type": "code",
   "execution_count": 55,
   "metadata": {},
   "outputs": [
    {
     "ename": "FileNotFoundError",
     "evalue": "[Errno 2] No such file or directory: '\\n\\n\\n\\n\\n\\n\\n\\n<!DOCTYPE html PUBLIC \"-//W3C//DTD XHTML 1.0 Strict//EN\" \"http://www.w3.org/TR/xhtml1/DTD/xhtml1-strict.dtd\">\\n\\t<head>\\n\\t    <title>Login</title>\\n\\t\\t<link href=\"http://marine.copernicus.eu/favicon.ico\" rel=\"shortcut icon\" type=\"image/x-icon\" />\\n\\t\\t<!-- link rel=\"icon\" type=\"image/png\" href=\"http://myo-wp.techworks.ie/devel/templates/myocean/favicon.png\" /-->>\\n\\t    <meta http-equiv=\"Content-Type\" content=\"text/html; charset=utf-8\" />\\n\\n\\n\\t\\t\\n\\t\\t<link rel=\"stylesheet\" type=\"text/css\" href=\"/cas/newCss/css/myocean/screen/content.css\" media=\"all\" />\\n\\t\\t<link rel=\"stylesheet\" type=\"text/css\" href=\"/cas/newCss/css/myocean/screen/content_cc.css\" media=\"all\" />\\n\\t\\t<link rel=\"stylesheet\" type=\"text/css\" href=\"/cas/newCss/css/myocean/screen/patch_content_cc.css\" media=\"all\" />\\n\\t\\t<link rel=\"stylesheet\" type=\"text/css\" href=\"/cas/newCss/css/cssmanager.php?version=4.0.2-1288885946&amp;files=/cas/newCss/css/myocean/print/print_003.css\" media=\"print\" />\\n\\t\\t\\n\\t    <!--[if gte IE 6]><style type=\"text/css\" media=\"screen\">@import \\'css/ie_cas.css\\';</style><![endif]-->\\n\\t    <script type=\"text/javascript\" src=\"js/common_rosters.js\"></script>\\n\\t\\t<style type=\"text/css\">\\ninput.submit{cursor:pointer}\\n</style>\\n\\t</head>\\n\\t\\n\\t<body id=\"cas\"  class=\"claro\" onload=\"init();\" >\\n\\n\\t\\n\\t\\n\\t\\t<div id=\"white_background_inner_page\" style=\"height:105px;\"></div>\\n\\t\\t<div id=\"col3_content\" class=\"clearfix\">\\n\\t\\t\\n\\n\\t\\t\\t<img src=\"/css/myocean/print/images/logo_myocean_print.png\" width=\"1\" height=\"1\" align=\"left\" id=\"logoPrint\" alt=\"\" />\\n\\t\\t\\t<div id=\"breadcrumb\">\\n\\t\\t\\t\\t<a href=\"http://marine.copernicus.eu/\">Home</a> &gt; Login\\n\\t\\t\\t</div>\\n\\n\\t\\t\\t\\n\\t\\t\\t\\n\\t\\t\\t<h1>Welcome to the CMEMS Data Access Portal</h1>\\n\\t\\t\\t<br/>\\n\\t\\t\\t<p>Fill your login/password and click on <strong>Login</strong> to download data. If you are not registred yet click on <a href=\"http://marine.copernicus.eu/web/56-user-registration-form.php\" target=\"_parent\">Register</a></p>\\n            <p>If you have trouble logging in, make sure your browser is set to accept cookies.</p>\\n            <br/>\\n\\t\\n\\t\\n\\t\\n\\t\\n\\t\\t\\t<form id=\"authentification\" name=\"com-login\" class=\"fm-v clearfix\" action=\"/cas/login;jsessionid=42279A95A1319233B9F26DA29BEC83B3?service=https%3A%2F%2Fmy.cmems-du.eu%2Fmotu-web%2FMotu%3Faction%3Ddescribeproduct%26service%3DGLOBAL_REANALYSIS_PHY_001_030-TDS%26product%3Dglobal-reanalysis-phy-001-030-monthly.xml\" method=\"post\">\\n\\n\\t\\t\\t    \\n\\t\\t\\t\\t\\t<fieldset class=\"input\">\\n\\t\\t\\t\\t\\t\\n\\t\\t\\t\\t\\t\\t<label for=\"username\">Username</label>\\n\\t\\t\\t\\t\\t\\t<input id=\"username\" name=\"username\" class=\"required\" tabindex=\"1\" accesskey=\"i\" type=\"text\" value=\"\" size=\"25\" autocomplete=\"false\"/><br />\\n\\t\\t\\t\\t\\t\\t\\n\\t\\t\\t\\t\\t\\t<label for=\"password\">Password</label>\\n\\t\\t\\t\\t\\t\\t<input id=\"password\" name=\"password\" class=\"required\" tabindex=\"2\" accesskey=\"m\" type=\"password\" value=\"\" size=\"25\" autocomplete=\"off\"/><br />\\n\\n\\t\\t\\t\\t\\t\\t<input type=\"hidden\" name=\"lt\" value=\"_cA1D8C5AE-148E-D749-8EC8-FABFF29FE428_k65AF6780-B114-BE7F-1102-D1FC62665A43\" />\\n\\t\\t\\t\\t\\t\\t<input type=\"hidden\" name=\"_eventId\" value=\"submit\" />\\n                      \\n\\t\\t\\t\\t\\t\\t<div class=\"authentification_retrait_right\">\\n\\t\\t\\t\\t\\t\\t\\t<a href=\"http://marine.copernicus.eu/web/56-user-registration-form.php\" target=\"_parent\"><img src=\"/cas/newCss/css/myocean/screen/images/bt_register.gif\" alt=\"Register\" /></a>\\n\\t\\t\\t\\t\\t\\t\\t<input class=\"submit\" name=\"submit\" accesskey=\"l\" value=\" \" type=\"submit\" alt=\"Login\" />\\n\\t\\t\\t\\t\\t\\t</div>\\n\\n\\t\\t\\t\\t\\t</fieldset>\\n               \\n\\t            <p>\\n\\t\\t\\t\\t\\t<br/><br/>\\n\\t\\t\\t\\t\\t<i>- You are registered but have forgotten your login/password?</i><br/>\\n\\t\\t\\t\\t\\t<i>- Any question?</i><br/>\\n\\t\\t\\t\\t\\t<b>&rArr; CMEMS Service Desk : </b><A HREF=\"mailto:servicedesk.cmems@mercator-ocean.eu\"><b>servicedesk.cmems@mercator-ocean.eu</b></A>\\n\\t\\t\\t\\t</p>\\n\\n\\t\\t\\t</form>\\t\\n\\t\\t\\t\\t\\n\\t\\t\\t\\t<h3>Thank you for using CMEMS products</h3>\\n\\t\\t\\t\\t<br/>\\n\\t            <div id=\"sidebar\">\\n\\t                <i>For security reasons, please Exit your web browser when you quit services requiring authentication!</i>\\n\\t            </div>\\n        \\t\\n\\t\\t</div>\\n\\t    \\n\\t</body>\\n</html>\\n\\n'",
     "output_type": "error",
     "traceback": [
      "\u001b[0;31m---------------------------------------------------------------------------\u001b[0m",
      "\u001b[0;31mFileNotFoundError\u001b[0m                         Traceback (most recent call last)",
      "\u001b[0;32m<ipython-input-55-ac7faca174d7>\u001b[0m in \u001b[0;36m<module>\u001b[0;34m\u001b[0m\n\u001b[1;32m      3\u001b[0m \u001b[0;34m\u001b[0m\u001b[0m\n\u001b[1;32m      4\u001b[0m \u001b[0mr\u001b[0m \u001b[0;34m=\u001b[0m \u001b[0mrequests\u001b[0m\u001b[0;34m.\u001b[0m\u001b[0mget\u001b[0m\u001b[0;34m(\u001b[0m\u001b[0;34m'https://my.cmems-du.eu/motu-web/Motu?action=describeproduct&service=GLOBAL_REANALYSIS_PHY_001_030-TDS&product=global-reanalysis-phy-001-030-monthly.xml'\u001b[0m\u001b[0;34m,\u001b[0m  \u001b[0mauth\u001b[0m\u001b[0;34m=\u001b[0m\u001b[0;34m(\u001b[0m\u001b[0;34m'user'\u001b[0m\u001b[0;34m,\u001b[0m \u001b[0;34m'pass'\u001b[0m\u001b[0;34m)\u001b[0m\u001b[0;34m)\u001b[0m\u001b[0;34m\u001b[0m\u001b[0;34m\u001b[0m\u001b[0m\n\u001b[0;32m----> 5\u001b[0;31m \u001b[0mtree\u001b[0m \u001b[0;34m=\u001b[0m \u001b[0mET\u001b[0m\u001b[0;34m.\u001b[0m\u001b[0mparse\u001b[0m\u001b[0;34m(\u001b[0m\u001b[0mr\u001b[0m\u001b[0;34m.\u001b[0m\u001b[0mtext\u001b[0m\u001b[0;34m)\u001b[0m\u001b[0;34m\u001b[0m\u001b[0;34m\u001b[0m\u001b[0m\n\u001b[0m\u001b[1;32m      6\u001b[0m \u001b[0mroot\u001b[0m \u001b[0;34m=\u001b[0m \u001b[0mtree\u001b[0m\u001b[0;34m.\u001b[0m\u001b[0mgetroot\u001b[0m\u001b[0;34m(\u001b[0m\u001b[0;34m)\u001b[0m\u001b[0;34m\u001b[0m\u001b[0;34m\u001b[0m\u001b[0m\n",
      "\u001b[0;32m/usr/lib/python3.8/xml/etree/ElementTree.py\u001b[0m in \u001b[0;36mparse\u001b[0;34m(source, parser)\u001b[0m\n\u001b[1;32m   1200\u001b[0m     \"\"\"\n\u001b[1;32m   1201\u001b[0m     \u001b[0mtree\u001b[0m \u001b[0;34m=\u001b[0m \u001b[0mElementTree\u001b[0m\u001b[0;34m(\u001b[0m\u001b[0;34m)\u001b[0m\u001b[0;34m\u001b[0m\u001b[0;34m\u001b[0m\u001b[0m\n\u001b[0;32m-> 1202\u001b[0;31m     \u001b[0mtree\u001b[0m\u001b[0;34m.\u001b[0m\u001b[0mparse\u001b[0m\u001b[0;34m(\u001b[0m\u001b[0msource\u001b[0m\u001b[0;34m,\u001b[0m \u001b[0mparser\u001b[0m\u001b[0;34m)\u001b[0m\u001b[0;34m\u001b[0m\u001b[0;34m\u001b[0m\u001b[0m\n\u001b[0m\u001b[1;32m   1203\u001b[0m     \u001b[0;32mreturn\u001b[0m \u001b[0mtree\u001b[0m\u001b[0;34m\u001b[0m\u001b[0;34m\u001b[0m\u001b[0m\n\u001b[1;32m   1204\u001b[0m \u001b[0;34m\u001b[0m\u001b[0m\n",
      "\u001b[0;32m/usr/lib/python3.8/xml/etree/ElementTree.py\u001b[0m in \u001b[0;36mparse\u001b[0;34m(self, source, parser)\u001b[0m\n\u001b[1;32m    582\u001b[0m         \u001b[0mclose_source\u001b[0m \u001b[0;34m=\u001b[0m \u001b[0;32mFalse\u001b[0m\u001b[0;34m\u001b[0m\u001b[0;34m\u001b[0m\u001b[0m\n\u001b[1;32m    583\u001b[0m         \u001b[0;32mif\u001b[0m \u001b[0;32mnot\u001b[0m \u001b[0mhasattr\u001b[0m\u001b[0;34m(\u001b[0m\u001b[0msource\u001b[0m\u001b[0;34m,\u001b[0m \u001b[0;34m\"read\"\u001b[0m\u001b[0;34m)\u001b[0m\u001b[0;34m:\u001b[0m\u001b[0;34m\u001b[0m\u001b[0;34m\u001b[0m\u001b[0m\n\u001b[0;32m--> 584\u001b[0;31m             \u001b[0msource\u001b[0m \u001b[0;34m=\u001b[0m \u001b[0mopen\u001b[0m\u001b[0;34m(\u001b[0m\u001b[0msource\u001b[0m\u001b[0;34m,\u001b[0m \u001b[0;34m\"rb\"\u001b[0m\u001b[0;34m)\u001b[0m\u001b[0;34m\u001b[0m\u001b[0;34m\u001b[0m\u001b[0m\n\u001b[0m\u001b[1;32m    585\u001b[0m             \u001b[0mclose_source\u001b[0m \u001b[0;34m=\u001b[0m \u001b[0;32mTrue\u001b[0m\u001b[0;34m\u001b[0m\u001b[0;34m\u001b[0m\u001b[0m\n\u001b[1;32m    586\u001b[0m         \u001b[0;32mtry\u001b[0m\u001b[0;34m:\u001b[0m\u001b[0;34m\u001b[0m\u001b[0;34m\u001b[0m\u001b[0m\n",
      "\u001b[0;31mFileNotFoundError\u001b[0m: [Errno 2] No such file or directory: '\\n\\n\\n\\n\\n\\n\\n\\n<!DOCTYPE html PUBLIC \"-//W3C//DTD XHTML 1.0 Strict//EN\" \"http://www.w3.org/TR/xhtml1/DTD/xhtml1-strict.dtd\">\\n\\t<head>\\n\\t    <title>Login</title>\\n\\t\\t<link href=\"http://marine.copernicus.eu/favicon.ico\" rel=\"shortcut icon\" type=\"image/x-icon\" />\\n\\t\\t<!-- link rel=\"icon\" type=\"image/png\" href=\"http://myo-wp.techworks.ie/devel/templates/myocean/favicon.png\" /-->>\\n\\t    <meta http-equiv=\"Content-Type\" content=\"text/html; charset=utf-8\" />\\n\\n\\n\\t\\t\\n\\t\\t<link rel=\"stylesheet\" type=\"text/css\" href=\"/cas/newCss/css/myocean/screen/content.css\" media=\"all\" />\\n\\t\\t<link rel=\"stylesheet\" type=\"text/css\" href=\"/cas/newCss/css/myocean/screen/content_cc.css\" media=\"all\" />\\n\\t\\t<link rel=\"stylesheet\" type=\"text/css\" href=\"/cas/newCss/css/myocean/screen/patch_content_cc.css\" media=\"all\" />\\n\\t\\t<link rel=\"stylesheet\" type=\"text/css\" href=\"/cas/newCss/css/cssmanager.php?version=4.0.2-1288885946&amp;files=/cas/newCss/css/myocean/print/print_003.css\" media=\"print\" />\\n\\t\\t\\n\\t    <!--[if gte IE 6]><style type=\"text/css\" media=\"screen\">@import \\'css/ie_cas.css\\';</style><![endif]-->\\n\\t    <script type=\"text/javascript\" src=\"js/common_rosters.js\"></script>\\n\\t\\t<style type=\"text/css\">\\ninput.submit{cursor:pointer}\\n</style>\\n\\t</head>\\n\\t\\n\\t<body id=\"cas\"  class=\"claro\" onload=\"init();\" >\\n\\n\\t\\n\\t\\n\\t\\t<div id=\"white_background_inner_page\" style=\"height:105px;\"></div>\\n\\t\\t<div id=\"col3_content\" class=\"clearfix\">\\n\\t\\t\\n\\n\\t\\t\\t<img src=\"/css/myocean/print/images/logo_myocean_print.png\" width=\"1\" height=\"1\" align=\"left\" id=\"logoPrint\" alt=\"\" />\\n\\t\\t\\t<div id=\"breadcrumb\">\\n\\t\\t\\t\\t<a href=\"http://marine.copernicus.eu/\">Home</a> &gt; Login\\n\\t\\t\\t</div>\\n\\n\\t\\t\\t\\n\\t\\t\\t\\n\\t\\t\\t<h1>Welcome to the CMEMS Data Access Portal</h1>\\n\\t\\t\\t<br/>\\n\\t\\t\\t<p>Fill your login/password and click on <strong>Login</strong> to download data. If you are not registred yet click on <a href=\"http://marine.copernicus.eu/web/56-user-registration-form.php\" target=\"_parent\">Register</a></p>\\n            <p>If you have trouble logging in, make sure your browser is set to accept cookies.</p>\\n            <br/>\\n\\t\\n\\t\\n\\t\\n\\t\\n\\t\\t\\t<form id=\"authentification\" name=\"com-login\" class=\"fm-v clearfix\" action=\"/cas/login;jsessionid=42279A95A1319233B9F26DA29BEC83B3?service=https%3A%2F%2Fmy.cmems-du.eu%2Fmotu-web%2FMotu%3Faction%3Ddescribeproduct%26service%3DGLOBAL_REANALYSIS_PHY_001_030-TDS%26product%3Dglobal-reanalysis-phy-001-030-monthly.xml\" method=\"post\">\\n\\n\\t\\t\\t    \\n\\t\\t\\t\\t\\t<fieldset class=\"input\">\\n\\t\\t\\t\\t\\t\\n\\t\\t\\t\\t\\t\\t<label for=\"username\">Username</label>\\n\\t\\t\\t\\t\\t\\t<input id=\"username\" name=\"username\" class=\"required\" tabindex=\"1\" accesskey=\"i\" type=\"text\" value=\"\" size=\"25\" autocomplete=\"false\"/><br />\\n\\t\\t\\t\\t\\t\\t\\n\\t\\t\\t\\t\\t\\t<label for=\"password\">Password</label>\\n\\t\\t\\t\\t\\t\\t<input id=\"password\" name=\"password\" class=\"required\" tabindex=\"2\" accesskey=\"m\" type=\"password\" value=\"\" size=\"25\" autocomplete=\"off\"/><br />\\n\\n\\t\\t\\t\\t\\t\\t<input type=\"hidden\" name=\"lt\" value=\"_cA1D8C5AE-148E-D749-8EC8-FABFF29FE428_k65AF6780-B114-BE7F-1102-D1FC62665A43\" />\\n\\t\\t\\t\\t\\t\\t<input type=\"hidden\" name=\"_eventId\" value=\"submit\" />\\n                      \\n\\t\\t\\t\\t\\t\\t<div class=\"authentification_retrait_right\">\\n\\t\\t\\t\\t\\t\\t\\t<a href=\"http://marine.copernicus.eu/web/56-user-registration-form.php\" target=\"_parent\"><img src=\"/cas/newCss/css/myocean/screen/images/bt_register.gif\" alt=\"Register\" /></a>\\n\\t\\t\\t\\t\\t\\t\\t<input class=\"submit\" name=\"submit\" accesskey=\"l\" value=\" \" type=\"submit\" alt=\"Login\" />\\n\\t\\t\\t\\t\\t\\t</div>\\n\\n\\t\\t\\t\\t\\t</fieldset>\\n               \\n\\t            <p>\\n\\t\\t\\t\\t\\t<br/><br/>\\n\\t\\t\\t\\t\\t<i>- You are registered but have forgotten your login/password?</i><br/>\\n\\t\\t\\t\\t\\t<i>- Any question?</i><br/>\\n\\t\\t\\t\\t\\t<b>&rArr; CMEMS Service Desk : </b><A HREF=\"mailto:servicedesk.cmems@mercator-ocean.eu\"><b>servicedesk.cmems@mercator-ocean.eu</b></A>\\n\\t\\t\\t\\t</p>\\n\\n\\t\\t\\t</form>\\t\\n\\t\\t\\t\\t\\n\\t\\t\\t\\t<h3>Thank you for using CMEMS products</h3>\\n\\t\\t\\t\\t<br/>\\n\\t            <div id=\"sidebar\">\\n\\t                <i>For security reasons, please Exit your web browser when you quit services requiring authentication!</i>\\n\\t            </div>\\n        \\t\\n\\t\\t</div>\\n\\t    \\n\\t</body>\\n</html>\\n\\n'"
     ]
    }
   ],
   "source": [
    "import requests\n",
    "import xml.etree.ElementTree as ET\n",
    "\n",
    "r = requests.get('',  auth=('user', 'pass'))\n",
    "tree = ET.parse(r.text)\n",
    "root = tree.getroot()"
   ]
  },
  {
   "cell_type": "code",
   "execution_count": null,
   "metadata": {},
   "outputs": [],
   "source": []
  },
  {
   "cell_type": "code",
   "execution_count": null,
   "metadata": {},
   "outputs": [],
   "source": []
  }
 ],
 "metadata": {
  "kernelspec": {
   "display_name": "Python 3",
   "language": "python",
   "name": "python3"
  },
  "language_info": {
   "codemirror_mode": {
    "name": "ipython",
    "version": 3
   },
   "file_extension": ".py",
   "mimetype": "text/x-python",
   "name": "python",
   "nbconvert_exporter": "python",
   "pygments_lexer": "ipython3",
   "version": "3.8.5"
  }
 },
 "nbformat": 4,
 "nbformat_minor": 4
}
