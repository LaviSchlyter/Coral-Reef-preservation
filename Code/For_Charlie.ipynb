{
 "cells": [
  {
   "cell_type": "markdown",
   "id": "included-nation",
   "metadata": {},
   "source": [
    "### The plan:\n",
    "\n",
    "- Looping through the different tiff files\n",
    "- Merge them together\n",
    "- Give 1 to values = 40 (agricultural land) and 0 to other\n",
    "- Keep only coordinates where you have one :)\n",
    "- Coordinates are in x,y (EPSG: 3857), I convert to UTM\n",
    "- use neighbor function to compute closest distance to field"
   ]
  },
  {
   "cell_type": "code",
   "execution_count": 19,
   "id": "looking-neighborhood",
   "metadata": {},
   "outputs": [],
   "source": [
    "\n",
    "import numpy as np\n",
    "import xarray as xr\n",
    "import glob\n",
    "\n",
    "import geopandas as gpd\n",
    "\n",
    "import shapely\n",
    "from shapely.wkt import loads\n",
    "from shapely import wkt\n",
    "import pandas as pd\n",
    "\n",
    "import rasterio\n",
    "from rasterio.features import shapes\n",
    "from rasterio.merge import merge\n",
    "from rasterio.plot import show_hist\n",
    "from rasterio.plot import show\n",
    "import rioxarray\n",
    "\n",
    "from pyproj import Proj, transform\n",
    "\n",
    "\n",
    "from rasterio.plot import show"
   ]
  },
  {
   "cell_type": "code",
   "execution_count": 20,
   "id": "prompt-baking",
   "metadata": {},
   "outputs": [],
   "source": [
    "# List of all files\n",
    "list_tif_files = glob.glob(\"Data_test/Land_cover_masked_26_04/*.tif\")\n",
    "list_tif_test_files = glob.glob(\"Data_test/*.tif\")\n"
   ]
  },
  {
   "cell_type": "code",
   "execution_count": null,
   "id": "informal-installation",
   "metadata": {},
   "outputs": [],
   "source": [
    "# Merging them all together \n",
    "arr, out_trans = merge(list_tif_files)\n",
    "\n",
    "# remove 1st dimension\n",
    "arr = arr[0, :, :]"
   ]
  },
  {
   "cell_type": "code",
   "execution_count": 12,
   "id": "understood-london",
   "metadata": {},
   "outputs": [
    {
     "name": "stderr",
     "output_type": "stream",
     "text": [
      "/usr/lib/python3/dist-packages/pyproj/crs/crs.py:55: FutureWarning: '+init=<authority>:<code>' syntax is deprecated. '<authority>:<code>' is the preferred initialization method. When making the change, be mindful of axis order changes: https://pyproj4.github.io/pyproj/stable/gotchas.html#axis-order-changes-in-proj-6\n",
      "  return _prepare_from_string(\" \".join(pjargs))\n",
      "/usr/lib/python3/dist-packages/pyproj/crs/crs.py:55: FutureWarning: '+init=<authority>:<code>' syntax is deprecated. '<authority>:<code>' is the preferred initialization method. When making the change, be mindful of axis order changes: https://pyproj4.github.io/pyproj/stable/gotchas.html#axis-order-changes-in-proj-6\n",
      "  return _prepare_from_string(\" \".join(pjargs))\n"
     ]
    }
   ],
   "source": [
    "# Take indices where you have agricultural land \n",
    "coords = np.where(arr == 1)\n",
    "# keep indices of coordinates with one\n",
    "x_ind = list(coords[0])\n",
    "y_ind = list(coords[1])\n",
    "# Find the (x,y) coordinates in the raster file\n",
    "coordinate = rasterio.transform.xy(out_trans,x_ind, x_ind)\n",
    "x_y_coords = np.dstack((coordinate[0],coordinate[1]))\n",
    "\n"
   ]
  },
  {
   "cell_type": "code",
   "execution_count": null,
   "id": "expected-shipping",
   "metadata": {},
   "outputs": [],
   "source": [
    "# Remove dimension\n",
    "x_y_coords = x_y_coords[0, :, :]\n",
    "\n",
    "# Reproject to UTM\n",
    "inProj = Proj(init='epsg:3857')\n",
    "outProj = Proj(init='epsg:4326')\n",
    "\n",
    "x2,y2 = transform(inProj,outProj,x_y_coords[:,0],x_y_coords[:,1])"
   ]
  },
  {
   "cell_type": "code",
   "execution_count": 15,
   "id": "economic-question",
   "metadata": {},
   "outputs": [],
   "source": [
    "# Make a dataframe with the coordinates\n",
    "df = pd.DataFrame(x2,y2).reset_index()"
   ]
  },
  {
   "cell_type": "code",
   "execution_count": 16,
   "id": "wooden-breathing",
   "metadata": {},
   "outputs": [],
   "source": [
    "df.rename(columns = {\"index\":\"lat\", 0:\"lon\"}, inplace = True)"
   ]
  },
  {
   "cell_type": "code",
   "execution_count": 17,
   "id": "manual-polyester",
   "metadata": {},
   "outputs": [],
   "source": [
    "# Make a geodataframe with the coordinates\n",
    "gdf = gpd.GeoDataFrame(\n",
    "    df, geometry=gpd.points_from_xy(df.lat, df.lon))"
   ]
  },
  {
   "cell_type": "code",
   "execution_count": 18,
   "id": "sweet-greece",
   "metadata": {},
   "outputs": [],
   "source": [
    "# Take the latest :)))) merged file for the other dateas\n",
    "df_Survey_merged = pd.read_csv(\"Data_test/merged_26_04.csv\")"
   ]
  },
  {
   "cell_type": "code",
   "execution_count": 19,
   "id": "collectible-mongolia",
   "metadata": {},
   "outputs": [],
   "source": [
    "\n",
    "def geo_loads(df):\n",
    "    df['geometry'] = df['geometry'].apply(wkt.loads)\n",
    "    \n",
    "def make_geo_frame(df):\n",
    "    return gpd.GeoDataFrame(df, geometry = 'geometry')"
   ]
  },
  {
   "cell_type": "code",
   "execution_count": 20,
   "id": "healthy-transition",
   "metadata": {},
   "outputs": [],
   "source": [
    "geo_loads(df_Survey_merged)"
   ]
  },
  {
   "cell_type": "code",
   "execution_count": 21,
   "id": "maritime-gibson",
   "metadata": {},
   "outputs": [],
   "source": [
    "df_Survey_merged = make_geo_frame(df_Survey_merged)"
   ]
  },
  {
   "cell_type": "code",
   "execution_count": 22,
   "id": "analyzed-phase",
   "metadata": {},
   "outputs": [],
   "source": [
    "from sklearn.neighbors import BallTree\n",
    "import numpy as np\n",
    "\n",
    "def get_nearest(src_points, candidates, k_neighbors=1):\n",
    "    \"\"\"Find nearest neighbors for all source points from a set of candidate points\"\"\"\n",
    "\n",
    "    # Create tree from the candidate points\n",
    "    tree = BallTree(candidates, leaf_size=15, metric='haversine')\n",
    "\n",
    "    # Find closest points and distances\n",
    "    distances, indices = tree.query(src_points, k=k_neighbors)\n",
    "\n",
    "    # Transpose to get distances and indices into arrays\n",
    "    distances = distances.transpose()\n",
    "    indices = indices.transpose()\n",
    "\n",
    "    # Get closest indices and distances (i.e. array at index 0)\n",
    "    # note: for the second closest points, you would take index 1, etc.\n",
    "    closest = indices[0]\n",
    "    closest_dist = distances[0]\n",
    "\n",
    "    # Return indices and distances\n",
    "    return (closest, closest_dist)\n",
    "def nearest_neighbor(left_gdf, right_gdf, return_dist=True):\n",
    "    \"\"\"\n",
    "    For each point in left_gdf, find closest point in right GeoDataFrame and return them.\n",
    "    \n",
    "    NOTICE: Assumes that the input Points are in WGS84 projection (lat/lon).\n",
    "    \"\"\"\n",
    "    \n",
    "    left_geom_col = left_gdf.geometry.name\n",
    "    right_geom_col = right_gdf.geometry.name\n",
    "    \n",
    "    # Ensure that index in right gdf is formed of sequential numbers\n",
    "    right = right_gdf.copy().reset_index(drop=True)\n",
    "    \n",
    "    # Parse coordinates from points and insert them into a numpy array as RADIANS\n",
    "    left_radians = np.array(left_gdf[left_geom_col].apply(lambda geom: (geom.x * np.pi / 180, geom.y * np.pi / 180)).to_list())\n",
    "    right_radians = np.array(right[right_geom_col].apply(lambda geom: (geom.x * np.pi / 180, geom.y * np.pi / 180)).to_list())\n",
    "    \n",
    "    # Find the nearest points\n",
    "    # -----------------------\n",
    "    # closest ==> index in right_gdf that corresponds to the closest point\n",
    "    # dist ==> distance between the nearest neighbors (in meters)\n",
    "    \n",
    "    closest, dist = get_nearest(src_points=left_radians, candidates=right_radians)\n",
    "\n",
    "    # Return points from right GeoDataFrame that are closest to points in left GeoDataFrame\n",
    "    closest_points = right.loc[closest]\n",
    "    \n",
    "    \n",
    "    # Ensure that the index corresponds the one in left_gdf\n",
    "    closest_points = closest_points.reset_index(drop=True)\n",
    "    \n",
    "    # Add distance if requested \n",
    "    if return_dist:\n",
    "        # Convert to meters from radians\n",
    "        earth_radius = 6371000  # meters\n",
    "        closest_points['distance'] = dist * earth_radius\n",
    "        \n",
    "    return closest_points"
   ]
  },
  {
   "cell_type": "code",
   "execution_count": 23,
   "id": "sitting-madonna",
   "metadata": {},
   "outputs": [],
   "source": [
    "# dataframe with closest agricultural land \n",
    "df_near = nearest_neighbor(df_Survey_merged, gdf)"
   ]
  },
  {
   "cell_type": "code",
   "execution_count": 24,
   "id": "following-canon",
   "metadata": {},
   "outputs": [],
   "source": [
    "df_Survey_merged[\"dist_agricultural\"] = df_near[\"distance\"]"
   ]
  },
  {
   "cell_type": "code",
   "execution_count": 25,
   "id": "raised-sodium",
   "metadata": {},
   "outputs": [],
   "source": [
    "df_Survey_merged.to_csv(\"Data_test/merged_with_agr_23_04.csv\",index = False)"
   ]
  }
 ],
 "metadata": {
  "kernelspec": {
   "display_name": "Python 3",
   "language": "python",
   "name": "python3"
  },
  "language_info": {
   "codemirror_mode": {
    "name": "ipython",
    "version": 3
   },
   "file_extension": ".py",
   "mimetype": "text/x-python",
   "name": "python",
   "nbconvert_exporter": "python",
   "pygments_lexer": "ipython3",
   "version": "3.8.5"
  }
 },
 "nbformat": 4,
 "nbformat_minor": 5
}
