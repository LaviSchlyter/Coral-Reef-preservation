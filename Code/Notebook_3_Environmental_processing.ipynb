{
 "cells": [
  {
   "cell_type": "markdown",
   "metadata": {},
   "source": [
    "# Notebook 3\n",
    "## Data collection and processing of the Pacific Ocean\n",
    "\n",
    "Merging with survey for environmental data \n",
    "- Sea surface Temperature\n",
    "- Degree Heating Week\n",
    "- Wind speed\n",
    "- Chrolophyll\n",
    "- Solar Radiation\n",
    "- PAR (Photosynthetically Active Radiation)\n",
    "- Ocean Depth \n",
    "\n",
    "+ ++++++\n",
    "- Distance to Port\n",
    "\n",
    "\n",
    "For the extended version, we follow up on Notebook 3\n",
    "Here we only do simple merging to closest survey and corresponding month/year"
   ]
  },
  {
   "cell_type": "code",
   "execution_count": 1,
   "metadata": {},
   "outputs": [
    {
     "name": "stderr",
     "output_type": "stream",
     "text": [
      "/home/lavinia/.local/lib/python3.8/site-packages/geopandas/_compat.py:106: UserWarning: The Shapely GEOS version (3.8.0-CAPI-1.13.1 ) is incompatible with the GEOS version PyGEOS was compiled with (3.9.0-CAPI-1.16.2). Conversions between both will be slow.\n",
      "  warnings.warn(\n"
     ]
    }
   ],
   "source": [
    "# Importing packages\n",
    "import gdal\n",
    "import pandas as pd\n",
    "import numpy as np\n",
    "import geopandas as gpd\n",
    "from io import StringIO\n",
    "from shapely.geometry import Point\n",
    "import osr\n",
    "import matplotlib.pyplot as plt\n",
    "from scipy.spatial import cKDTree\n",
    "import seaborn as sns\n",
    "import os\n",
    "import sys\n",
    "import glob\n",
    "sys.path.insert(0, os.path.abspath(''))\n",
    "\n",
    "import data_processing_helper as dp\n",
    "import practical_functions as pf\n",
    "import xarray as xr\n",
    "import pygrib\n",
    "import cartopy.crs as ccrs\n",
    "import cartopy.feature as cfeature\n",
    "import netCDF4 as nc\n",
    "import requests as rq\n",
    "import shapely\n",
    "from shapely import wkt\n",
    "from shapely.wkt import loads\n",
    "from osgeo import gdal\n",
    "plt.style.use('ggplot') # use ggplot style"
   ]
  },
  {
   "cell_type": "markdown",
   "metadata": {},
   "source": [
    "## Loading the Shapefiles for the Pacific"
   ]
  },
  {
   "cell_type": "code",
   "execution_count": 2,
   "metadata": {},
   "outputs": [],
   "source": [
    "gdf_AUS = gpd.read_file('../Data/Reefs/shp_GBR/Reefs_GBR.shp')\n",
    "drop_cols_shape = ['left', 'top', 'right', 'bottom', 'AREA']\n",
    "gdf_IND = gpd.read_file('../Data/Reefs/shp_indonesia/indonesia.shp').drop(columns = drop_cols_shape)\n",
    "gdf_TLS = gpd.read_file('../Data/Reefs/shp_timorleste/timorleste.shp').drop(columns = drop_cols_shape)\n",
    "gdf_SLB = gpd.read_file('../Data/Reefs/shp_solomon/solomon.shp').drop(columns = drop_cols_shape)\n",
    "\n",
    "# Combining the shapefiles\n",
    "gdf_PAC = gpd.GeoDataFrame(pd.concat([gdf_AUS, gdf_IND, gdf_TLS, gdf_SLB]))"
   ]
  },
  {
   "cell_type": "markdown",
   "metadata": {},
   "source": [
    "## Loading the Survey folder\n",
    "It contains the coordinates of the Survey and the percentage of algae, corals, soft_corals or other_invertebrates\n"
   ]
  },
  {
   "cell_type": "code",
   "execution_count": 3,
   "metadata": {},
   "outputs": [
    {
     "data": {
      "text/html": [
       "<div>\n",
       "<style scoped>\n",
       "    .dataframe tbody tr th:only-of-type {\n",
       "        vertical-align: middle;\n",
       "    }\n",
       "\n",
       "    .dataframe tbody tr th {\n",
       "        vertical-align: top;\n",
       "    }\n",
       "\n",
       "    .dataframe thead th {\n",
       "        text-align: right;\n",
       "    }\n",
       "</style>\n",
       "<table border=\"1\" class=\"dataframe\">\n",
       "  <thead>\n",
       "    <tr style=\"text-align: right;\">\n",
       "      <th></th>\n",
       "      <th>surveyid</th>\n",
       "      <th>transectid</th>\n",
       "      <th>surveydate</th>\n",
       "      <th>ocean</th>\n",
       "      <th>country</th>\n",
       "      <th>folder_name</th>\n",
       "      <th>lat_start</th>\n",
       "      <th>lng_start</th>\n",
       "      <th>lat_end</th>\n",
       "      <th>lng_end</th>\n",
       "      <th>pr_hard_coral</th>\n",
       "      <th>pr_algae</th>\n",
       "      <th>pr_soft_coral</th>\n",
       "      <th>pr_oth_invert</th>\n",
       "      <th>pr_other</th>\n",
       "    </tr>\n",
       "  </thead>\n",
       "  <tbody>\n",
       "    <tr>\n",
       "      <th>0</th>\n",
       "      <td>10001</td>\n",
       "      <td>10001</td>\n",
       "      <td>20120916</td>\n",
       "      <td>PAC</td>\n",
       "      <td>AUS</td>\n",
       "      <td>PAC_AUS_10001_201209</td>\n",
       "      <td>-16.189023</td>\n",
       "      <td>145.898104</td>\n",
       "      <td>-16.191761</td>\n",
       "      <td>145.894088</td>\n",
       "      <td>0.1856</td>\n",
       "      <td>0.3724</td>\n",
       "      <td>0.2710</td>\n",
       "      <td>0.0010</td>\n",
       "      <td>0.1700</td>\n",
       "    </tr>\n",
       "    <tr>\n",
       "      <th>1</th>\n",
       "      <td>10002</td>\n",
       "      <td>10002</td>\n",
       "      <td>20120917</td>\n",
       "      <td>PAC</td>\n",
       "      <td>AUS</td>\n",
       "      <td>PAC_AUS_10002_201209</td>\n",
       "      <td>-16.189303</td>\n",
       "      <td>145.898254</td>\n",
       "      <td>-16.175947</td>\n",
       "      <td>145.889736</td>\n",
       "      <td>0.1364</td>\n",
       "      <td>0.4766</td>\n",
       "      <td>0.3079</td>\n",
       "      <td>0.0020</td>\n",
       "      <td>0.0771</td>\n",
       "    </tr>\n",
       "    <tr>\n",
       "      <th>2</th>\n",
       "      <td>10003</td>\n",
       "      <td>10003</td>\n",
       "      <td>20120918</td>\n",
       "      <td>PAC</td>\n",
       "      <td>AUS</td>\n",
       "      <td>PAC_AUS_10003_201209</td>\n",
       "      <td>-16.175768</td>\n",
       "      <td>145.891676</td>\n",
       "      <td>-16.181218</td>\n",
       "      <td>145.888904</td>\n",
       "      <td>0.2475</td>\n",
       "      <td>0.5653</td>\n",
       "      <td>0.0747</td>\n",
       "      <td>0.0207</td>\n",
       "      <td>0.0917</td>\n",
       "    </tr>\n",
       "    <tr>\n",
       "      <th>3</th>\n",
       "      <td>10004</td>\n",
       "      <td>10004</td>\n",
       "      <td>20120920</td>\n",
       "      <td>PAC</td>\n",
       "      <td>AUS</td>\n",
       "      <td>PAC_AUS_10004_201209</td>\n",
       "      <td>-16.536645</td>\n",
       "      <td>147.806796</td>\n",
       "      <td>-16.524287</td>\n",
       "      <td>147.843325</td>\n",
       "      <td>0.1242</td>\n",
       "      <td>0.5706</td>\n",
       "      <td>0.0279</td>\n",
       "      <td>0.0023</td>\n",
       "      <td>0.2748</td>\n",
       "    </tr>\n",
       "    <tr>\n",
       "      <th>4</th>\n",
       "      <td>10005</td>\n",
       "      <td>10005</td>\n",
       "      <td>20120920</td>\n",
       "      <td>PAC</td>\n",
       "      <td>AUS</td>\n",
       "      <td>PAC_AUS_10005_201209</td>\n",
       "      <td>-16.529216</td>\n",
       "      <td>147.802582</td>\n",
       "      <td>-16.521689</td>\n",
       "      <td>147.836180</td>\n",
       "      <td>0.0781</td>\n",
       "      <td>0.7894</td>\n",
       "      <td>0.0096</td>\n",
       "      <td>0.0029</td>\n",
       "      <td>0.1201</td>\n",
       "    </tr>\n",
       "  </tbody>\n",
       "</table>\n",
       "</div>"
      ],
      "text/plain": [
       "   surveyid  transectid  surveydate ocean country           folder_name  \\\n",
       "0     10001       10001    20120916   PAC     AUS  PAC_AUS_10001_201209   \n",
       "1     10002       10002    20120917   PAC     AUS  PAC_AUS_10002_201209   \n",
       "2     10003       10003    20120918   PAC     AUS  PAC_AUS_10003_201209   \n",
       "3     10004       10004    20120920   PAC     AUS  PAC_AUS_10004_201209   \n",
       "4     10005       10005    20120920   PAC     AUS  PAC_AUS_10005_201209   \n",
       "\n",
       "   lat_start   lng_start    lat_end     lng_end  pr_hard_coral  pr_algae  \\\n",
       "0 -16.189023  145.898104 -16.191761  145.894088         0.1856    0.3724   \n",
       "1 -16.189303  145.898254 -16.175947  145.889736         0.1364    0.4766   \n",
       "2 -16.175768  145.891676 -16.181218  145.888904         0.2475    0.5653   \n",
       "3 -16.536645  147.806796 -16.524287  147.843325         0.1242    0.5706   \n",
       "4 -16.529216  147.802582 -16.521689  147.836180         0.0781    0.7894   \n",
       "\n",
       "   pr_soft_coral  pr_oth_invert  pr_other  \n",
       "0         0.2710         0.0010    0.1700  \n",
       "1         0.3079         0.0020    0.0771  \n",
       "2         0.0747         0.0207    0.0917  \n",
       "3         0.0279         0.0023    0.2748  \n",
       "4         0.0096         0.0029    0.1201  "
      ]
     },
     "execution_count": 3,
     "metadata": {},
     "output_type": "execute_result"
    }
   ],
   "source": [
    "Survey_global = pd.read_csv(\"../Data/Reefs/seaviewsurvey_surveys.csv\")\n",
    "Survey_global.head()"
   ]
  },
  {
   "cell_type": "code",
   "execution_count": 4,
   "metadata": {},
   "outputs": [
    {
     "name": "stdout",
     "output_type": "stream",
     "text": [
      "We now have a total of : 421  Surveys\n"
     ]
    },
    {
     "data": {
      "text/html": [
       "<div>\n",
       "<style scoped>\n",
       "    .dataframe tbody tr th:only-of-type {\n",
       "        vertical-align: middle;\n",
       "    }\n",
       "\n",
       "    .dataframe tbody tr th {\n",
       "        vertical-align: top;\n",
       "    }\n",
       "\n",
       "    .dataframe thead th {\n",
       "        text-align: right;\n",
       "    }\n",
       "</style>\n",
       "<table border=\"1\" class=\"dataframe\">\n",
       "  <thead>\n",
       "    <tr style=\"text-align: right;\">\n",
       "      <th></th>\n",
       "      <th>surveyid</th>\n",
       "      <th>transectid</th>\n",
       "      <th>surveydate</th>\n",
       "      <th>ocean</th>\n",
       "      <th>country</th>\n",
       "      <th>folder_name</th>\n",
       "      <th>lat_start</th>\n",
       "      <th>lng_start</th>\n",
       "      <th>lat_end</th>\n",
       "      <th>lng_end</th>\n",
       "      <th>pr_hard_coral</th>\n",
       "      <th>pr_algae</th>\n",
       "      <th>pr_soft_coral</th>\n",
       "      <th>pr_oth_invert</th>\n",
       "      <th>pr_other</th>\n",
       "    </tr>\n",
       "  </thead>\n",
       "  <tbody>\n",
       "    <tr>\n",
       "      <th>0</th>\n",
       "      <td>10001</td>\n",
       "      <td>10001</td>\n",
       "      <td>20120916</td>\n",
       "      <td>PAC</td>\n",
       "      <td>AUS</td>\n",
       "      <td>PAC_AUS_10001_201209</td>\n",
       "      <td>-16.189023</td>\n",
       "      <td>145.898104</td>\n",
       "      <td>-16.191761</td>\n",
       "      <td>145.894088</td>\n",
       "      <td>0.1856</td>\n",
       "      <td>0.3724</td>\n",
       "      <td>0.2710</td>\n",
       "      <td>0.0010</td>\n",
       "      <td>0.1700</td>\n",
       "    </tr>\n",
       "    <tr>\n",
       "      <th>1</th>\n",
       "      <td>10002</td>\n",
       "      <td>10002</td>\n",
       "      <td>20120917</td>\n",
       "      <td>PAC</td>\n",
       "      <td>AUS</td>\n",
       "      <td>PAC_AUS_10002_201209</td>\n",
       "      <td>-16.189303</td>\n",
       "      <td>145.898254</td>\n",
       "      <td>-16.175947</td>\n",
       "      <td>145.889736</td>\n",
       "      <td>0.1364</td>\n",
       "      <td>0.4766</td>\n",
       "      <td>0.3079</td>\n",
       "      <td>0.0020</td>\n",
       "      <td>0.0771</td>\n",
       "    </tr>\n",
       "    <tr>\n",
       "      <th>2</th>\n",
       "      <td>10003</td>\n",
       "      <td>10003</td>\n",
       "      <td>20120918</td>\n",
       "      <td>PAC</td>\n",
       "      <td>AUS</td>\n",
       "      <td>PAC_AUS_10003_201209</td>\n",
       "      <td>-16.175768</td>\n",
       "      <td>145.891676</td>\n",
       "      <td>-16.181218</td>\n",
       "      <td>145.888904</td>\n",
       "      <td>0.2475</td>\n",
       "      <td>0.5653</td>\n",
       "      <td>0.0747</td>\n",
       "      <td>0.0207</td>\n",
       "      <td>0.0917</td>\n",
       "    </tr>\n",
       "    <tr>\n",
       "      <th>3</th>\n",
       "      <td>10004</td>\n",
       "      <td>10004</td>\n",
       "      <td>20120920</td>\n",
       "      <td>PAC</td>\n",
       "      <td>AUS</td>\n",
       "      <td>PAC_AUS_10004_201209</td>\n",
       "      <td>-16.536645</td>\n",
       "      <td>147.806796</td>\n",
       "      <td>-16.524287</td>\n",
       "      <td>147.843325</td>\n",
       "      <td>0.1242</td>\n",
       "      <td>0.5706</td>\n",
       "      <td>0.0279</td>\n",
       "      <td>0.0023</td>\n",
       "      <td>0.2748</td>\n",
       "    </tr>\n",
       "    <tr>\n",
       "      <th>4</th>\n",
       "      <td>10005</td>\n",
       "      <td>10005</td>\n",
       "      <td>20120920</td>\n",
       "      <td>PAC</td>\n",
       "      <td>AUS</td>\n",
       "      <td>PAC_AUS_10005_201209</td>\n",
       "      <td>-16.529216</td>\n",
       "      <td>147.802582</td>\n",
       "      <td>-16.521689</td>\n",
       "      <td>147.836180</td>\n",
       "      <td>0.0781</td>\n",
       "      <td>0.7894</td>\n",
       "      <td>0.0096</td>\n",
       "      <td>0.0029</td>\n",
       "      <td>0.1201</td>\n",
       "    </tr>\n",
       "  </tbody>\n",
       "</table>\n",
       "</div>"
      ],
      "text/plain": [
       "   surveyid  transectid  surveydate ocean country           folder_name  \\\n",
       "0     10001       10001    20120916   PAC     AUS  PAC_AUS_10001_201209   \n",
       "1     10002       10002    20120917   PAC     AUS  PAC_AUS_10002_201209   \n",
       "2     10003       10003    20120918   PAC     AUS  PAC_AUS_10003_201209   \n",
       "3     10004       10004    20120920   PAC     AUS  PAC_AUS_10004_201209   \n",
       "4     10005       10005    20120920   PAC     AUS  PAC_AUS_10005_201209   \n",
       "\n",
       "   lat_start   lng_start    lat_end     lng_end  pr_hard_coral  pr_algae  \\\n",
       "0 -16.189023  145.898104 -16.191761  145.894088         0.1856    0.3724   \n",
       "1 -16.189303  145.898254 -16.175947  145.889736         0.1364    0.4766   \n",
       "2 -16.175768  145.891676 -16.181218  145.888904         0.2475    0.5653   \n",
       "3 -16.536645  147.806796 -16.524287  147.843325         0.1242    0.5706   \n",
       "4 -16.529216  147.802582 -16.521689  147.836180         0.0781    0.7894   \n",
       "\n",
       "   pr_soft_coral  pr_oth_invert  pr_other  \n",
       "0         0.2710         0.0010    0.1700  \n",
       "1         0.3079         0.0020    0.0771  \n",
       "2         0.0747         0.0207    0.0917  \n",
       "3         0.0279         0.0023    0.2748  \n",
       "4         0.0096         0.0029    0.1201  "
      ]
     },
     "execution_count": 4,
     "metadata": {},
     "output_type": "execute_result"
    }
   ],
   "source": [
    "Survey = Survey_global[(Survey_global[\"country\"] == \"AUS\") | (Survey_global[\"country\"] == \"IDN\") | (Survey_global[\"country\"] == \"TLS\")| (Survey_global[\"country\"] == \"SLB\")]\n",
    "print(\"We now have a total of :\",Survey.shape[0], \" Surveys\")\n",
    "Survey.head()"
   ]
  },
  {
   "cell_type": "code",
   "execution_count": 5,
   "metadata": {},
   "outputs": [],
   "source": [
    "# Change date format \n",
    "Survey['surveydate'] = pd.to_datetime(Survey['surveydate'], format='%Y%m%d')"
   ]
  },
  {
   "cell_type": "code",
   "execution_count": 6,
   "metadata": {},
   "outputs": [
    {
     "data": {
      "text/plain": [
       "AUS    261\n",
       "IDN    114\n",
       "TLS     26\n",
       "SLB     20\n",
       "Name: country, dtype: int64"
      ]
     },
     "execution_count": 6,
     "metadata": {},
     "output_type": "execute_result"
    }
   ],
   "source": [
    "# Make pacific survey into GeoDataFrame\n",
    "gSurvey = gpd.GeoDataFrame(Survey, geometry = gpd.points_from_xy(Survey.lat_start, Survey.lng_start))\n",
    "gSurvey[\"country\"].value_counts()"
   ]
  },
  {
   "cell_type": "markdown",
   "metadata": {},
   "source": [
    "We can see that most surveys were taken in Australia followed by Indonesia. With a total of 421 surveys"
   ]
  },
  {
   "cell_type": "code",
   "execution_count": 7,
   "metadata": {},
   "outputs": [],
   "source": [
    "# Keep only month and year\n",
    "gSurvey['surveydate'] = gSurvey['surveydate'].dt.strftime('%Y-%m')"
   ]
  },
  {
   "attachments": {
    "cd9e3803-4323-47c4-ab0d-0a844740265e.png": {
     "image/png": "[encoded data removed]"
    }
   },
   "cell_type": "markdown",
   "metadata": {},
   "source": [
    "## Wind speed\n",
    "https://cds.climate.copernicus.eu/cdsapp#!/dataset/reanalysis-era5-single-levels-monthly-means?tab=form\n",
    "\n",
    "\n",
    "For these coordinates:\n",
    "\n",
    "\n",
    "![image.png](attachment:cd9e3803-4323-47c4-ab0d-0a844740265e.png)\n",
    "\n",
    "\n",
    "\n",
    "**Be careful, various users have stated how slow this download is** : https://confluence.ecmwf.int/pages/viewpage.action?pageId=143050283\n",
    "\n"
   ]
  },
  {
   "cell_type": "code",
   "execution_count": 8,
   "metadata": {},
   "outputs": [
    {
     "data": {
      "text/plain": [
       "'\\n\\nimport cdsapi\\n\\nc = cdsapi.Client()\\n\\nc.retrieve(\\n    \\'reanalysis-era5-single-levels-monthly-means\\',\\n    {\\n        \\'format\\': \\'grib\\',\\n        \\'product_type\\': \\'monthly_averaged_reanalysis\\',\\n        \\'variable\\': \\'10m_wind_speed\\',\\n        \\'year\\': [\\n            \\'2000\\', \\'2001\\', \\'2002\\',\\n            \\'2003\\', \\'2004\\', \\'2005\\',\\n            \\'2006\\', \\'2007\\', \\'2008\\',\\n            \\'2009\\', \\'2010\\', \\'2011\\',\\n            \\'2012\\', \\'2013\\', \\'2014\\',\\n            \\'2015\\', \\'2016\\', \\'2017\\',\\n            \\'2018\\', \\'2019\\', \\'2020\\',\\n            \\'2021\\',\\n        ],\\n        \\'month\\': [\\n            \\'01\\', \\'02\\', \\'03\\',\\n            \\'04\\', \\'05\\', \\'06\\',\\n            \\'07\\', \\'08\\', \\'09\\',\\n            \\'10\\', \\'11\\', \\'12\\',\\n        ],\\n        \\'time\\': \\'00:00\\',\\n        \\'area\\': [\\n            4, 100, -24,\\n            160,\\n        ],\\n    },\\n    \\'download.grib\\')\\n\\nds_wind = xr.open_dataset(\"../Data/Environmental_data/wind_monthly.grib\", engine = \"cfgrib\")\\n\\ncdf_wind = ds_wind.to_netcdf(\"../Data/Environmental_data/wind_monthly.nc\")\\n\\n'"
      ]
     },
     "execution_count": 8,
     "metadata": {},
     "output_type": "execute_result"
    }
   ],
   "source": [
    "# You may download this file again or use the NetCFD already downloaded\n",
    "\"\"\"\n",
    "\n",
    "import cdsapi\n",
    "\n",
    "c = cdsapi.Client()\n",
    "\n",
    "c.retrieve(\n",
    "    'reanalysis-era5-single-levels-monthly-means',\n",
    "    {\n",
    "        'format': 'grib',\n",
    "        'product_type': 'monthly_averaged_reanalysis',\n",
    "        'variable': '10m_wind_speed',\n",
    "        'year': [\n",
    "            '2000', '2001', '2002',\n",
    "            '2003', '2004', '2005',\n",
    "            '2006', '2007', '2008',\n",
    "            '2009', '2010', '2011',\n",
    "            '2012', '2013', '2014',\n",
    "            '2015', '2016', '2017',\n",
    "            '2018', '2019', '2020',\n",
    "            '2021',\n",
    "        ],\n",
    "        'month': [\n",
    "            '01', '02', '03',\n",
    "            '04', '05', '06',\n",
    "            '07', '08', '09',\n",
    "            '10', '11', '12',\n",
    "        ],\n",
    "        'time': '00:00',\n",
    "        'area': [\n",
    "            4, 100, -24,\n",
    "            160,\n",
    "        ],\n",
    "    },\n",
    "    'download.grib')\n",
    "\n",
    "ds_wind = xr.open_dataset(\"../Data/Environmental_data/wind_monthly.grib\", engine = \"cfgrib\")\n",
    "\n",
    "cdf_wind = ds_wind.to_netcdf(\"../Data/Environmental_data/wind_monthly.nc\")\n",
    "\n",
    "\"\"\""
   ]
  },
  {
   "cell_type": "code",
   "execution_count": 9,
   "metadata": {},
   "outputs": [],
   "source": [
    "# Load xarray\n",
    "ds_wind = xr.open_dataset(\"../Data/Environmental_data/wind_monthly.nc\")\n",
    "\n",
    "# Make dataframe\n",
    "df_wind = ds_wind.to_dataframe()\n",
    "\n",
    "# Rename and reset longitude and latitude index\n",
    "df_wind.rename(columns = {\"si10\":\"wind_speed\"}, inplace = True)\n"
   ]
  },
  {
   "cell_type": "code",
   "execution_count": 10,
   "metadata": {},
   "outputs": [],
   "source": [
    "\n",
    "df_wind.reset_index(inplace = True)\n",
    "\n",
    "# Make into GeoDataFrame\n",
    "gdf_wind = gpd.GeoDataFrame(df_wind, geometry=gpd.points_from_xy(df_wind.latitude, df_wind.longitude))\n",
    "\n",
    "# Keep only month and year\n",
    "gdf_wind[\"time\"] = gdf_wind[\"time\"].dt.strftime('%Y-%m')"
   ]
  },
  {
   "cell_type": "code",
   "execution_count": 11,
   "metadata": {},
   "outputs": [],
   "source": [
    "# Drop unecessary columns\n",
    "gdf_wind.drop(columns = ['latitude', 'longitude', 'number', 'step', 'surface',\n",
    "       'valid_time'], inplace = True)\n",
    "gSurvey.drop(columns = ['surveyid', 'ocean', \n",
    "       'folder_name', 'lat_end', 'lng_end',\n",
    "       'pr_hard_coral', 'pr_algae', 'pr_soft_coral', 'pr_oth_invert',\n",
    "       'pr_other'], inplace = True)"
   ]
  },
  {
   "cell_type": "code",
   "execution_count": 12,
   "metadata": {},
   "outputs": [],
   "source": [
    "# Look at the dates which are unique within the survey (month and year)\n",
    "dates_surveys = gSurvey['surveydate'].unique()"
   ]
  },
  {
   "cell_type": "code",
   "execution_count": 13,
   "metadata": {},
   "outputs": [],
   "source": [
    "# Looping through the different dates and places and find the closest wind speed at each Survey point\n",
    "frames_all = dp.merge_(gSurvey,gdf_wind, dates_surveys)"
   ]
  },
  {
   "cell_type": "code",
   "execution_count": 23,
   "metadata": {},
   "outputs": [],
   "source": [
    "# Add wind_speed to geoframe\n",
    "gSurvey[\"wind_speed\"] = frames_all[\"wind_speed\"].to_list()"
   ]
  },
  {
   "cell_type": "code",
   "execution_count": 24,
   "metadata": {},
   "outputs": [],
   "source": [
    "Survey.drop(columns = ['surveyid', 'ocean', 'country',\n",
    "       'folder_name', 'lat_start', 'lng_start', 'lat_end', 'lng_end',\n",
    "        'geometry'], inplace = True)"
   ]
  },
  {
   "cell_type": "code",
   "execution_count": 25,
   "metadata": {},
   "outputs": [],
   "source": [
    "# Merge with Survey\n",
    "df_merge_w = pd.merge(Survey, gSurvey,on = [\"surveydate\",\"transectid\"], how = \"left\")"
   ]
  },
  {
   "cell_type": "code",
   "execution_count": 26,
   "metadata": {},
   "outputs": [
    {
     "name": "stdout",
     "output_type": "stream",
     "text": [
      "1    411\n",
      "4      5\n",
      "dtype: int64\n",
      "You have 5 surveys with 4 duplicates...remove to ease computation\n"
     ]
    }
   ],
   "source": [
    "dups_sur_trans = df_merge_w.pivot_table(index=['surveydate','transectid'], aggfunc='size')\n",
    "print (dups_sur_trans.value_counts())\n",
    "print(\"You have 5 surveys with 4 duplicates...remove to ease computation\")"
   ]
  },
  {
   "cell_type": "code",
   "execution_count": 27,
   "metadata": {},
   "outputs": [
    {
     "data": {
      "text/plain": [
       "surveydate  transectid\n",
       "2014-05     12029         4\n",
       "2018-06     32003         4\n",
       "            32024         4\n",
       "            32026         4\n",
       "            32030         4\n",
       "dtype: int64"
      ]
     },
     "execution_count": 27,
     "metadata": {},
     "output_type": "execute_result"
    }
   ],
   "source": [
    "dups_sur_trans[dups_sur_trans == 4]"
   ]
  },
  {
   "cell_type": "code",
   "execution_count": 28,
   "metadata": {},
   "outputs": [],
   "source": [
    "# Here I drop the duplicates on time and transectid, indeed I could just take the mean of them instead of \n",
    "# keeping only first value\n",
    "df_mer_w = df_merge_w.drop_duplicates(subset=[\"surveydate\",\"transectid\"], keep=\"first\", inplace = False)"
   ]
  },
  {
   "cell_type": "markdown",
   "metadata": {},
   "source": [
    "## Chlorophyll Copernicus\n",
    "\n"
   ]
  },
  {
   "cell_type": "code",
   "execution_count": 29,
   "metadata": {},
   "outputs": [
    {
     "data": {
      "text/plain": [
       "'\\nimport cdsapi\\ndef import_chloro(year_list, name):\\n    c = cdsapi.Client()\\n\\n    c.retrieve(\\n        \\'satellite-ocean-colour\\',\\n        {\\n            \\'format\\': \\'tgz\\',\\n            \\'variable\\': \\'mass_concentration_of_chlorophyll_a\\',\\n            \\'projection\\': \\'regular_latitude_longitude_grid\\',\\n            \\'year\\': year_list,\\n            \\'month\\': [\\n                \\'01\\', \\'02\\', \\'03\\',\\n                \\'04\\', \\'05\\', \\'06\\',\\n                \\'07\\', \\'08\\', \\'09\\',\\n                \\'10\\', \\'11\\', \\'12\\',\\n            ],\\n            \\'day\\': \\'01\\',\\n            \\'version\\': \\'5.0\\',\\n        },\\n        \\'%s.tar.gz\\' %name)\\n\\n\\nimport_chloro([\"2012\", \"2014\"], \"chlorophyll_12_14\")\\nimport_chloro([\"2016\", \"2017\"], \"chlorophyll_16_17\")\\nimport_chloro([\"2018\"], \"chlorophyll_18\")\\n'"
      ]
     },
     "execution_count": 29,
     "metadata": {},
     "output_type": "execute_result"
    }
   ],
   "source": [
    "# You may run again for use downloaded, I had to split because I could not download that many files at a time on the server\n",
    "\"\"\"\n",
    "import cdsapi\n",
    "def import_chloro(year_list, name):\n",
    "    c = cdsapi.Client()\n",
    "\n",
    "    c.retrieve(\n",
    "        'satellite-ocean-colour',\n",
    "        {\n",
    "            'format': 'tgz',\n",
    "            'variable': 'mass_concentration_of_chlorophyll_a',\n",
    "            'projection': 'regular_latitude_longitude_grid',\n",
    "            'year': year_list,\n",
    "            'month': [\n",
    "                '01', '02', '03',\n",
    "                '04', '05', '06',\n",
    "                '07', '08', '09',\n",
    "                '10', '11', '12',\n",
    "            ],\n",
    "            'day': '01',\n",
    "            'version': '5.0',\n",
    "        },\n",
    "        '%s.tar.gz' %name)\n",
    "\n",
    "\n",
    "import_chloro([\"2012\", \"2014\"], \"chlorophyll_12_14\")\n",
    "import_chloro([\"2016\", \"2017\"], \"chlorophyll_16_17\")\n",
    "import_chloro([\"2018\"], \"chlorophyll_18\")\n",
    "\"\"\""
   ]
  },
  {
   "cell_type": "code",
   "execution_count": 30,
   "metadata": {},
   "outputs": [],
   "source": [
    "# Collect all the already downloaded chlorophyll data\n",
    "ds_chlor = xr.open_mfdataset(\"../Data/Environmental_data/chlorophyll/ESACCI-OC-L3S-CHLOR_A-MERGED-1D_DAILY_4km*.nc\")"
   ]
  },
  {
   "cell_type": "code",
   "execution_count": 31,
   "metadata": {},
   "outputs": [],
   "source": [
    "# Bounds of coordinates for Pacific\n",
    "latbounds = [-24, 4]\n",
    "lonbounds = [100, 160]\n",
    "lats = ds_chlor.variables[\"lat\"][:]\n",
    "lons = ds_chlor.variables[\"lon\"][:]\n",
    "# latitude lower and upper index\n",
    "latli = np.argmin( np.abs( lats - latbounds[0] ).values )\n",
    "latui = np.argmin( np.abs( lats - latbounds[1] ).values ) \n",
    "# longitude lower and upper index\n",
    "lonli = np.argmin( np.abs( lons - lonbounds[0] ).values )\n",
    "lonui = np.argmin( np.abs( lons - lonbounds[1] ).values )  \n",
    "\n"
   ]
  },
  {
   "cell_type": "code",
   "execution_count": 32,
   "metadata": {},
   "outputs": [],
   "source": [
    "\n",
    "# Subset for the given coordinates\n",
    "ChlorSubset = ds_chlor.variables['chlor_a'][ : , latui:latli , lonli:lonui ] \n",
    "# Dataset with the chlor amongst the different coordinates\n",
    "ds_sub_chlor = xr.Dataset(data_vars={\"Chlor\": ChlorSubset}, coords = {\"lon\":ds_chlor[\"lon\"][lonli:lonui], \"lat\": ds_chlor[\"lat\"][latui:latli], \"time\":ds_chlor[\"time\"]})\n",
    "df_chlor = ds_sub_chlor.to_dataframe()\n",
    "\n",
    "df_chlor.reset_index(inplace = True)\n",
    "\n",
    "# remove the Nan values, so that it automatically takes the existing values as closest to the survey points\n",
    "df_chlor = df_chlor.dropna(axis = 0)"
   ]
  },
  {
   "cell_type": "code",
   "execution_count": 34,
   "metadata": {},
   "outputs": [],
   "source": [
    "# This cell takes a long time to run\n",
    "# Save as intermediate \n",
    "#df_chlor.to_csv(\"../Data/Environmental_data/df_chlor.csv\", index = False)\n",
    "\n",
    "df_chlor = pd.read_csv(\"../Data/Environmental_data/df_chlor.csv\")\n",
    "# Change to datetime format\n",
    "df_chlor['time'] = pd.to_datetime(df_chlor['time'], errors='coerce')\n"
   ]
  },
  {
   "cell_type": "code",
   "execution_count": null,
   "metadata": {},
   "outputs": [],
   "source": [
    "\n",
    "# Keep only month and year \n",
    "df_chlor[\"time\"] = df_chlor[\"time\"].dt.strftime('%Y-%m')\n",
    "gdf_chlor = gpd.GeoDataFrame(df_chlor, geometry=gpd.points_from_xy(df_chlor.lat, df_chlor.lon))\n",
    "\n",
    "# Merge with the previous frame \n",
    "df_merged_w_ch = dp.merge_(df_mer_w, gdf_chlor, dates_surveys)\n",
    "\n",
    "\n",
    "df_mer_w[\"Chlor\"] = df_merged_w_ch[\"Chlor\"].to_list()\n",
    "df_merged_w_ch = df_mer_w\n",
    "\n",
    "#df_merged_w_ch.to_csv(\"../Data/Environmental_data/merged_wind_chlor.csv\", index = False)\n",
    "df_merged_w_ch = pd.read_csv(\"../Data/Environmental_data/merged_wind_chlor.csv\")\n",
    "\n",
    "# Change the \"geometry\" column to geometry type\n",
    "dp.geo_loads(df_merged_w_ch)"
   ]
  },
  {
   "cell_type": "markdown",
   "metadata": {},
   "source": [
    "## Solar radiation Copernicus\n"
   ]
  },
  {
   "cell_type": "code",
   "execution_count": null,
   "metadata": {},
   "outputs": [],
   "source": [
    "# You may run again or use downloaded set \n",
    "\"\"\"\n",
    "c = cdsapi.Client()\n",
    "\n",
    "c.retrieve(\n",
    "    'reanalysis-era5-single-levels-monthly-means',\n",
    "    {\n",
    "        'format': 'grib',\n",
    "        'product_type': 'monthly_averaged_reanalysis',\n",
    "        'variable': [\n",
    "            'surface_net_solar_radiation', 'surface_net_solar_radiation_clear_sky',\n",
    "        ],\n",
    "        'year': [\n",
    "            '2012', '2013', '2014',\n",
    "            '2015', '2016', '2017',\n",
    "            '2018',\n",
    "        ],\n",
    "        'month': [\n",
    "            '01', '02', '03',\n",
    "            '04', '05', '06',\n",
    "            '07', '08', '09',\n",
    "            '10', '11', '12',\n",
    "        ],\n",
    "        'time': '00:00',\n",
    "        'area': [\n",
    "            4, 100, -24,\n",
    "            160,\n",
    "        ],\n",
    "    },\n",
    "    'solar_radiation.grib')\n",
    "    \n",
    "\"\"\"    "
   ]
  },
  {
   "cell_type": "code",
   "execution_count": 35,
   "metadata": {},
   "outputs": [],
   "source": [
    "\n",
    "ds_solar = xr.open_dataset(\"../Data/Environmental_data/solar_radiation.grib\", engine = \"cfgrib\")\n",
    "cdf_solar = ds_solar.to_netcdf(\"../Data/Environmental_data/solar_rad.nc\")\n"
   ]
  },
  {
   "cell_type": "code",
   "execution_count": 36,
   "metadata": {},
   "outputs": [],
   "source": [
    "# Load xarray\n",
    "ds_solar = xr.open_dataset(\"../Data/Environmental_data/solar_rad.nc\")"
   ]
  },
  {
   "cell_type": "code",
   "execution_count": 37,
   "metadata": {},
   "outputs": [
    {
     "ename": "NameError",
     "evalue": "name 'df_merged_w_ch' is not defined",
     "output_type": "error",
     "traceback": [
      "\u001b[0;31m---------------------------------------------------------------------------\u001b[0m",
      "\u001b[0;31mNameError\u001b[0m                                 Traceback (most recent call last)",
      "\u001b[0;32m<ipython-input-37-91cfa9a3010a>\u001b[0m in \u001b[0;36m<module>\u001b[0;34m\u001b[0m\n\u001b[1;32m     20\u001b[0m \u001b[0mgdf_solar\u001b[0m\u001b[0;34m.\u001b[0m\u001b[0mrename\u001b[0m\u001b[0;34m(\u001b[0m\u001b[0mcolumns\u001b[0m \u001b[0;34m=\u001b[0m \u001b[0;34m{\u001b[0m\u001b[0;34m\"valid_time\"\u001b[0m \u001b[0;34m:\u001b[0m \u001b[0;34m\"time\"\u001b[0m\u001b[0;34m}\u001b[0m\u001b[0;34m,\u001b[0m \u001b[0minplace\u001b[0m \u001b[0;34m=\u001b[0m \u001b[0;32mTrue\u001b[0m\u001b[0;34m)\u001b[0m\u001b[0;34m\u001b[0m\u001b[0;34m\u001b[0m\u001b[0m\n\u001b[1;32m     21\u001b[0m \u001b[0;34m\u001b[0m\u001b[0m\n\u001b[0;32m---> 22\u001b[0;31m \u001b[0mdf_merged_w_ch_sol\u001b[0m \u001b[0;34m=\u001b[0m \u001b[0mdp\u001b[0m\u001b[0;34m.\u001b[0m\u001b[0mmerge_\u001b[0m\u001b[0;34m(\u001b[0m\u001b[0mdf_merged_w_ch\u001b[0m\u001b[0;34m,\u001b[0m \u001b[0mgdf_solar\u001b[0m\u001b[0;34m,\u001b[0m \u001b[0mdates_surveys\u001b[0m\u001b[0;34m)\u001b[0m\u001b[0;34m\u001b[0m\u001b[0;34m\u001b[0m\u001b[0m\n\u001b[0m",
      "\u001b[0;31mNameError\u001b[0m: name 'df_merged_w_ch' is not defined"
     ]
    }
   ],
   "source": [
    "# This cell takes time to run\n",
    "\n",
    "# Surface net solar radiation, clear sky :: SSRC [J m**-2]\n",
    "# Surface net solar radiation :: SSR [J m**-2]\n",
    "# Make dataframe\n",
    "df_solar = ds_solar.to_dataframe()\n",
    "\n",
    "# Rename and reset longitude and latitude index\n",
    "df_solar.rename(columns = {\"ssr\":\"solar_rad\", \"ssrc\":\"solar_rad_clear_sky\"}, inplace = True)\n",
    "\n",
    "df_solar.reset_index(inplace = True)\n",
    "\n",
    "df_solar.drop(columns = ['number','time', 'step', 'surface'], inplace = True)\n",
    "\n",
    "\n",
    "# Keep only month and year \n",
    "df_solar[\"valid_time\"] = df_solar[\"valid_time\"].dt.strftime('%Y-%m')\n",
    "\n",
    "gdf_solar = gpd.GeoDataFrame(df_solar, geometry=gpd.points_from_xy(df_solar.latitude, df_solar.longitude))\n",
    "gdf_solar.rename(columns = {\"valid_time\" : \"time\"}, inplace = True)\n",
    "\n",
    "df_merged_w_ch_sol = dp.merge_(df_merged_w_ch, gdf_solar, dates_surveys)\n"
   ]
  },
  {
   "cell_type": "code",
   "execution_count": null,
   "metadata": {},
   "outputs": [],
   "source": [
    "df_merged_w_ch[\"solar_rad\"] = df_merged_w_ch_sol[\"solar_rad\"].to_list()\n",
    "df_merged_w_ch[\"solar_rad_clear_sky\"] = df_merged_w_ch_sol[\"solar_rad_clear_sky\"].to_list()\n",
    "df_merged_w_ch_sol = df_merged_w_ch"
   ]
  },
  {
   "cell_type": "code",
   "execution_count": null,
   "metadata": {},
   "outputs": [],
   "source": [
    "df_merged_w_ch_sol.to_csv(\"../Data/Environmental_data/merged_wind_chlor_sol.csv\", index = False)\n",
    "df_merged_w_ch_sol = pd.read_csv(\"../Data/Environmental_data/merged_wind_chlor_sol.csv\")"
   ]
  },
  {
   "cell_type": "markdown",
   "metadata": {},
   "source": [
    "## Ocean depth Copernicus // Sentinel 3\n",
    "\n",
    "Ocean level, so negative numbers are for below water :)"
   ]
  },
  {
   "cell_type": "code",
   "execution_count": null,
   "metadata": {},
   "outputs": [],
   "source": [
    "# Load xarray for depth\n",
    "ds_depth = xr.open_dataset(\"../Data/Environmental_data/depth/depth.nc\")\n",
    "\n",
    "# Set latitude and longitude as index\n",
    "df_merged_w_ch_sol_ind = df_merged_w_ch_sol.set_index([\"lat_start\", \"lng_start\"])\n",
    "\n",
    "# Make a NetCDF with the multi-index dataframe \n",
    "xr_merged = xr.Dataset.from_dataframe(df_merged_w_ch_sol_ind)\n",
    "xr_merged = xr_merged.rename({\"lat_start\" : \"lat\"})\n",
    "xr_merged= xr_merged.rename({\"lng_start\" : \"lon\"})\n",
    "\n",
    "\n",
    "# Keep interesting lat/long\n",
    "long_ = [xr_merged[\"lon\"].values]\n",
    "latg_ = [xr_merged[\"lat\"].values]\n",
    "\n",
    "# Find nearest depth to the given lat/lon\n",
    "df_depth_near = ds_depth.sel(lon=long_[0], lat=latg_[0], method='nearest')\n",
    "\n",
    "# Assign the coordinates of interst as coordinates in NetCdf\n",
    "depth_same_coord = df_depth_near.assign_coords(lon = long_[0], lat = latg_[0])\n",
    "xr_merged_depth = xr_merged.merge(depth_same_coord, join = \"inner\")\n",
    "\n",
    "df_depth_merged = xr_merged_depth.to_dataframe()\n"
   ]
  },
  {
   "cell_type": "code",
   "execution_count": null,
   "metadata": {},
   "outputs": [],
   "source": [
    "# Drop nan values for unknown depths and reset index (lat,lon)\n",
    "df_merged = df_depth_merged.dropna().reset_index()"
   ]
  },
  {
   "cell_type": "markdown",
   "metadata": {},
   "source": [
    "### Degree Heating Week "
   ]
  },
  {
   "cell_type": "code",
   "execution_count": null,
   "metadata": {},
   "outputs": [],
   "source": [
    "\n",
    "def treat_SST_DHW(df, gdf):\n",
    "    \"\"\"\n",
    "        Give the SST/DHW of a country plus its geodataframe. These will be conmbined, the DHW/SST will be given a coordinate stamp for enabling merging\n",
    "    \"\"\"\n",
    "    df[\"id\"] = df[\"id\"].str.replace('R', \"\").astype(int)\n",
    "    \n",
    "    df = df.merge(gdf[[\"id\", \"geometry\"]], how='left')\n",
    "    df.dropna(inplace = True)\n",
    "    \n",
    "    df_temp = df.drop(columns = [\"id\", \"geometry\"])\n",
    "    df_temp.columns = pd.to_datetime(df_temp.columns)\n",
    "    df_temp.columns = df_temp.columns.strftime(\"%Y-%m\")\n",
    "    df_temp.insert(0, \"id\", df[\"id\"])\n",
    "    df_temp.insert(0, \"geometry\", df[\"geometry\"])\n",
    "    df = df_temp.copy()\n",
    "    df = pf.make_geo_frame(df)\n",
    "    return df\n",
    "    \n",
    "    \n",
    "    "
   ]
  },
  {
   "cell_type": "code",
   "execution_count": null,
   "metadata": {},
   "outputs": [],
   "source": [
    "# Degree Heating week and SST for Indonesia\n",
    "\n",
    "DHW_IDN = pd.read_csv(\"../Data/Environmental_data/DHW/DHW_Indonesia.csv\")\n",
    "DHW_IDN = treat_SST_DHW(DHW_IDN, gdf_IND)\n",
    "dp.geo_loads(df_merged)\n",
    "SST_IDN = pd.read_csv(\"../Data/Environmental_data/SST/SST_Indonesia.csv\")\n",
    "SST_IDN = treat_SST_DHW(SST_IDN, gdf_IND)\n",
    "df_merged = pf.make_geo_frame(df_merged)"
   ]
  },
  {
   "cell_type": "code",
   "execution_count": null,
   "metadata": {},
   "outputs": [],
   "source": [
    "df_swap = df_merged.copy()\n",
    "# Swap the coordinates \n",
    "df_swap[\"geometry\"] = df_swap.geometry.map(lambda polygon: shapely.ops.transform(lambda x, y: (y, x), polygon))"
   ]
  },
  {
   "cell_type": "code",
   "execution_count": null,
   "metadata": {},
   "outputs": [],
   "source": [
    "# Take the intersection\n",
    "# nothing in common...\n",
    "DHW_merged_IDN = gpd.sjoin(DHW_IDN, df_swap[df_swap[\"country\"] == \"IDN\"], how=\"inner\", op='intersects')\n",
    "print(\"DHW merged: \", DHW_merged_IDN.shape)\n",
    "SST_merged_IDN = gpd.sjoin(SST_IDN, df_swap[df_swap[\"country\"] == \"IDN\"], how=\"inner\", op='intersects')\n",
    "print(\"SST merged: \", SST_merged_IDN.shape)"
   ]
  },
  {
   "cell_type": "code",
   "execution_count": null,
   "metadata": {},
   "outputs": [],
   "source": [
    "# Let us use another strategy. I will take the centroid of the polygon and estimate the closests neighbor\n",
    "DHW_IDN.geometry = DHW_IDN['geometry'].centroid\n",
    "df_near_merge_IDN_DHW = dp.ckdnearest(df_swap[df_swap[\"country\"] == \"IDN\"], DHW_IDN).drop(columns = \"dist\")\n",
    "\n",
    "SST_IDN.geometry = SST_IDN['geometry'].centroid\n",
    "df_near_merge_IDN_SST = dp.ckdnearest(df_swap[df_swap[\"country\"] == \"IDN\"], SST_IDN).drop(columns = \"dist\")"
   ]
  },
  {
   "cell_type": "code",
   "execution_count": null,
   "metadata": {},
   "outputs": [],
   "source": [
    "# Same for both SST and DHW\n",
    "dates_to_drop = df_near_merge_IDN_DHW.columns[17:][df_near_merge_IDN_DHW.columns[17:].isin(df_near_merge_IDN_DHW[\"surveydate\"]) == False]\n",
    "dates_to_keep = df_near_merge_IDN_DHW.columns[17:][df_near_merge_IDN_DHW.columns[17:].isin(df_near_merge_IDN_DHW[\"surveydate\"])]\n",
    "df_near_merge_IDN_SST.drop(columns = dates_to_drop,  inplace = True)\n",
    "df_near_merge_IDN_DHW.drop(columns = dates_to_drop,  inplace = True)"
   ]
  },
  {
   "cell_type": "code",
   "execution_count": null,
   "metadata": {},
   "outputs": [],
   "source": [
    "df_near_merge_IDN_DHW['DHW'] = df_near_merge_IDN_DHW.lookup(df_near_merge_IDN_DHW.index, df_near_merge_IDN_DHW['surveydate'].astype(str))\n",
    "df_near_merge_IDN_DHW.drop(columns = dates_to_keep,  inplace = True)\n",
    "df_near_merge_IDN_SST['SST'] = df_near_merge_IDN_SST.lookup(df_near_merge_IDN_SST.index, df_near_merge_IDN_SST['surveydate'].astype(str))\n",
    "df_near_merge_IDN_SST.drop(columns = dates_to_keep,  inplace = True)"
   ]
  },
  {
   "cell_type": "code",
   "execution_count": null,
   "metadata": {},
   "outputs": [],
   "source": [
    "df_near_merge_IDN = df_near_merge_IDN_DHW.copy()\n",
    "df_near_merge_IDN[\"SST\"] = df_near_merge_IDN_SST['SST']\n",
    "\n",
    "# Indonesia done"
   ]
  },
  {
   "cell_type": "code",
   "execution_count": null,
   "metadata": {},
   "outputs": [],
   "source": [
    "# Same for Timor Leste\n",
    "# Degree Heating week and SST\n",
    "DHW_TLS = pd.read_csv(\"../Data/Environmental_data/DHW/DHW_Timor.csv\")\n",
    "DHW_TLS = treat_SST_DHW(DHW_TLS, gdf_TLS)\n",
    "SST_TLS = pd.read_csv(\"../Data/Environmental_data/SST/SST_Timor.csv\")\n",
    "SST_TLS = treat_SST_DHW(SST_TLS, gdf_TLS)"
   ]
  },
  {
   "cell_type": "code",
   "execution_count": null,
   "metadata": {},
   "outputs": [],
   "source": [
    "#  Nothing in common\n",
    "DHW_merged_TLS = gpd.sjoin(DHW_TLS, df_swap[df_swap[\"country\"] == \"TLS\"], how=\"inner\", op='intersects')\n",
    "print(\"DHW merged: \", DHW_merged_TLS.shape)\n",
    "SST_merged_TLS = gpd.sjoin(SST_TLS, df_swap[df_swap[\"country\"] == \"TLS\"], how=\"inner\", op='intersects')\n",
    "print(\"SST merged: \", SST_merged_TLS.shape)"
   ]
  },
  {
   "cell_type": "code",
   "execution_count": null,
   "metadata": {},
   "outputs": [],
   "source": [
    "# Same centroid strategy\n",
    "DHW_TLS.geometry = DHW_TLS['geometry'].centroid\n",
    "df_near_merge_TLS_DHW = dp.ckdnearest(df_swap[df_swap[\"country\"] == \"TLS\"], DHW_TLS)\n",
    "\n",
    "SST_TLS.geometry = SST_TLS['geometry'].centroid\n",
    "df_near_merge_TLS_SST = dp.ckdnearest(df_swap[df_swap[\"country\"] == \"TLS\"], SST_TLS)\n"
   ]
  },
  {
   "cell_type": "code",
   "execution_count": null,
   "metadata": {},
   "outputs": [],
   "source": [
    "# Same for both SST and DHW\n",
    "dates_to_drop = df_near_merge_TLS_DHW.columns[17:][df_near_merge_TLS_DHW.columns[17:].isin(df_near_merge_TLS_DHW[\"surveydate\"]) == False]\n",
    "dates_to_keep = df_near_merge_TLS_DHW.columns[17:][df_near_merge_TLS_DHW.columns[17:].isin(df_near_merge_TLS_DHW[\"surveydate\"])]\n",
    "df_near_merge_TLS_SST.drop(columns = dates_to_drop,  inplace = True)\n",
    "df_near_merge_TLS_DHW.drop(columns = dates_to_drop,  inplace = True)"
   ]
  },
  {
   "cell_type": "code",
   "execution_count": null,
   "metadata": {},
   "outputs": [],
   "source": [
    "df_near_merge_TLS_DHW['DHW'] = df_near_merge_TLS_DHW.lookup(df_near_merge_TLS_DHW.index, df_near_merge_TLS_DHW['surveydate'].astype(str))\n",
    "df_near_merge_TLS_DHW.drop(columns = dates_to_keep,  inplace = True)\n",
    "df_near_merge_TLS_SST['SST'] = df_near_merge_TLS_SST.lookup(df_near_merge_TLS_SST.index, df_near_merge_TLS_SST['surveydate'].astype(str))\n",
    "df_near_merge_TLS_SST.drop(columns = dates_to_keep,  inplace = True)\n",
    "df_near_merge_TLS = df_near_merge_TLS_DHW.copy()\n",
    "df_near_merge_TLS[\"SST\"] = df_near_merge_TLS_SST['SST']\n",
    "df_near_merge_TLS.head(2)"
   ]
  },
  {
   "cell_type": "code",
   "execution_count": null,
   "metadata": {},
   "outputs": [],
   "source": [
    "# Solomon\n",
    "# Degree Heating week and SST\n",
    "DHW_SLB = pd.read_csv(\"../Data/Environmental_data/DHW/DHW_Indonesia.csv\")\n",
    "DHW_SLB = treat_SST_DHW(DHW_SLB, gdf_SLB)\n",
    "SST_SLB = pd.read_csv(\"../Data/Environmental_data/SST/SST_Solomon.csv\")\n",
    "SST_SLB = treat_SST_DHW(SST_SLB, gdf_SLB)"
   ]
  },
  {
   "cell_type": "code",
   "execution_count": null,
   "metadata": {},
   "outputs": [],
   "source": [
    "# Nothing in common for DHW and 11 for SST\n",
    "DHW_merged_SLB = gpd.sjoin(DHW_SLB, df_swap[df_swap[\"country\"] == \"SLB\"], how=\"inner\", op='intersects')\n",
    "print(\"DHW merged: \", DHW_merged_SLB.shape)\n",
    "SST_merged_SLB = gpd.sjoin(SST_SLB, df_swap[df_swap[\"country\"] == \"SLB\"], how=\"inner\", op='intersects')\n",
    "print(\"SST merged: \", SST_merged_SLB.shape)"
   ]
  },
  {
   "cell_type": "code",
   "execution_count": null,
   "metadata": {},
   "outputs": [],
   "source": [
    "# Same\n",
    "DHW_SLB.geometry = DHW_SLB['geometry'].centroid\n",
    "df_near_merge_SLB_DHW = dp.ckdnearest(df_swap[df_swap[\"country\"] == \"SLB\"], DHW_SLB)\n",
    "SST_SLB.geometry = SST_SLB['geometry'].centroid\n",
    "df_near_merge_SLB_SST = dp.ckdnearest(df_swap[df_swap[\"country\"] == \"SLB\"], SST_SLB)\n"
   ]
  },
  {
   "cell_type": "code",
   "execution_count": null,
   "metadata": {},
   "outputs": [],
   "source": [
    "# Same for both SST and DHW\n",
    "dates_to_drop = df_near_merge_SLB_DHW.columns[17:][df_near_merge_SLB_DHW.columns[17:].isin(df_near_merge_SLB_DHW[\"surveydate\"]) == False]\n",
    "dates_to_keep = df_near_merge_SLB_DHW.columns[17:][df_near_merge_SLB_DHW.columns[17:].isin(df_near_merge_SLB_DHW[\"surveydate\"])]\n",
    "df_near_merge_SLB_SST.drop(columns = dates_to_drop,  inplace = True)\n",
    "df_near_merge_SLB_DHW.drop(columns = dates_to_drop,  inplace = True)"
   ]
  },
  {
   "cell_type": "code",
   "execution_count": null,
   "metadata": {},
   "outputs": [],
   "source": [
    "df_near_merge_SLB_DHW['DHW'] = df_near_merge_SLB_DHW.lookup(df_near_merge_SLB_DHW.index, df_near_merge_SLB_DHW['surveydate'].astype(str))\n",
    "df_near_merge_SLB_DHW.drop(columns = dates_to_keep,  inplace = True)\n",
    "df_near_merge_SLB_SST['SST'] = df_near_merge_SLB_SST.lookup(df_near_merge_SLB_SST.index, df_near_merge_SLB_SST['surveydate'].astype(str))\n",
    "df_near_merge_SLB_SST.drop(columns = dates_to_keep,  inplace = True)\n",
    "df_near_merge_SLB = df_near_merge_SLB_DHW.copy()\n",
    "df_near_merge_SLB[\"SST\"] = df_near_merge_SLB_SST['SST']\n",
    "df_near_merge_SLB.head(2)"
   ]
  },
  {
   "cell_type": "code",
   "execution_count": null,
   "metadata": {},
   "outputs": [],
   "source": [
    "# Great Barrier Reef\n",
    "\n",
    "# Degree Heating week and SST\n",
    "DHW_GBR = pd.read_csv(\"../Data/Environmental_data/DHW/DHW_GBR.csv\")\n",
    "gdf_AUS[\"id\"] = gdf_AUS[\"id\"].str.replace('R', \"\").astype(int)\n",
    "DHW_GBR = treat_SST_DHW(DHW_GBR, gdf_AUS)\n",
    "SST_GBR = pd.read_csv(\"../Data/Environmental_data/SST/SST_GBR.csv\")\n",
    "SST_GBR = treat_SST_DHW(SST_GBR, gdf_AUS)\n"
   ]
  },
  {
   "cell_type": "code",
   "execution_count": null,
   "metadata": {},
   "outputs": [],
   "source": [
    "# 206 / 260 are merged within for the rest let us take the closest point\n",
    "DHW_merged_GBR = gpd.sjoin(df_swap[df_swap[\"country\"] == \"AUS\"],DHW_GBR,  how=\"inner\", op='intersects')\n",
    "SST_merged_GBR = gpd.sjoin(df_swap[df_swap[\"country\"] == \"AUS\"],SST_GBR, how=\"inner\", op='intersects')\n",
    "print(\"For GBR_DHW: \", DHW_merged_GBR.shape, \" in common\")\n",
    "print(\"For GBR_SST: \", SST_merged_GBR.shape, \" in common\")"
   ]
  },
  {
   "cell_type": "code",
   "execution_count": null,
   "metadata": {},
   "outputs": [],
   "source": [
    "temp_DHW = DHW_merged_GBR[DHW_merged_GBR.columns[:16]]\n",
    "temp_SST = SST_merged_GBR[SST_merged_GBR.columns[:16]]"
   ]
  },
  {
   "cell_type": "code",
   "execution_count": null,
   "metadata": {},
   "outputs": [],
   "source": [
    "df_diff_neig_DHW = pd.concat([temp_DHW,df_swap[df_swap[\"country\"] == \"AUS\"]]).drop_duplicates(keep=False)\n",
    "df_diff_neig_SST = pd.concat([temp_SST,df_swap[df_swap[\"country\"] == \"AUS\"]]).drop_duplicates(keep=False)"
   ]
  },
  {
   "cell_type": "code",
   "execution_count": null,
   "metadata": {},
   "outputs": [],
   "source": [
    "# Let us use anothgeometrystrategy. I will take the centroid of the polygon and estimate the closests neighbor\n",
    "DHW_GBR.geometry = DHW_GBR['geometry'].centroid\n",
    "df_near_DHW = dp.ckdnearest(df_diff_neig_DHW,DHW_GBR)\n",
    "\n",
    "# Let us use another strategy. I will take the centroid of the polygon and estimate the closests neighbor\n",
    "SST_GBR.geometry = SST_GBR['geometry'].centroid\n",
    "df_near_SST = dp.ckdnearest(df_diff_neig_SST,SST_GBR)\n"
   ]
  },
  {
   "cell_type": "code",
   "execution_count": null,
   "metadata": {},
   "outputs": [],
   "source": [
    "DHW_GBR_year = df_near_DHW.append(DHW_merged_GBR).drop(columns = \"dist\")\n",
    "SST_GBR_year = df_near_SST.append(SST_merged_GBR).drop(columns = \"dist\")\n",
    "SST_GBR_year.index = np.arange(260)\n",
    "DHW_GBR_year.index = np.arange(260)"
   ]
  },
  {
   "cell_type": "code",
   "execution_count": null,
   "metadata": {},
   "outputs": [],
   "source": [
    "# Same for both SST and DHW\n",
    "dates_to_drop = DHW_GBR_year.columns[17:][DHW_GBR_year.columns[17:].isin(DHW_GBR_year[\"surveydate\"]) == False]\n",
    "dates_to_keep = DHW_GBR_year.columns[17:][DHW_GBR_year.columns[17:].isin(DHW_GBR_year[\"surveydate\"])]\n",
    "SST_GBR_year.drop(columns = dates_to_drop,  inplace = True)\n",
    "DHW_GBR_year.drop(columns = dates_to_drop,  inplace = True)"
   ]
  },
  {
   "cell_type": "code",
   "execution_count": null,
   "metadata": {},
   "outputs": [],
   "source": [
    "DHW_GBR_year['DHW'] = DHW_GBR_year.lookup(DHW_GBR_year.index, DHW_GBR_year['surveydate'].astype(str))\n",
    "DHW_GBR_year.drop(columns = dates_to_keep,  inplace = True)\n",
    "SST_GBR_year['SST'] = SST_GBR_year.lookup(SST_GBR_year.index, SST_GBR_year['surveydate'].astype(str))\n",
    "SST_GBR_year.drop(columns = dates_to_keep,  inplace = True)\n",
    "df_near_merge_GBR = DHW_GBR_year.copy()\n",
    "df_near_merge_GBR[\"SST\"] = SST_GBR_year['SST']\n",
    "df_near_merge_GBR.head(2)"
   ]
  },
  {
   "cell_type": "code",
   "execution_count": null,
   "metadata": {},
   "outputs": [],
   "source": [
    "## Now combine all of them \n",
    "# df_near_merge_GBR, df_near_merge_SLB, df_near_merge_IDN, df_near_merge_TLS\n",
    "\n",
    "df_Survey_merged = pd.concat([df_near_merge_GBR,df_near_merge_SLB, df_near_merge_IDN, df_near_merge_TLS]).drop_duplicates(keep=False)\n",
    "print(\"Shape \",df_Survey_merged.shape)\n",
    "df_Survey_merged.head(3)"
   ]
  },
  {
   "cell_type": "code",
   "execution_count": null,
   "metadata": {},
   "outputs": [],
   "source": [
    "df_Survey_merged.to_csv(\"../Data/Environmental_data/merged_before_port.csv\", index = False)\n",
    "df_Survey_merged = pd.read_csv(\"../Data/Environmental_data/merged_before_port.csv\")\n",
    "\n",
    "dp.geo_loads(df_Survey_merged)\n",
    "df_Survey_merged = pf.make_geo_frame(df_Survey_merged)\n",
    "\n",
    "\n",
    "\n",
    "df_Survey_merged[\"geometry\"] = df_Survey_merged.geometry.map(lambda polygon: shapely.ops.transform(lambda x, y: (y, x), polygon))"
   ]
  },
  {
   "cell_type": "markdown",
   "metadata": {},
   "source": [
    "### PAR"
   ]
  },
  {
   "cell_type": "code",
   "execution_count": null,
   "metadata": {},
   "outputs": [],
   "source": [
    "df_PAR_paths = glob.glob(\"../Data/Environmental_data/PAR_month/requested_files/A20*\")"
   ]
  },
  {
   "cell_type": "code",
   "execution_count": null,
   "metadata": {},
   "outputs": [],
   "source": [
    "df_PAR = []\n",
    "def fetch_data_PAR(paths):\n",
    "    for i in range(len(df_PAR_paths)):\n",
    "        df_PAR.append(xr.open_dataset(paths[i]))\n",
    "    "
   ]
  },
  {
   "cell_type": "code",
   "execution_count": null,
   "metadata": {},
   "outputs": [],
   "source": [
    "fetch_data_PAR(df_PAR_paths)"
   ]
  },
  {
   "cell_type": "code",
   "execution_count": null,
   "metadata": {},
   "outputs": [],
   "source": [
    "def PAR_pre(ds_PAR_list, df, Survey_dates):\n",
    "    df_conc = []\n",
    "    i = 0\n",
    "    for date in Survey_dates:\n",
    "        ds_PAR_list[i] = ds_PAR_list[i].drop(labels = \"palette\")\n",
    "        df_part = df[df[\"surveydate\"] == date]\n",
    "        df1 = df_part.copy()\n",
    "        df1.set_index([\"lat\", \"lon\"],inplace = True)\n",
    "        xr_merged = xr.Dataset.from_dataframe(df1)\n",
    "        # Keep interesting lat/long\n",
    "        \n",
    "        long_ = [xr_merged[\"lon\"].values]\n",
    "        latg_ = [xr_merged[\"lat\"].values]\n",
    "        \n",
    "        df_par_near = ds_PAR_list[i].sel(lon=long_[0], lat=latg_[0], method='nearest')\n",
    "        same_coord = df_par_near.assign_coords(lon = long_[0], lat = latg_[0])\n",
    "        xr_merged_ = xr_merged.merge(same_coord, join = \"inner\")\n",
    "        \n",
    "        df_frame = xr_merged_.to_dataframe()\n",
    "        df_ = df_frame.dropna().reset_index()\n",
    "        df_conc.append(df_)\n",
    "        i = i + 1\n",
    "    return pd.concat(df_conc)\n",
    "        "
   ]
  },
  {
   "cell_type": "code",
   "execution_count": null,
   "metadata": {},
   "outputs": [],
   "source": [
    "Survey_dates=df_Survey_merged[\"surveydate\"].unique()"
   ]
  },
  {
   "cell_type": "code",
   "execution_count": null,
   "metadata": {},
   "outputs": [],
   "source": [
    "\n",
    "\n",
    "df_Survey_PAR = PAR_pre(df_PAR, df_Survey_merged, Survey_dates)"
   ]
  },
  {
   "cell_type": "code",
   "execution_count": 11,
   "metadata": {},
   "outputs": [],
   "source": [
    "#df_Survey_PAR.to_csv(\"../Data/Environmental_data/df_env_merged_par.csv\", index = False)\n",
    "df_Survey_merged = pd.read_csv(\"../Data/Environmental_data/df_env_merged_par.csv\")\n",
    "dp.geo_loads(df_Survey_merged)\n",
    "df_Survey_merged = pf.make_geo_frame(df_Survey_merged)"
   ]
  },
  {
   "cell_type": "markdown",
   "metadata": {},
   "source": [
    "## Distance to port"
   ]
  },
  {
   "cell_type": "code",
   "execution_count": 13,
   "metadata": {},
   "outputs": [],
   "source": [
    "# The file is already translated\n",
    "#inputfile = '../Data/Anthropological_data/Port/distance-from-port-v1.tiff'\n",
    "#outputfile = '../Data/Anthropological_data/Port/distance-from-port.nc'\n",
    "# The following command will convert the geoTIFF to a netCDF\n",
    "#ds = gdal.Translate(outputfile, inputfile, format='NetCDF')\n",
    "\n",
    "ds_port_dist = xr.open_dataset(\"../Data/Anthropological_data/Port/distance-from-port.nc\")"
   ]
  },
  {
   "cell_type": "code",
   "execution_count": 14,
   "metadata": {},
   "outputs": [],
   "source": [
    "# Bounds of coordinates for Pacific\n",
    "latbounds = [-24, 4]\n",
    "lonbounds = [110, 160]\n",
    "lats = ds_port_dist.variables[\"lat\"][:]\n",
    "lons = ds_port_dist.variables[\"lon\"][:]\n",
    "# latitude lower and upper index\n",
    "latli = np.argmin( np.abs( lats - latbounds[0] ).values )\n",
    "latui = np.argmin( np.abs( lats - latbounds[1] ).values ) \n",
    "# longitude lower and upper index\n",
    "lonli = np.argmin( np.abs( lons - lonbounds[0] ).values )\n",
    "lonui = np.argmin( np.abs( lons - lonbounds[1] ).values )  \n",
    "\n",
    "\n"
   ]
  },
  {
   "cell_type": "code",
   "execution_count": 15,
   "metadata": {},
   "outputs": [],
   "source": [
    "# Subset for the given coordinates\n",
    "PortSubset = ds_port_dist.variables['Band1'][latli:latui , lonli:lonui ] \n",
    "\n",
    "# Dataset with the chlor amongst the different coordinates\n",
    "ds_sub_port = xr.Dataset(data_vars={\"Port_dist\": PortSubset}, coords = {\"lon\":ds_port_dist[\"lon\"][lonli:lonui], \"lat\": ds_port_dist[\"lat\"][latli:latui]})\n",
    "\n",
    "df_port = ds_sub_port.to_dataframe()\n",
    "\n",
    "\n",
    "df_port.reset_index(inplace = True)\n",
    "\n",
    "\n",
    "# remove the Nan values, so that it automatically takes the other ones that are closest\n",
    "df_port = df_port.dropna(axis = 0)\n",
    "\n",
    "\n",
    "gdf_port = gpd.GeoDataFrame(df_port, geometry=gpd.points_from_xy(df_port.lat, df_port.lon))\n",
    "\n"
   ]
  },
  {
   "cell_type": "code",
   "execution_count": 16,
   "metadata": {},
   "outputs": [],
   "source": [
    "gdf_port.drop(columns = [\"lat\", \"lon\"], inplace = True)"
   ]
  },
  {
   "cell_type": "code",
   "execution_count": 17,
   "metadata": {},
   "outputs": [],
   "source": [
    "Closest_port = dp.nearest_neighbor(df_Survey_merged, gdf_port, return_dist=True)"
   ]
  },
  {
   "cell_type": "code",
   "execution_count": null,
   "metadata": {},
   "outputs": [],
   "source": [
    "df_Survey_merged[\"closest_port\"] = Closest_port[\"distance\"]\n",
    "\n",
    "df_Survey_merged.to_csv(\"../Data/Environmental_data/df_env_merged.csv\", index = False)\n",
    "\n",
    "df_Survey_merged = pd.read_csv(\"../Data/Environmental_data/df_env_merged.csv\")"
   ]
  }
 ],
 "metadata": {
  "kernelspec": {
   "display_name": "Python 3",
   "language": "python",
   "name": "python3"
  },
  "language_info": {
   "codemirror_mode": {
    "name": "ipython",
    "version": 3
   },
   "file_extension": ".py",
   "mimetype": "text/x-python",
   "name": "python",
   "nbconvert_exporter": "python",
   "pygments_lexer": "ipython3",
   "version": "3.8.5"
  }
 },
 "nbformat": 4,
 "nbformat_minor": 4
}
