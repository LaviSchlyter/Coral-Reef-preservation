{
 "cells": [
  {
   "cell_type": "code",
   "execution_count": 6,
   "id": "accredited-cache",
   "metadata": {},
   "outputs": [
    {
     "name": "stderr",
     "output_type": "stream",
     "text": [
      "2021-03-08 17:59:44,474 INFO Welcome to the CDS\n",
      "2021-03-08 17:59:44,474 INFO Sending request to https://cds.climate.copernicus.eu/api/v2/resources/insitu-glaciers-elevation-mass\n",
      "2021-03-08 17:59:44,574 INFO Request is completed\n",
      "2021-03-08 17:59:44,577 INFO Downloading https://download-0013.copernicus-climate.eu/cache-compute-0013/cache/data7/dataset-insitu-glaciers-elevation-mass-5de1d6c7-6c0e-4ed3-af5e-0aadb7db3cc1.tar.gz to download.tar.gz (189.4K)\n",
      "2021-03-08 17:59:44,908 INFO Download rate 575.7K/s\n"
     ]
    },
    {
     "data": {
      "text/plain": [
       "Result(content_length=193989,content_type=application/gzip,location=https://download-0013.copernicus-climate.eu/cache-compute-0013/cache/data7/dataset-insitu-glaciers-elevation-mass-5de1d6c7-6c0e-4ed3-af5e-0aadb7db3cc1.tar.gz)"
      ]
     },
     "execution_count": 6,
     "metadata": {},
     "output_type": "execute_result"
    }
   ],
   "source": [
    "import cdsapi\n",
    "c = cdsapi.Client()\n",
    "\n",
    "\n",
    "c.retrieve(\"insitu-glaciers-elevation-mass\",\n",
    "{\n",
    "\"variable\": \"all\",\n",
    "\"product_type\": \"elevation_change\",\n",
    "\"file_version\": \"20170405\",\n",
    "\"format\": \"tgz\"\n",
    "},\n",
    "\"download.tar.gz\")"
   ]
  },
  {
   "cell_type": "code",
   "execution_count": null,
   "id": "lesbian-action",
   "metadata": {},
   "outputs": [],
   "source": [
    "# Copernicus api"
   ]
  },
  {
   "cell_type": "code",
   "execution_count": null,
   "id": "acoustic-guinea",
   "metadata": {},
   "outputs": [],
   "source": []
  }
 ],
 "metadata": {
  "kernelspec": {
   "display_name": "Python 3",
   "language": "python",
   "name": "python3"
  },
  "language_info": {
   "codemirror_mode": {
    "name": "ipython",
    "version": 3
   },
   "file_extension": ".py",
   "mimetype": "text/x-python",
   "name": "python",
   "nbconvert_exporter": "python",
   "pygments_lexer": "ipython3",
   "version": "3.8.5"
  }
 },
 "nbformat": 4,
 "nbformat_minor": 5
}
